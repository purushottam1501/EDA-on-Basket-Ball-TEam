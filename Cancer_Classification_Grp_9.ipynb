{
  "cells": [
    {
      "cell_type": "markdown",
      "metadata": {
        "id": "view-in-github",
        "colab_type": "text"
      },
      "source": [
        "<a href=\"https://colab.research.google.com/github/purushottam1501/EDA-on-Basket-Ball-TEam/blob/main/Cancer_Classification_Grp_9.ipynb\" target=\"_parent\"><img src=\"https://colab.research.google.com/assets/colab-badge.svg\" alt=\"Open In Colab\"/></a>"
      ]
    },
    {
      "cell_type": "markdown",
      "id": "ed2883c2",
      "metadata": {
        "id": "ed2883c2"
      },
      "source": [
        "# JAGSoM"
      ]
    },
    {
      "cell_type": "markdown",
      "id": "62fc0983",
      "metadata": {
        "id": "62fc0983"
      },
      "source": [
        "# `GROUP 9` ____________________________ ` CANCER CLASSIFICATION`                                            "
      ]
    },
    {
      "cell_type": "markdown",
      "id": "6d51bf75",
      "metadata": {
        "id": "6d51bf75"
      },
      "source": [
        "```Group Name   Name                Roll Number\n",
        "    9          Vaibhav Joshi        2022JULB01010\n",
        "    9          Yash Jaiswal         2022JULB01102\n",
        "    9          Abhishek Soni        2022JULB08009\n",
        "    9          Purushottam Kumar    2022SEPVPGP0022\n",
        "    9          Guvvala Sai Shruthi  2022SEPVPGP0025\n",
        "    9          Dadhichy Kar         2022JULB01027```"
      ]
    },
    {
      "cell_type": "markdown",
      "id": "fd36212b",
      "metadata": {
        "id": "fd36212b"
      },
      "source": [
        "`Problem Statement`\n",
        "The problem at hand involves the classification of biomedical text documents related to cancer research. The dataset comprises documents with unique IDs, cancer-type labels, and corresponding text content. The primary objective is to develop a robust classification model that can accurately categorize these cancer-related documents into one of three specific categories: 'Thyroid Cancer,' 'Colon Cancer,' and 'Lung Cancer.' The dataset contains a total of 7,569 publications, and the distribution of samples across the three categories is as follows: 2,579 for colon cancer, 2,180 for lung cancer, and 2,810 for thyroid cancer."
      ]
    },
    {
      "cell_type": "markdown",
      "id": "e5f6b212",
      "metadata": {
        "id": "e5f6b212"
      },
      "source": [
        "`Dataset`\n",
        "The dataset consists of cancer-related research papers. This dataset specifically concentrates on longer research papers with page sizes exceeding 6 pages. Each data entry is characterized by an ID, the type of cancer it pertains to, and the text content of the research page."
      ]
    },
    {
      "cell_type": "markdown",
      "id": "efe198df",
      "metadata": {
        "id": "efe198df"
      },
      "source": [
        "`Variables`\n",
        "```1. ID: A unique identifier for each document.\n",
        "2. Cancer: The class label indicating the type of cancer the document is related to (Thyroid Cancer, Colon Cancer, or Lung Cancer).\n",
        "3. Text: The textual content of the research paper.```\n",
        "```Dependent and Independent Variables:\n",
        "In this classification problem, the dependent variable is the 'Cancer' label, while the independent variable is the 'Text' content of the research paper. The task involves training a model to predict the 'Cancer' label based on the textual features present in the document.```"
      ]
    },
    {
      "cell_type": "code",
      "execution_count": 25,
      "id": "b4919455",
      "metadata": {
        "id": "b4919455"
      },
      "outputs": [],
      "source": [
        "import pandas as pd\n",
        "from sklearn.neighbors import KNeighborsClassifier"
      ]
    },
    {
      "cell_type": "code",
      "execution_count": 26,
      "id": "ec0bd9c6",
      "metadata": {
        "id": "ec0bd9c6"
      },
      "outputs": [],
      "source": [
        "import requests\n",
        "from bs4 import BeautifulSoup\n",
        "import matplotlib.pyplot as plt\n",
        "import seaborn as sns\n",
        "import os\n",
        "\n",
        "%matplotlib inline"
      ]
    },
    {
      "cell_type": "code",
      "execution_count": 27,
      "id": "2c014583",
      "metadata": {
        "id": "2c014583"
      },
      "outputs": [],
      "source": [
        "import numpy as np"
      ]
    },
    {
      "cell_type": "code",
      "execution_count": 28,
      "id": "1346801c",
      "metadata": {
        "id": "1346801c"
      },
      "outputs": [],
      "source": [
        "from sklearn.feature_extraction.text import CountVectorizer\n",
        "toNumeric = CountVectorizer()"
      ]
    },
    {
      "cell_type": "code",
      "execution_count": 29,
      "id": "ede1409e",
      "metadata": {
        "id": "ede1409e"
      },
      "outputs": [],
      "source": [
        "df = pd.read_csv('Cancer_Data_Set.csv', encoding='latin1')"
      ]
    },
    {
      "cell_type": "code",
      "execution_count": 30,
      "id": "3c6c41bc",
      "metadata": {
        "scrolled": true,
        "colab": {
          "base_uri": "https://localhost:8080/",
          "height": 206
        },
        "id": "3c6c41bc",
        "outputId": "c510918a-24c4-43b2-d5a0-f425cd56efcd"
      },
      "outputs": [
        {
          "output_type": "execute_result",
          "data": {
            "text/plain": [
              "   Id          Cancer                                               Text\n",
              "0   0  Thyroid_Cancer  Thyroid surgery in  children in a single insti...\n",
              "1   1  Thyroid_Cancer  \" The adopted strategy was the same as that us...\n",
              "2   2  Thyroid_Cancer  coronary arterybypass grafting thrombosis ï¬b...\n",
              "3   3  Thyroid_Cancer   Solitary plasmacytoma SP of the skull is an u...\n",
              "4   4  Thyroid_Cancer   This study aimed to investigate serum matrix ..."
            ],
            "text/html": [
              "\n",
              "  <div id=\"df-ea28e3f5-b3c0-4ec3-8596-044ad137d9ae\" class=\"colab-df-container\">\n",
              "    <div>\n",
              "<style scoped>\n",
              "    .dataframe tbody tr th:only-of-type {\n",
              "        vertical-align: middle;\n",
              "    }\n",
              "\n",
              "    .dataframe tbody tr th {\n",
              "        vertical-align: top;\n",
              "    }\n",
              "\n",
              "    .dataframe thead th {\n",
              "        text-align: right;\n",
              "    }\n",
              "</style>\n",
              "<table border=\"1\" class=\"dataframe\">\n",
              "  <thead>\n",
              "    <tr style=\"text-align: right;\">\n",
              "      <th></th>\n",
              "      <th>Id</th>\n",
              "      <th>Cancer</th>\n",
              "      <th>Text</th>\n",
              "    </tr>\n",
              "  </thead>\n",
              "  <tbody>\n",
              "    <tr>\n",
              "      <th>0</th>\n",
              "      <td>0</td>\n",
              "      <td>Thyroid_Cancer</td>\n",
              "      <td>Thyroid surgery in  children in a single insti...</td>\n",
              "    </tr>\n",
              "    <tr>\n",
              "      <th>1</th>\n",
              "      <td>1</td>\n",
              "      <td>Thyroid_Cancer</td>\n",
              "      <td>\" The adopted strategy was the same as that us...</td>\n",
              "    </tr>\n",
              "    <tr>\n",
              "      <th>2</th>\n",
              "      <td>2</td>\n",
              "      <td>Thyroid_Cancer</td>\n",
              "      <td>coronary arterybypass grafting thrombosis ï¬b...</td>\n",
              "    </tr>\n",
              "    <tr>\n",
              "      <th>3</th>\n",
              "      <td>3</td>\n",
              "      <td>Thyroid_Cancer</td>\n",
              "      <td>Solitary plasmacytoma SP of the skull is an u...</td>\n",
              "    </tr>\n",
              "    <tr>\n",
              "      <th>4</th>\n",
              "      <td>4</td>\n",
              "      <td>Thyroid_Cancer</td>\n",
              "      <td>This study aimed to investigate serum matrix ...</td>\n",
              "    </tr>\n",
              "  </tbody>\n",
              "</table>\n",
              "</div>\n",
              "    <div class=\"colab-df-buttons\">\n",
              "\n",
              "  <div class=\"colab-df-container\">\n",
              "    <button class=\"colab-df-convert\" onclick=\"convertToInteractive('df-ea28e3f5-b3c0-4ec3-8596-044ad137d9ae')\"\n",
              "            title=\"Convert this dataframe to an interactive table.\"\n",
              "            style=\"display:none;\">\n",
              "\n",
              "  <svg xmlns=\"http://www.w3.org/2000/svg\" height=\"24px\" viewBox=\"0 -960 960 960\">\n",
              "    <path d=\"M120-120v-720h720v720H120Zm60-500h600v-160H180v160Zm220 220h160v-160H400v160Zm0 220h160v-160H400v160ZM180-400h160v-160H180v160Zm440 0h160v-160H620v160ZM180-180h160v-160H180v160Zm440 0h160v-160H620v160Z\"/>\n",
              "  </svg>\n",
              "    </button>\n",
              "\n",
              "  <style>\n",
              "    .colab-df-container {\n",
              "      display:flex;\n",
              "      gap: 12px;\n",
              "    }\n",
              "\n",
              "    .colab-df-convert {\n",
              "      background-color: #E8F0FE;\n",
              "      border: none;\n",
              "      border-radius: 50%;\n",
              "      cursor: pointer;\n",
              "      display: none;\n",
              "      fill: #1967D2;\n",
              "      height: 32px;\n",
              "      padding: 0 0 0 0;\n",
              "      width: 32px;\n",
              "    }\n",
              "\n",
              "    .colab-df-convert:hover {\n",
              "      background-color: #E2EBFA;\n",
              "      box-shadow: 0px 1px 2px rgba(60, 64, 67, 0.3), 0px 1px 3px 1px rgba(60, 64, 67, 0.15);\n",
              "      fill: #174EA6;\n",
              "    }\n",
              "\n",
              "    .colab-df-buttons div {\n",
              "      margin-bottom: 4px;\n",
              "    }\n",
              "\n",
              "    [theme=dark] .colab-df-convert {\n",
              "      background-color: #3B4455;\n",
              "      fill: #D2E3FC;\n",
              "    }\n",
              "\n",
              "    [theme=dark] .colab-df-convert:hover {\n",
              "      background-color: #434B5C;\n",
              "      box-shadow: 0px 1px 3px 1px rgba(0, 0, 0, 0.15);\n",
              "      filter: drop-shadow(0px 1px 2px rgba(0, 0, 0, 0.3));\n",
              "      fill: #FFFFFF;\n",
              "    }\n",
              "  </style>\n",
              "\n",
              "    <script>\n",
              "      const buttonEl =\n",
              "        document.querySelector('#df-ea28e3f5-b3c0-4ec3-8596-044ad137d9ae button.colab-df-convert');\n",
              "      buttonEl.style.display =\n",
              "        google.colab.kernel.accessAllowed ? 'block' : 'none';\n",
              "\n",
              "      async function convertToInteractive(key) {\n",
              "        const element = document.querySelector('#df-ea28e3f5-b3c0-4ec3-8596-044ad137d9ae');\n",
              "        const dataTable =\n",
              "          await google.colab.kernel.invokeFunction('convertToInteractive',\n",
              "                                                    [key], {});\n",
              "        if (!dataTable) return;\n",
              "\n",
              "        const docLinkHtml = 'Like what you see? Visit the ' +\n",
              "          '<a target=\"_blank\" href=https://colab.research.google.com/notebooks/data_table.ipynb>data table notebook</a>'\n",
              "          + ' to learn more about interactive tables.';\n",
              "        element.innerHTML = '';\n",
              "        dataTable['output_type'] = 'display_data';\n",
              "        await google.colab.output.renderOutput(dataTable, element);\n",
              "        const docLink = document.createElement('div');\n",
              "        docLink.innerHTML = docLinkHtml;\n",
              "        element.appendChild(docLink);\n",
              "      }\n",
              "    </script>\n",
              "  </div>\n",
              "\n",
              "\n",
              "<div id=\"df-4012d459-d5bc-49bd-8ddb-a4364a082a5c\">\n",
              "  <button class=\"colab-df-quickchart\" onclick=\"quickchart('df-4012d459-d5bc-49bd-8ddb-a4364a082a5c')\"\n",
              "            title=\"Suggest charts.\"\n",
              "            style=\"display:none;\">\n",
              "\n",
              "<svg xmlns=\"http://www.w3.org/2000/svg\" height=\"24px\"viewBox=\"0 0 24 24\"\n",
              "     width=\"24px\">\n",
              "    <g>\n",
              "        <path d=\"M19 3H5c-1.1 0-2 .9-2 2v14c0 1.1.9 2 2 2h14c1.1 0 2-.9 2-2V5c0-1.1-.9-2-2-2zM9 17H7v-7h2v7zm4 0h-2V7h2v10zm4 0h-2v-4h2v4z\"/>\n",
              "    </g>\n",
              "</svg>\n",
              "  </button>\n",
              "\n",
              "<style>\n",
              "  .colab-df-quickchart {\n",
              "      --bg-color: #E8F0FE;\n",
              "      --fill-color: #1967D2;\n",
              "      --hover-bg-color: #E2EBFA;\n",
              "      --hover-fill-color: #174EA6;\n",
              "      --disabled-fill-color: #AAA;\n",
              "      --disabled-bg-color: #DDD;\n",
              "  }\n",
              "\n",
              "  [theme=dark] .colab-df-quickchart {\n",
              "      --bg-color: #3B4455;\n",
              "      --fill-color: #D2E3FC;\n",
              "      --hover-bg-color: #434B5C;\n",
              "      --hover-fill-color: #FFFFFF;\n",
              "      --disabled-bg-color: #3B4455;\n",
              "      --disabled-fill-color: #666;\n",
              "  }\n",
              "\n",
              "  .colab-df-quickchart {\n",
              "    background-color: var(--bg-color);\n",
              "    border: none;\n",
              "    border-radius: 50%;\n",
              "    cursor: pointer;\n",
              "    display: none;\n",
              "    fill: var(--fill-color);\n",
              "    height: 32px;\n",
              "    padding: 0;\n",
              "    width: 32px;\n",
              "  }\n",
              "\n",
              "  .colab-df-quickchart:hover {\n",
              "    background-color: var(--hover-bg-color);\n",
              "    box-shadow: 0 1px 2px rgba(60, 64, 67, 0.3), 0 1px 3px 1px rgba(60, 64, 67, 0.15);\n",
              "    fill: var(--button-hover-fill-color);\n",
              "  }\n",
              "\n",
              "  .colab-df-quickchart-complete:disabled,\n",
              "  .colab-df-quickchart-complete:disabled:hover {\n",
              "    background-color: var(--disabled-bg-color);\n",
              "    fill: var(--disabled-fill-color);\n",
              "    box-shadow: none;\n",
              "  }\n",
              "\n",
              "  .colab-df-spinner {\n",
              "    border: 2px solid var(--fill-color);\n",
              "    border-color: transparent;\n",
              "    border-bottom-color: var(--fill-color);\n",
              "    animation:\n",
              "      spin 1s steps(1) infinite;\n",
              "  }\n",
              "\n",
              "  @keyframes spin {\n",
              "    0% {\n",
              "      border-color: transparent;\n",
              "      border-bottom-color: var(--fill-color);\n",
              "      border-left-color: var(--fill-color);\n",
              "    }\n",
              "    20% {\n",
              "      border-color: transparent;\n",
              "      border-left-color: var(--fill-color);\n",
              "      border-top-color: var(--fill-color);\n",
              "    }\n",
              "    30% {\n",
              "      border-color: transparent;\n",
              "      border-left-color: var(--fill-color);\n",
              "      border-top-color: var(--fill-color);\n",
              "      border-right-color: var(--fill-color);\n",
              "    }\n",
              "    40% {\n",
              "      border-color: transparent;\n",
              "      border-right-color: var(--fill-color);\n",
              "      border-top-color: var(--fill-color);\n",
              "    }\n",
              "    60% {\n",
              "      border-color: transparent;\n",
              "      border-right-color: var(--fill-color);\n",
              "    }\n",
              "    80% {\n",
              "      border-color: transparent;\n",
              "      border-right-color: var(--fill-color);\n",
              "      border-bottom-color: var(--fill-color);\n",
              "    }\n",
              "    90% {\n",
              "      border-color: transparent;\n",
              "      border-bottom-color: var(--fill-color);\n",
              "    }\n",
              "  }\n",
              "</style>\n",
              "\n",
              "  <script>\n",
              "    async function quickchart(key) {\n",
              "      const quickchartButtonEl =\n",
              "        document.querySelector('#' + key + ' button');\n",
              "      quickchartButtonEl.disabled = true;  // To prevent multiple clicks.\n",
              "      quickchartButtonEl.classList.add('colab-df-spinner');\n",
              "      try {\n",
              "        const charts = await google.colab.kernel.invokeFunction(\n",
              "            'suggestCharts', [key], {});\n",
              "      } catch (error) {\n",
              "        console.error('Error during call to suggestCharts:', error);\n",
              "      }\n",
              "      quickchartButtonEl.classList.remove('colab-df-spinner');\n",
              "      quickchartButtonEl.classList.add('colab-df-quickchart-complete');\n",
              "    }\n",
              "    (() => {\n",
              "      let quickchartButtonEl =\n",
              "        document.querySelector('#df-4012d459-d5bc-49bd-8ddb-a4364a082a5c button');\n",
              "      quickchartButtonEl.style.display =\n",
              "        google.colab.kernel.accessAllowed ? 'block' : 'none';\n",
              "    })();\n",
              "  </script>\n",
              "</div>\n",
              "    </div>\n",
              "  </div>\n"
            ]
          },
          "metadata": {},
          "execution_count": 30
        }
      ],
      "source": [
        "df.head()"
      ]
    },
    {
      "cell_type": "code",
      "execution_count": 31,
      "id": "507c326f",
      "metadata": {
        "colab": {
          "base_uri": "https://localhost:8080/"
        },
        "id": "507c326f",
        "outputId": "b933e8f3-c090-4cf8-98f4-b8503916fcd0"
      },
      "outputs": [
        {
          "output_type": "execute_result",
          "data": {
            "text/plain": [
              "(7414, 3)"
            ]
          },
          "metadata": {},
          "execution_count": 31
        }
      ],
      "source": [
        "df.shape"
      ]
    },
    {
      "cell_type": "markdown",
      "id": "d265b24d",
      "metadata": {
        "id": "d265b24d"
      },
      "source": [
        "There are 7570 rows and 3 columns."
      ]
    },
    {
      "cell_type": "code",
      "execution_count": 32,
      "id": "f951b080",
      "metadata": {
        "colab": {
          "base_uri": "https://localhost:8080/"
        },
        "id": "f951b080",
        "outputId": "ddb62e04-c4f7-4c84-f1ae-12895cb4fc9b"
      },
      "outputs": [
        {
          "output_type": "stream",
          "name": "stdout",
          "text": [
            "<class 'pandas.core.frame.DataFrame'>\n",
            "RangeIndex: 7414 entries, 0 to 7413\n",
            "Data columns (total 3 columns):\n",
            " #   Column  Non-Null Count  Dtype \n",
            "---  ------  --------------  ----- \n",
            " 0   Id      7414 non-null   int64 \n",
            " 1   Cancer  7414 non-null   object\n",
            " 2   Text    7414 non-null   object\n",
            "dtypes: int64(1), object(2)\n",
            "memory usage: 173.9+ KB\n"
          ]
        }
      ],
      "source": [
        "df.info()"
      ]
    },
    {
      "cell_type": "code",
      "execution_count": 33,
      "id": "449d7661",
      "metadata": {
        "colab": {
          "base_uri": "https://localhost:8080/"
        },
        "id": "449d7661",
        "outputId": "30ad1945-8d93-4730-f906-b66c40d68e02"
      },
      "outputs": [
        {
          "output_type": "stream",
          "name": "stdout",
          "text": [
            "Thyroid_Cancer    2810\n",
            "Colon_Cancer      2424\n",
            "Lung_Cancer       2180\n",
            "Name: Cancer, dtype: int64\n"
          ]
        }
      ],
      "source": [
        "# Count the classifications in the 'Cancer' column\n",
        "classification_counts = df['Cancer'].value_counts()\n",
        "\n",
        "# Display the counts\n",
        "print(classification_counts)\n"
      ]
    },
    {
      "cell_type": "markdown",
      "id": "fc3e8bec",
      "metadata": {
        "id": "fc3e8bec"
      },
      "source": [
        "`There are 2810 Thyroid, 2580 Colon and 2180 Lung Cancer`"
      ]
    },
    {
      "cell_type": "markdown",
      "id": "0aab9857",
      "metadata": {
        "id": "0aab9857"
      },
      "source": [
        "# Label"
      ]
    },
    {
      "cell_type": "code",
      "execution_count": 34,
      "id": "e97b50c5",
      "metadata": {
        "id": "e97b50c5"
      },
      "outputs": [],
      "source": [
        "# Target variable 'label' is categorical. Convert it into numeric value\n",
        "df['Cancer'] = df['Cancer'].map({'Thyroid_Cancer': 0, 'Colon_Cancer': 1, 'Lung_Cancer': 2})"
      ]
    },
    {
      "cell_type": "code",
      "execution_count": 35,
      "id": "e1fbe01d",
      "metadata": {
        "scrolled": false,
        "colab": {
          "base_uri": "https://localhost:8080/"
        },
        "id": "e1fbe01d",
        "outputId": "ba7067e1-d7c3-4742-89b1-fed7a09825a9"
      },
      "outputs": [
        {
          "output_type": "execute_result",
          "data": {
            "text/plain": [
              "0    2810\n",
              "1    2424\n",
              "2    2180\n",
              "Name: Cancer, dtype: int64"
            ]
          },
          "metadata": {},
          "execution_count": 35
        }
      ],
      "source": [
        "df.Cancer.value_counts()"
      ]
    },
    {
      "cell_type": "markdown",
      "id": "6ec90950",
      "metadata": {
        "id": "6ec90950"
      },
      "source": [
        "# Preprocessing"
      ]
    },
    {
      "cell_type": "code",
      "execution_count": 36,
      "id": "775e6f73",
      "metadata": {
        "scrolled": true,
        "colab": {
          "base_uri": "https://localhost:8080/"
        },
        "id": "775e6f73",
        "outputId": "59fd60b7-9e91-47c8-ed45-baec18ac4620"
      },
      "outputs": [
        {
          "output_type": "stream",
          "name": "stdout",
          "text": [
            "Requirement already satisfied: scipy in /usr/local/lib/python3.10/dist-packages (1.10.1)\n",
            "Requirement already satisfied: numpy<1.27.0,>=1.19.5 in /usr/local/lib/python3.10/dist-packages (from scipy) (1.23.5)\n"
          ]
        }
      ],
      "source": [
        "pip install scipy"
      ]
    },
    {
      "cell_type": "code",
      "execution_count": 37,
      "id": "1f1aec78",
      "metadata": {
        "id": "1f1aec78"
      },
      "outputs": [],
      "source": [
        "import scipy\n",
        "import nltk\n",
        "from nltk.tokenize.toktok import ToktokTokenizer\n",
        "import re\n",
        "import unicodedata"
      ]
    },
    {
      "cell_type": "code",
      "execution_count": 38,
      "id": "95394f73",
      "metadata": {
        "scrolled": true,
        "colab": {
          "base_uri": "https://localhost:8080/"
        },
        "id": "95394f73",
        "outputId": "7d679742-e019-487a-932c-0f8da3cc0089"
      },
      "outputs": [
        {
          "output_type": "stream",
          "name": "stderr",
          "text": [
            "[nltk_data] Downloading package stopwords to /root/nltk_data...\n",
            "[nltk_data]   Unzipping corpora/stopwords.zip.\n"
          ]
        },
        {
          "output_type": "execute_result",
          "data": {
            "text/plain": [
              "True"
            ]
          },
          "metadata": {},
          "execution_count": 38
        }
      ],
      "source": [
        "nltk.download('stopwords')"
      ]
    },
    {
      "cell_type": "code",
      "execution_count": 39,
      "id": "6c8eba13",
      "metadata": {
        "id": "6c8eba13"
      },
      "outputs": [],
      "source": [
        "tokenizer = ToktokTokenizer()\n",
        "stopword_list = nltk.corpus.stopwords.words('english')\n",
        "stopword_list.remove('no')\n",
        "stopword_list.remove('not')"
      ]
    },
    {
      "cell_type": "code",
      "execution_count": 40,
      "id": "75972a45",
      "metadata": {
        "colab": {
          "base_uri": "https://localhost:8080/"
        },
        "id": "75972a45",
        "outputId": "678bf10c-d414-4952-93dc-54fff76fb711"
      },
      "outputs": [
        {
          "output_type": "stream",
          "name": "stdout",
          "text": [
            "Collecting unidecode\n",
            "  Downloading Unidecode-1.3.6-py3-none-any.whl (235 kB)\n",
            "\u001b[2K     \u001b[90m━━━━━━━━━━━━━━━━━━━━━━━━━━━━━━━━━━━━━━━\u001b[0m \u001b[32m235.9/235.9 kB\u001b[0m \u001b[31m2.3 MB/s\u001b[0m eta \u001b[36m0:00:00\u001b[0m\n",
            "\u001b[?25hInstalling collected packages: unidecode\n",
            "Successfully installed unidecode-1.3.6\n"
          ]
        }
      ],
      "source": [
        "pip install unidecode"
      ]
    },
    {
      "cell_type": "code",
      "execution_count": 41,
      "id": "43be7d18",
      "metadata": {
        "id": "43be7d18"
      },
      "outputs": [],
      "source": [
        "import nltk"
      ]
    },
    {
      "cell_type": "code",
      "execution_count": 42,
      "id": "d83f84f6",
      "metadata": {
        "scrolled": false,
        "colab": {
          "base_uri": "https://localhost:8080/"
        },
        "id": "d83f84f6",
        "outputId": "33deaa47-084a-41f5-9003-04c8a0fc9034"
      },
      "outputs": [
        {
          "output_type": "stream",
          "name": "stdout",
          "text": [
            "Requirement already satisfied: nltk in /usr/local/lib/python3.10/dist-packages (3.8.1)\n",
            "Requirement already satisfied: click in /usr/local/lib/python3.10/dist-packages (from nltk) (8.1.7)\n",
            "Requirement already satisfied: joblib in /usr/local/lib/python3.10/dist-packages (from nltk) (1.3.2)\n",
            "Requirement already satisfied: regex>=2021.8.3 in /usr/local/lib/python3.10/dist-packages (from nltk) (2023.6.3)\n",
            "Requirement already satisfied: tqdm in /usr/local/lib/python3.10/dist-packages (from nltk) (4.66.1)\n"
          ]
        }
      ],
      "source": [
        "pip install nltk"
      ]
    },
    {
      "cell_type": "markdown",
      "id": "c4f359f4",
      "metadata": {
        "id": "c4f359f4"
      },
      "source": [
        "# Removing HTML Tag"
      ]
    },
    {
      "cell_type": "code",
      "execution_count": 43,
      "id": "6133a923",
      "metadata": {
        "colab": {
          "base_uri": "https://localhost:8080/"
        },
        "id": "6133a923",
        "outputId": "e621cffc-16cf-439e-f21f-def2e45f2ff2"
      },
      "outputs": [
        {
          "output_type": "stream",
          "name": "stdout",
          "text": [
            "0       Thyroid surgery in  children in a single insti...\n",
            "1       \" The adopted strategy was the same as that us...\n",
            "2       coronary arterybypass grafting thrombosis ï¬b...\n",
            "3        Solitary plasmacytoma SP of the skull is an u...\n",
            "4        This study aimed to investigate serum matrix ...\n",
            "                              ...                        \n",
            "7409    \"  ovarian cancer is the leading cause of canc...\n",
            "7410    \"  ovarian cancer is the second most common gy...\n",
            "7411    \"  postmortem studies can provide important in...\n",
            "7412        gastrointestinal nematodes could release e...\n",
            "7413     objective  this study aimed to test the hypot...\n",
            "Name: Text, Length: 7414, dtype: object\n"
          ]
        }
      ],
      "source": [
        "import pandas as pd\n",
        "from bs4 import BeautifulSoup\n",
        "# Function to remove HTML tags from a single text\n",
        "def remove_html_tags(text):\n",
        "    soup = BeautifulSoup(text, \"html.parser\")\n",
        "    return soup.get_text()\n",
        "\n",
        "# Apply the remove_html_tags function to the 'Text' column\n",
        "df['Text'] = df['Text'].apply(remove_html_tags)\n",
        "print(df['Text'])"
      ]
    },
    {
      "cell_type": "code",
      "execution_count": 44,
      "id": "f01d0293",
      "metadata": {
        "scrolled": false,
        "colab": {
          "base_uri": "https://localhost:8080/"
        },
        "id": "f01d0293",
        "outputId": "c96400fa-f52b-4a55-fa4e-6d23bb88bc48"
      },
      "outputs": [
        {
          "output_type": "stream",
          "name": "stderr",
          "text": [
            "[nltk_data] Downloading package punkt to /root/nltk_data...\n",
            "[nltk_data]   Unzipping tokenizers/punkt.zip.\n"
          ]
        },
        {
          "output_type": "execute_result",
          "data": {
            "text/plain": [
              "True"
            ]
          },
          "metadata": {},
          "execution_count": 44
        }
      ],
      "source": [
        "nltk.download('punkt')"
      ]
    },
    {
      "cell_type": "markdown",
      "id": "398d67d6",
      "metadata": {
        "id": "398d67d6"
      },
      "source": [
        "# Removing Stopword"
      ]
    },
    {
      "cell_type": "code",
      "execution_count": 45,
      "id": "1fcb4c3e",
      "metadata": {
        "scrolled": false,
        "colab": {
          "base_uri": "https://localhost:8080/"
        },
        "id": "1fcb4c3e",
        "outputId": "fd4a82ca-cef1-40e1-e0f5-01d09745cffe"
      },
      "outputs": [
        {
          "output_type": "stream",
          "name": "stdout",
          "text": [
            "        Id  Cancer                                               Text\n",
            "0        0       0  Thyroid surgery children single institution Os...\n",
            "1        1       0  `` adopted strategy used prior years [ ] based...\n",
            "2        2       0  coronary arterybypass grafting thrombosis ï¬b...\n",
            "3        3       0  Solitary plasmacytoma SP skull uncommon clinic...\n",
            "4        4       0  study aimed investigate serum matrix metallopr...\n",
            "...    ...     ...                                                ...\n",
            "7409  7409       1  `` ovarian cancer leading cause cancerrelated ...\n",
            "7410  7410       1  `` ovarian cancer second common gynecologic ca...\n",
            "7411  7411       1  `` postmortem studies provide important inform...\n",
            "7412  7412       1  gastrointestinal nematodes could release excre...\n",
            "7413  7413       1  objective study aimed test hypothesis levobupi...\n",
            "\n",
            "[7414 rows x 3 columns]\n"
          ]
        }
      ],
      "source": [
        "import nltk\n",
        "import pandas as pd\n",
        "from nltk.corpus import stopwords\n",
        "from nltk.tokenize import word_tokenize\n",
        "\n",
        "def remove_stopwords(text):\n",
        "    stop_words = set(stopwords.words('english'))\n",
        "    words = word_tokenize(text)\n",
        "    filtered_text = [word for word in words if word.lower() not in stop_words]\n",
        "    return \" \".join(filtered_text)\n",
        "\n",
        "# Apply the remove_stopwords function to the 'text_column'\n",
        "df['Text'] = df['Text'].apply(remove_stopwords)\n",
        "print(df)"
      ]
    },
    {
      "cell_type": "markdown",
      "id": "9a578ae0",
      "metadata": {
        "id": "9a578ae0"
      },
      "source": [
        "# Removing Special Character"
      ]
    },
    {
      "cell_type": "code",
      "execution_count": 47,
      "id": "98da95bd",
      "metadata": {
        "colab": {
          "base_uri": "https://localhost:8080/"
        },
        "id": "98da95bd",
        "outputId": "58124647-ca86-47ae-9c51-b116f7f88f31"
      },
      "outputs": [
        {
          "output_type": "stream",
          "name": "stdout",
          "text": [
            "        Id  Cancer                                               Text\n",
            "0        0       0  Thyroid surgery children single institution Os...\n",
            "1        1       0  `` adopted strategy used prior years [ ] based...\n",
            "2        2       0  coronary arterybypass grafting thrombosis ï¬b...\n",
            "3        3       0  Solitary plasmacytoma SP skull uncommon clinic...\n",
            "4        4       0  study aimed investigate serum matrix metallopr...\n",
            "...    ...     ...                                                ...\n",
            "7409  7409       1  `` ovarian cancer leading cause cancerrelated ...\n",
            "7410  7410       1  `` ovarian cancer second common gynecologic ca...\n",
            "7411  7411       1  `` postmortem studies provide important inform...\n",
            "7412  7412       1  gastrointestinal nematodes could release excre...\n",
            "7413  7413       1  objective study aimed test hypothesis levobupi...\n",
            "\n",
            "[7414 rows x 3 columns]\n"
          ]
        }
      ],
      "source": [
        "import re\n",
        "\n",
        "\n",
        "# Define a function to remove special characters, numeric characters, and brackets\n",
        "def remove_special_chars(text):\n",
        "    if isinstance(text, str):\n",
        "        # Define a regular expression pattern to match the characters you want to remove\n",
        "        pattern = r'[,\\';\"()0-9]'\n",
        "        # Use re.sub() to remove the matched characters\n",
        "        cleaned_text = re.sub(pattern, '', text)\n",
        "        return cleaned_text\n",
        "    else:\n",
        "        return text\n",
        "\n",
        "# Apply the remove_special_chars function to the 'Text' column\n",
        "df['Text'] = df['Text'].apply(remove_special_chars)\n",
        "\n",
        "# Display the cleaned DataFrame\n",
        "print(df)\n"
      ]
    },
    {
      "cell_type": "markdown",
      "id": "55f6c836",
      "metadata": {
        "id": "55f6c836"
      },
      "source": [
        "# Remove Accented Characters"
      ]
    },
    {
      "cell_type": "code",
      "execution_count": 48,
      "id": "d24b771e",
      "metadata": {
        "colab": {
          "base_uri": "https://localhost:8080/"
        },
        "id": "d24b771e",
        "outputId": "07beb16e-8c07-4a1f-fc94-8428b5f2def0"
      },
      "outputs": [
        {
          "output_type": "stream",
          "name": "stdout",
          "text": [
            "        Id  Cancer                                               Text\n",
            "0        0       0  Thyroid surgery children single institution Os...\n",
            "1        1       0  `` adopted strategy used prior years [ ] based...\n",
            "2        2       0  coronary arterybypass grafting thrombosis ibri...\n",
            "3        3       0  Solitary plasmacytoma SP skull uncommon clinic...\n",
            "4        4       0  study aimed investigate serum matrix metallopr...\n",
            "...    ...     ...                                                ...\n",
            "7409  7409       1  `` ovarian cancer leading cause cancerrelated ...\n",
            "7410  7410       1  `` ovarian cancer second common gynecologic ca...\n",
            "7411  7411       1  `` postmortem studies provide important inform...\n",
            "7412  7412       1  gastrointestinal nematodes could release excre...\n",
            "7413  7413       1  objective study aimed test hypothesis levobupi...\n",
            "\n",
            "[7414 rows x 3 columns]\n"
          ]
        }
      ],
      "source": [
        "import unicodedata\n",
        "\n",
        "# Define a function to remove accented characters\n",
        "def remove_accented_chars(text):\n",
        "    cleaned_text_list = []\n",
        "    for sentence in text:\n",
        "        cleaned_sentence = unicodedata.normalize('NFKD', sentence).encode('ascii', 'ignore').decode('utf-8', 'ignore')\n",
        "        cleaned_text_list.append(cleaned_sentence)\n",
        "    return cleaned_text_list\n",
        "\n",
        "# Apply the remove_accented_chars function to the 'Text' column\n",
        "df['Text'] = remove_accented_chars(df['Text'])\n",
        "\n",
        "# Display the cleaned DataFrame\n",
        "print(df)\n"
      ]
    },
    {
      "cell_type": "markdown",
      "id": "b7f6012b",
      "metadata": {
        "id": "b7f6012b"
      },
      "source": [
        "# Removing Special Character"
      ]
    },
    {
      "cell_type": "code",
      "execution_count": 49,
      "id": "2626efd7",
      "metadata": {
        "collapsed": true,
        "colab": {
          "base_uri": "https://localhost:8080/"
        },
        "id": "2626efd7",
        "outputId": "d92d3f5f-d011-4e23-fa42-f51edf20b4c2"
      },
      "outputs": [
        {
          "output_type": "stream",
          "name": "stdout",
          "text": [
            "        Id  Cancer                                               Text\n",
            "0        0       0  Thyroid surgery children single institution Os...\n",
            "1        1       0  `` adopted strategy used prior years [ ] based...\n",
            "2        2       0  coronary arterybypass grafting thrombosis ibri...\n",
            "3        3       0  Solitary plasmacytoma SP skull uncommon clinic...\n",
            "4        4       0  study aimed investigate serum matrix metallopr...\n",
            "...    ...     ...                                                ...\n",
            "7409  7409       1  `` ovarian cancer leading cause cancerrelated ...\n",
            "7410  7410       1  `` ovarian cancer second common gynecologic ca...\n",
            "7411  7411       1  `` postmortem studies provide important inform...\n",
            "7412  7412       1  gastrointestinal nematodes could release excre...\n",
            "7413  7413       1  objective study aimed test hypothesis levobupi...\n",
            "\n",
            "[7414 rows x 3 columns]\n"
          ]
        }
      ],
      "source": [
        "def remove_special_characters(text, remove_digits=False):\n",
        "    pattern = r'[^a-zA-z0-9\\s]' if not remove_digits else r'[^a-zA-z\\s]'\n",
        "    text = re.sub(pattern, '', text)\n",
        "    return text\n",
        "df['Text'] = df['Text'].apply(remove_special_characters)\n",
        "print(df)"
      ]
    },
    {
      "cell_type": "code",
      "execution_count": 50,
      "id": "e2235ad4",
      "metadata": {
        "collapsed": true,
        "colab": {
          "base_uri": "https://localhost:8080/"
        },
        "id": "e2235ad4",
        "outputId": "3ade63c3-1cce-4955-ccad-2c6c32571478"
      },
      "outputs": [
        {
          "output_type": "stream",
          "name": "stdout",
          "text": [
            "2023-09-03 20:08:54.481178: I tensorflow/core/platform/cpu_feature_guard.cc:182] This TensorFlow binary is optimized to use available CPU instructions in performance-critical operations.\n",
            "To enable the following instructions: AVX2 FMA, in other operations, rebuild TensorFlow with the appropriate compiler flags.\n",
            "2023-09-03 20:08:57.008334: W tensorflow/compiler/tf2tensorrt/utils/py_utils.cc:38] TF-TRT Warning: Could not find TensorRT\n",
            "Collecting en-core-web-sm==3.6.0\n",
            "  Downloading https://github.com/explosion/spacy-models/releases/download/en_core_web_sm-3.6.0/en_core_web_sm-3.6.0-py3-none-any.whl (12.8 MB)\n",
            "\u001b[2K     \u001b[90m━━━━━━━━━━━━━━━━━━━━━━━━━━━━━━━━━━━━━━━━\u001b[0m \u001b[32m12.8/12.8 MB\u001b[0m \u001b[31m29.3 MB/s\u001b[0m eta \u001b[36m0:00:00\u001b[0m\n",
            "\u001b[?25hRequirement already satisfied: spacy<3.7.0,>=3.6.0 in /usr/local/lib/python3.10/dist-packages (from en-core-web-sm==3.6.0) (3.6.1)\n",
            "Requirement already satisfied: spacy-legacy<3.1.0,>=3.0.11 in /usr/local/lib/python3.10/dist-packages (from spacy<3.7.0,>=3.6.0->en-core-web-sm==3.6.0) (3.0.12)\n",
            "Requirement already satisfied: spacy-loggers<2.0.0,>=1.0.0 in /usr/local/lib/python3.10/dist-packages (from spacy<3.7.0,>=3.6.0->en-core-web-sm==3.6.0) (1.0.4)\n",
            "Requirement already satisfied: murmurhash<1.1.0,>=0.28.0 in /usr/local/lib/python3.10/dist-packages (from spacy<3.7.0,>=3.6.0->en-core-web-sm==3.6.0) (1.0.9)\n",
            "Requirement already satisfied: cymem<2.1.0,>=2.0.2 in /usr/local/lib/python3.10/dist-packages (from spacy<3.7.0,>=3.6.0->en-core-web-sm==3.6.0) (2.0.7)\n",
            "Requirement already satisfied: preshed<3.1.0,>=3.0.2 in /usr/local/lib/python3.10/dist-packages (from spacy<3.7.0,>=3.6.0->en-core-web-sm==3.6.0) (3.0.8)\n",
            "Requirement already satisfied: thinc<8.2.0,>=8.1.8 in /usr/local/lib/python3.10/dist-packages (from spacy<3.7.0,>=3.6.0->en-core-web-sm==3.6.0) (8.1.12)\n",
            "Requirement already satisfied: wasabi<1.2.0,>=0.9.1 in /usr/local/lib/python3.10/dist-packages (from spacy<3.7.0,>=3.6.0->en-core-web-sm==3.6.0) (1.1.2)\n",
            "Requirement already satisfied: srsly<3.0.0,>=2.4.3 in /usr/local/lib/python3.10/dist-packages (from spacy<3.7.0,>=3.6.0->en-core-web-sm==3.6.0) (2.4.7)\n",
            "Requirement already satisfied: catalogue<2.1.0,>=2.0.6 in /usr/local/lib/python3.10/dist-packages (from spacy<3.7.0,>=3.6.0->en-core-web-sm==3.6.0) (2.0.9)\n",
            "Requirement already satisfied: typer<0.10.0,>=0.3.0 in /usr/local/lib/python3.10/dist-packages (from spacy<3.7.0,>=3.6.0->en-core-web-sm==3.6.0) (0.9.0)\n",
            "Requirement already satisfied: pathy>=0.10.0 in /usr/local/lib/python3.10/dist-packages (from spacy<3.7.0,>=3.6.0->en-core-web-sm==3.6.0) (0.10.2)\n",
            "Requirement already satisfied: smart-open<7.0.0,>=5.2.1 in /usr/local/lib/python3.10/dist-packages (from spacy<3.7.0,>=3.6.0->en-core-web-sm==3.6.0) (6.3.0)\n",
            "Requirement already satisfied: tqdm<5.0.0,>=4.38.0 in /usr/local/lib/python3.10/dist-packages (from spacy<3.7.0,>=3.6.0->en-core-web-sm==3.6.0) (4.66.1)\n",
            "Requirement already satisfied: numpy>=1.15.0 in /usr/local/lib/python3.10/dist-packages (from spacy<3.7.0,>=3.6.0->en-core-web-sm==3.6.0) (1.23.5)\n",
            "Requirement already satisfied: requests<3.0.0,>=2.13.0 in /usr/local/lib/python3.10/dist-packages (from spacy<3.7.0,>=3.6.0->en-core-web-sm==3.6.0) (2.31.0)\n",
            "Requirement already satisfied: pydantic!=1.8,!=1.8.1,<3.0.0,>=1.7.4 in /usr/local/lib/python3.10/dist-packages (from spacy<3.7.0,>=3.6.0->en-core-web-sm==3.6.0) (2.2.1)\n",
            "Requirement already satisfied: jinja2 in /usr/local/lib/python3.10/dist-packages (from spacy<3.7.0,>=3.6.0->en-core-web-sm==3.6.0) (3.1.2)\n",
            "Requirement already satisfied: setuptools in /usr/local/lib/python3.10/dist-packages (from spacy<3.7.0,>=3.6.0->en-core-web-sm==3.6.0) (67.7.2)\n",
            "Requirement already satisfied: packaging>=20.0 in /usr/local/lib/python3.10/dist-packages (from spacy<3.7.0,>=3.6.0->en-core-web-sm==3.6.0) (23.1)\n",
            "Requirement already satisfied: langcodes<4.0.0,>=3.2.0 in /usr/local/lib/python3.10/dist-packages (from spacy<3.7.0,>=3.6.0->en-core-web-sm==3.6.0) (3.3.0)\n",
            "Requirement already satisfied: annotated-types>=0.4.0 in /usr/local/lib/python3.10/dist-packages (from pydantic!=1.8,!=1.8.1,<3.0.0,>=1.7.4->spacy<3.7.0,>=3.6.0->en-core-web-sm==3.6.0) (0.5.0)\n",
            "Requirement already satisfied: pydantic-core==2.6.1 in /usr/local/lib/python3.10/dist-packages (from pydantic!=1.8,!=1.8.1,<3.0.0,>=1.7.4->spacy<3.7.0,>=3.6.0->en-core-web-sm==3.6.0) (2.6.1)\n",
            "Requirement already satisfied: typing-extensions>=4.6.1 in /usr/local/lib/python3.10/dist-packages (from pydantic!=1.8,!=1.8.1,<3.0.0,>=1.7.4->spacy<3.7.0,>=3.6.0->en-core-web-sm==3.6.0) (4.7.1)\n",
            "Requirement already satisfied: charset-normalizer<4,>=2 in /usr/local/lib/python3.10/dist-packages (from requests<3.0.0,>=2.13.0->spacy<3.7.0,>=3.6.0->en-core-web-sm==3.6.0) (3.2.0)\n",
            "Requirement already satisfied: idna<4,>=2.5 in /usr/local/lib/python3.10/dist-packages (from requests<3.0.0,>=2.13.0->spacy<3.7.0,>=3.6.0->en-core-web-sm==3.6.0) (3.4)\n",
            "Requirement already satisfied: urllib3<3,>=1.21.1 in /usr/local/lib/python3.10/dist-packages (from requests<3.0.0,>=2.13.0->spacy<3.7.0,>=3.6.0->en-core-web-sm==3.6.0) (2.0.4)\n",
            "Requirement already satisfied: certifi>=2017.4.17 in /usr/local/lib/python3.10/dist-packages (from requests<3.0.0,>=2.13.0->spacy<3.7.0,>=3.6.0->en-core-web-sm==3.6.0) (2023.7.22)\n",
            "Requirement already satisfied: blis<0.8.0,>=0.7.8 in /usr/local/lib/python3.10/dist-packages (from thinc<8.2.0,>=8.1.8->spacy<3.7.0,>=3.6.0->en-core-web-sm==3.6.0) (0.7.10)\n",
            "Requirement already satisfied: confection<1.0.0,>=0.0.1 in /usr/local/lib/python3.10/dist-packages (from thinc<8.2.0,>=8.1.8->spacy<3.7.0,>=3.6.0->en-core-web-sm==3.6.0) (0.1.1)\n",
            "Requirement already satisfied: click<9.0.0,>=7.1.1 in /usr/local/lib/python3.10/dist-packages (from typer<0.10.0,>=0.3.0->spacy<3.7.0,>=3.6.0->en-core-web-sm==3.6.0) (8.1.7)\n",
            "Requirement already satisfied: MarkupSafe>=2.0 in /usr/local/lib/python3.10/dist-packages (from jinja2->spacy<3.7.0,>=3.6.0->en-core-web-sm==3.6.0) (2.1.3)\n",
            "\u001b[38;5;2m✔ Download and installation successful\u001b[0m\n",
            "You can now load the package via spacy.load('en_core_web_sm')\n"
          ]
        }
      ],
      "source": [
        "!python -m spacy download en_core_web_sm"
      ]
    },
    {
      "cell_type": "code",
      "execution_count": 52,
      "id": "5421d94f",
      "metadata": {
        "id": "5421d94f"
      },
      "outputs": [],
      "source": [
        "# Filter out numeric values from the 'Text' column (assuming it contains text data)\n",
        "df['Text'] = df['Text'].apply(lambda x: x if isinstance(x, str) else '')"
      ]
    },
    {
      "cell_type": "markdown",
      "id": "0e630ff3",
      "metadata": {
        "id": "0e630ff3"
      },
      "source": [
        "# Tokenization"
      ]
    },
    {
      "cell_type": "code",
      "execution_count": 53,
      "id": "71064915",
      "metadata": {
        "colab": {
          "base_uri": "https://localhost:8080/"
        },
        "id": "71064915",
        "outputId": "a053eb33-fc7b-45c0-88bb-348f35258337"
      },
      "outputs": [
        {
          "output_type": "stream",
          "name": "stdout",
          "text": [
            "        Id  Cancer                                               Text  \\\n",
            "0        0       0  Thyroid surgery children single institution Os...   \n",
            "1        1       0  `` adopted strategy used prior years [ ] based...   \n",
            "2        2       0  coronary arterybypass grafting thrombosis ibri...   \n",
            "3        3       0  Solitary plasmacytoma SP skull uncommon clinic...   \n",
            "4        4       0  study aimed investigate serum matrix metallopr...   \n",
            "...    ...     ...                                                ...   \n",
            "7409  7409       1  `` ovarian cancer leading cause cancerrelated ...   \n",
            "7410  7410       1  `` ovarian cancer second common gynecologic ca...   \n",
            "7411  7411       1  `` postmortem studies provide important inform...   \n",
            "7412  7412       1  gastrointestinal nematodes could release excre...   \n",
            "7413  7413       1  objective study aimed test hypothesis levobupi...   \n",
            "\n",
            "                                         Tokenized_Text  \n",
            "0     Thyroid surgery children single institution Os...  \n",
            "1     `` adopted strategy used prior years [ ] based...  \n",
            "2     coronary arterybypass grafting thrombosis ibri...  \n",
            "3     Solitary plasmacytoma SP skull uncommon clinic...  \n",
            "4     study aimed investigate serum matrix metallopr...  \n",
            "...                                                 ...  \n",
            "7409  `` ovarian cancer leading cause cancerrelated ...  \n",
            "7410  `` ovarian cancer second common gynecologic ca...  \n",
            "7411  `` postmortem studies provide important inform...  \n",
            "7412  gastrointestinal nematodes could release excre...  \n",
            "7413  objective study aimed test hypothesis levobupi...  \n",
            "\n",
            "[7414 rows x 4 columns]\n"
          ]
        }
      ],
      "source": [
        "# Tokenize the 'Text' column using NLTK and join the tokens into a single string\n",
        "df['Tokenized_Text'] = df['Text'].apply(lambda x: ' '.join(word_tokenize(x)))\n",
        "\n",
        "# Display the DataFrame with tokenized text as a single string\n",
        "print(df)"
      ]
    },
    {
      "cell_type": "code",
      "source": [
        "import pandas as pd\n",
        "import spacy\n",
        "\n",
        "# Load the spaCy language model (you need to have spaCy and the language model installed)\n",
        "nlp = spacy.load(\"en_core_web_sm\")\n",
        "\n",
        "# Assuming 'df' is your DataFrame with a 'Text' column\n",
        "df['POS_tags'] = df['Text'].apply(lambda x: [(token.text, token.pos_) for token in nlp(x)])\n",
        "\n",
        "# 'POS_tags' column now contains a list of (word, POS_tag) tuples for each row\n",
        "print(df[['Text', 'POS_tags']])\n"
      ],
      "metadata": {
        "colab": {
          "base_uri": "https://localhost:8080/",
          "height": 391
        },
        "id": "wrRYE8_-rnhv",
        "outputId": "d492735f-e320-426d-af9a-e5c7c7384431"
      },
      "id": "wrRYE8_-rnhv",
      "execution_count": 54,
      "outputs": [
        {
          "output_type": "error",
          "ename": "KeyboardInterrupt",
          "evalue": "ignored",
          "traceback": [
            "\u001b[0;31m---------------------------------------------------------------------------\u001b[0m",
            "\u001b[0;31mKeyboardInterrupt\u001b[0m                         Traceback (most recent call last)",
            "\u001b[0;32m<ipython-input-54-8e6599920b9f>\u001b[0m in \u001b[0;36m<cell line: 8>\u001b[0;34m()\u001b[0m\n\u001b[1;32m      6\u001b[0m \u001b[0;34m\u001b[0m\u001b[0m\n\u001b[1;32m      7\u001b[0m \u001b[0;31m# Assuming 'df' is your DataFrame with a 'Text' column\u001b[0m\u001b[0;34m\u001b[0m\u001b[0;34m\u001b[0m\u001b[0m\n\u001b[0;32m----> 8\u001b[0;31m \u001b[0mdf\u001b[0m\u001b[0;34m[\u001b[0m\u001b[0;34m'POS_tags'\u001b[0m\u001b[0;34m]\u001b[0m \u001b[0;34m=\u001b[0m \u001b[0mdf\u001b[0m\u001b[0;34m[\u001b[0m\u001b[0;34m'Text'\u001b[0m\u001b[0;34m]\u001b[0m\u001b[0;34m.\u001b[0m\u001b[0mapply\u001b[0m\u001b[0;34m(\u001b[0m\u001b[0;32mlambda\u001b[0m \u001b[0mx\u001b[0m\u001b[0;34m:\u001b[0m \u001b[0;34m[\u001b[0m\u001b[0;34m(\u001b[0m\u001b[0mtoken\u001b[0m\u001b[0;34m.\u001b[0m\u001b[0mtext\u001b[0m\u001b[0;34m,\u001b[0m \u001b[0mtoken\u001b[0m\u001b[0;34m.\u001b[0m\u001b[0mpos_\u001b[0m\u001b[0;34m)\u001b[0m \u001b[0;32mfor\u001b[0m \u001b[0mtoken\u001b[0m \u001b[0;32min\u001b[0m \u001b[0mnlp\u001b[0m\u001b[0;34m(\u001b[0m\u001b[0mx\u001b[0m\u001b[0;34m)\u001b[0m\u001b[0;34m]\u001b[0m\u001b[0;34m)\u001b[0m\u001b[0;34m\u001b[0m\u001b[0;34m\u001b[0m\u001b[0m\n\u001b[0m\u001b[1;32m      9\u001b[0m \u001b[0;34m\u001b[0m\u001b[0m\n\u001b[1;32m     10\u001b[0m \u001b[0;31m# 'POS_tags' column now contains a list of (word, POS_tag) tuples for each row\u001b[0m\u001b[0;34m\u001b[0m\u001b[0;34m\u001b[0m\u001b[0m\n",
            "\u001b[0;32m/usr/local/lib/python3.10/dist-packages/pandas/core/series.py\u001b[0m in \u001b[0;36mapply\u001b[0;34m(self, func, convert_dtype, args, **kwargs)\u001b[0m\n\u001b[1;32m   4769\u001b[0m         \u001b[0mdtype\u001b[0m\u001b[0;34m:\u001b[0m \u001b[0mfloat64\u001b[0m\u001b[0;34m\u001b[0m\u001b[0;34m\u001b[0m\u001b[0m\n\u001b[1;32m   4770\u001b[0m         \"\"\"\n\u001b[0;32m-> 4771\u001b[0;31m         \u001b[0;32mreturn\u001b[0m \u001b[0mSeriesApply\u001b[0m\u001b[0;34m(\u001b[0m\u001b[0mself\u001b[0m\u001b[0;34m,\u001b[0m \u001b[0mfunc\u001b[0m\u001b[0;34m,\u001b[0m \u001b[0mconvert_dtype\u001b[0m\u001b[0;34m,\u001b[0m \u001b[0margs\u001b[0m\u001b[0;34m,\u001b[0m \u001b[0mkwargs\u001b[0m\u001b[0;34m)\u001b[0m\u001b[0;34m.\u001b[0m\u001b[0mapply\u001b[0m\u001b[0;34m(\u001b[0m\u001b[0;34m)\u001b[0m\u001b[0;34m\u001b[0m\u001b[0;34m\u001b[0m\u001b[0m\n\u001b[0m\u001b[1;32m   4772\u001b[0m \u001b[0;34m\u001b[0m\u001b[0m\n\u001b[1;32m   4773\u001b[0m     def _reduce(\n",
            "\u001b[0;32m/usr/local/lib/python3.10/dist-packages/pandas/core/apply.py\u001b[0m in \u001b[0;36mapply\u001b[0;34m(self)\u001b[0m\n\u001b[1;32m   1121\u001b[0m \u001b[0;34m\u001b[0m\u001b[0m\n\u001b[1;32m   1122\u001b[0m         \u001b[0;31m# self.f is Callable\u001b[0m\u001b[0;34m\u001b[0m\u001b[0;34m\u001b[0m\u001b[0m\n\u001b[0;32m-> 1123\u001b[0;31m         \u001b[0;32mreturn\u001b[0m \u001b[0mself\u001b[0m\u001b[0;34m.\u001b[0m\u001b[0mapply_standard\u001b[0m\u001b[0;34m(\u001b[0m\u001b[0;34m)\u001b[0m\u001b[0;34m\u001b[0m\u001b[0;34m\u001b[0m\u001b[0m\n\u001b[0m\u001b[1;32m   1124\u001b[0m \u001b[0;34m\u001b[0m\u001b[0m\n\u001b[1;32m   1125\u001b[0m     \u001b[0;32mdef\u001b[0m \u001b[0magg\u001b[0m\u001b[0;34m(\u001b[0m\u001b[0mself\u001b[0m\u001b[0;34m)\u001b[0m\u001b[0;34m:\u001b[0m\u001b[0;34m\u001b[0m\u001b[0;34m\u001b[0m\u001b[0m\n",
            "\u001b[0;32m/usr/local/lib/python3.10/dist-packages/pandas/core/apply.py\u001b[0m in \u001b[0;36mapply_standard\u001b[0;34m(self)\u001b[0m\n\u001b[1;32m   1172\u001b[0m             \u001b[0;32melse\u001b[0m\u001b[0;34m:\u001b[0m\u001b[0;34m\u001b[0m\u001b[0;34m\u001b[0m\u001b[0m\n\u001b[1;32m   1173\u001b[0m                 \u001b[0mvalues\u001b[0m \u001b[0;34m=\u001b[0m \u001b[0mobj\u001b[0m\u001b[0;34m.\u001b[0m\u001b[0mastype\u001b[0m\u001b[0;34m(\u001b[0m\u001b[0mobject\u001b[0m\u001b[0;34m)\u001b[0m\u001b[0;34m.\u001b[0m\u001b[0m_values\u001b[0m\u001b[0;34m\u001b[0m\u001b[0;34m\u001b[0m\u001b[0m\n\u001b[0;32m-> 1174\u001b[0;31m                 mapped = lib.map_infer(\n\u001b[0m\u001b[1;32m   1175\u001b[0m                     \u001b[0mvalues\u001b[0m\u001b[0;34m,\u001b[0m\u001b[0;34m\u001b[0m\u001b[0;34m\u001b[0m\u001b[0m\n\u001b[1;32m   1176\u001b[0m                     \u001b[0mf\u001b[0m\u001b[0;34m,\u001b[0m\u001b[0;34m\u001b[0m\u001b[0;34m\u001b[0m\u001b[0m\n",
            "\u001b[0;32m/usr/local/lib/python3.10/dist-packages/pandas/_libs/lib.pyx\u001b[0m in \u001b[0;36mpandas._libs.lib.map_infer\u001b[0;34m()\u001b[0m\n",
            "\u001b[0;32m<ipython-input-54-8e6599920b9f>\u001b[0m in \u001b[0;36m<lambda>\u001b[0;34m(x)\u001b[0m\n\u001b[1;32m      6\u001b[0m \u001b[0;34m\u001b[0m\u001b[0m\n\u001b[1;32m      7\u001b[0m \u001b[0;31m# Assuming 'df' is your DataFrame with a 'Text' column\u001b[0m\u001b[0;34m\u001b[0m\u001b[0;34m\u001b[0m\u001b[0m\n\u001b[0;32m----> 8\u001b[0;31m \u001b[0mdf\u001b[0m\u001b[0;34m[\u001b[0m\u001b[0;34m'POS_tags'\u001b[0m\u001b[0;34m]\u001b[0m \u001b[0;34m=\u001b[0m \u001b[0mdf\u001b[0m\u001b[0;34m[\u001b[0m\u001b[0;34m'Text'\u001b[0m\u001b[0;34m]\u001b[0m\u001b[0;34m.\u001b[0m\u001b[0mapply\u001b[0m\u001b[0;34m(\u001b[0m\u001b[0;32mlambda\u001b[0m \u001b[0mx\u001b[0m\u001b[0;34m:\u001b[0m \u001b[0;34m[\u001b[0m\u001b[0;34m(\u001b[0m\u001b[0mtoken\u001b[0m\u001b[0;34m.\u001b[0m\u001b[0mtext\u001b[0m\u001b[0;34m,\u001b[0m \u001b[0mtoken\u001b[0m\u001b[0;34m.\u001b[0m\u001b[0mpos_\u001b[0m\u001b[0;34m)\u001b[0m \u001b[0;32mfor\u001b[0m \u001b[0mtoken\u001b[0m \u001b[0;32min\u001b[0m \u001b[0mnlp\u001b[0m\u001b[0;34m(\u001b[0m\u001b[0mx\u001b[0m\u001b[0;34m)\u001b[0m\u001b[0;34m]\u001b[0m\u001b[0;34m)\u001b[0m\u001b[0;34m\u001b[0m\u001b[0;34m\u001b[0m\u001b[0m\n\u001b[0m\u001b[1;32m      9\u001b[0m \u001b[0;34m\u001b[0m\u001b[0m\n\u001b[1;32m     10\u001b[0m \u001b[0;31m# 'POS_tags' column now contains a list of (word, POS_tag) tuples for each row\u001b[0m\u001b[0;34m\u001b[0m\u001b[0;34m\u001b[0m\u001b[0m\n",
            "\u001b[0;32m/usr/local/lib/python3.10/dist-packages/spacy/language.py\u001b[0m in \u001b[0;36m__call__\u001b[0;34m(self, text, disable, component_cfg)\u001b[0m\n\u001b[1;32m   1040\u001b[0m                 \u001b[0merror_handler\u001b[0m \u001b[0;34m=\u001b[0m \u001b[0mproc\u001b[0m\u001b[0;34m.\u001b[0m\u001b[0mget_error_handler\u001b[0m\u001b[0;34m(\u001b[0m\u001b[0;34m)\u001b[0m\u001b[0;34m\u001b[0m\u001b[0;34m\u001b[0m\u001b[0m\n\u001b[1;32m   1041\u001b[0m             \u001b[0;32mtry\u001b[0m\u001b[0;34m:\u001b[0m\u001b[0;34m\u001b[0m\u001b[0;34m\u001b[0m\u001b[0m\n\u001b[0;32m-> 1042\u001b[0;31m                 \u001b[0mdoc\u001b[0m \u001b[0;34m=\u001b[0m \u001b[0mproc\u001b[0m\u001b[0;34m(\u001b[0m\u001b[0mdoc\u001b[0m\u001b[0;34m,\u001b[0m \u001b[0;34m**\u001b[0m\u001b[0mcomponent_cfg\u001b[0m\u001b[0;34m.\u001b[0m\u001b[0mget\u001b[0m\u001b[0;34m(\u001b[0m\u001b[0mname\u001b[0m\u001b[0;34m,\u001b[0m \u001b[0;34m{\u001b[0m\u001b[0;34m}\u001b[0m\u001b[0;34m)\u001b[0m\u001b[0;34m)\u001b[0m  \u001b[0;31m# type: ignore[call-arg]\u001b[0m\u001b[0;34m\u001b[0m\u001b[0;34m\u001b[0m\u001b[0m\n\u001b[0m\u001b[1;32m   1043\u001b[0m             \u001b[0;32mexcept\u001b[0m \u001b[0mKeyError\u001b[0m \u001b[0;32mas\u001b[0m \u001b[0me\u001b[0m\u001b[0;34m:\u001b[0m\u001b[0;34m\u001b[0m\u001b[0;34m\u001b[0m\u001b[0m\n\u001b[1;32m   1044\u001b[0m                 \u001b[0;31m# This typically happens if a component is not initialized\u001b[0m\u001b[0;34m\u001b[0m\u001b[0;34m\u001b[0m\u001b[0m\n",
            "\u001b[0;32m/usr/local/lib/python3.10/dist-packages/spacy/pipeline/trainable_pipe.pyx\u001b[0m in \u001b[0;36mspacy.pipeline.trainable_pipe.TrainablePipe.__call__\u001b[0;34m()\u001b[0m\n",
            "\u001b[0;32m/usr/local/lib/python3.10/dist-packages/spacy/pipeline/tok2vec.py\u001b[0m in \u001b[0;36mpredict\u001b[0;34m(self, docs)\u001b[0m\n\u001b[1;32m    124\u001b[0m             \u001b[0mwidth\u001b[0m \u001b[0;34m=\u001b[0m \u001b[0mself\u001b[0m\u001b[0;34m.\u001b[0m\u001b[0mmodel\u001b[0m\u001b[0;34m.\u001b[0m\u001b[0mget_dim\u001b[0m\u001b[0;34m(\u001b[0m\u001b[0;34m\"nO\"\u001b[0m\u001b[0;34m)\u001b[0m\u001b[0;34m\u001b[0m\u001b[0;34m\u001b[0m\u001b[0m\n\u001b[1;32m    125\u001b[0m             \u001b[0;32mreturn\u001b[0m \u001b[0;34m[\u001b[0m\u001b[0mself\u001b[0m\u001b[0;34m.\u001b[0m\u001b[0mmodel\u001b[0m\u001b[0;34m.\u001b[0m\u001b[0mops\u001b[0m\u001b[0;34m.\u001b[0m\u001b[0malloc\u001b[0m\u001b[0;34m(\u001b[0m\u001b[0;34m(\u001b[0m\u001b[0;36m0\u001b[0m\u001b[0;34m,\u001b[0m \u001b[0mwidth\u001b[0m\u001b[0;34m)\u001b[0m\u001b[0;34m)\u001b[0m \u001b[0;32mfor\u001b[0m \u001b[0mdoc\u001b[0m \u001b[0;32min\u001b[0m \u001b[0mdocs\u001b[0m\u001b[0;34m]\u001b[0m\u001b[0;34m\u001b[0m\u001b[0;34m\u001b[0m\u001b[0m\n\u001b[0;32m--> 126\u001b[0;31m         \u001b[0mtokvecs\u001b[0m \u001b[0;34m=\u001b[0m \u001b[0mself\u001b[0m\u001b[0;34m.\u001b[0m\u001b[0mmodel\u001b[0m\u001b[0;34m.\u001b[0m\u001b[0mpredict\u001b[0m\u001b[0;34m(\u001b[0m\u001b[0mdocs\u001b[0m\u001b[0;34m)\u001b[0m\u001b[0;34m\u001b[0m\u001b[0;34m\u001b[0m\u001b[0m\n\u001b[0m\u001b[1;32m    127\u001b[0m         \u001b[0;32mreturn\u001b[0m \u001b[0mtokvecs\u001b[0m\u001b[0;34m\u001b[0m\u001b[0;34m\u001b[0m\u001b[0m\n\u001b[1;32m    128\u001b[0m \u001b[0;34m\u001b[0m\u001b[0m\n",
            "\u001b[0;32m/usr/local/lib/python3.10/dist-packages/thinc/model.py\u001b[0m in \u001b[0;36mpredict\u001b[0;34m(self, X)\u001b[0m\n\u001b[1;32m    332\u001b[0m         \u001b[0monly\u001b[0m \u001b[0mthe\u001b[0m \u001b[0moutput\u001b[0m\u001b[0;34m,\u001b[0m \u001b[0minstead\u001b[0m \u001b[0mof\u001b[0m \u001b[0mthe\u001b[0m\u001b[0;31m \u001b[0m\u001b[0;31m`\u001b[0m\u001b[0;34m(\u001b[0m\u001b[0moutput\u001b[0m\u001b[0;34m,\u001b[0m \u001b[0mcallback\u001b[0m\u001b[0;34m)\u001b[0m\u001b[0;31m`\u001b[0m \u001b[0mtuple\u001b[0m\u001b[0;34m.\u001b[0m\u001b[0;34m\u001b[0m\u001b[0;34m\u001b[0m\u001b[0m\n\u001b[1;32m    333\u001b[0m         \"\"\"\n\u001b[0;32m--> 334\u001b[0;31m         \u001b[0;32mreturn\u001b[0m \u001b[0mself\u001b[0m\u001b[0;34m.\u001b[0m\u001b[0m_func\u001b[0m\u001b[0;34m(\u001b[0m\u001b[0mself\u001b[0m\u001b[0;34m,\u001b[0m \u001b[0mX\u001b[0m\u001b[0;34m,\u001b[0m \u001b[0mis_train\u001b[0m\u001b[0;34m=\u001b[0m\u001b[0;32mFalse\u001b[0m\u001b[0;34m)\u001b[0m\u001b[0;34m[\u001b[0m\u001b[0;36m0\u001b[0m\u001b[0;34m]\u001b[0m\u001b[0;34m\u001b[0m\u001b[0;34m\u001b[0m\u001b[0m\n\u001b[0m\u001b[1;32m    335\u001b[0m \u001b[0;34m\u001b[0m\u001b[0m\n\u001b[1;32m    336\u001b[0m     \u001b[0;32mdef\u001b[0m \u001b[0mfinish_update\u001b[0m\u001b[0;34m(\u001b[0m\u001b[0mself\u001b[0m\u001b[0;34m,\u001b[0m \u001b[0moptimizer\u001b[0m\u001b[0;34m:\u001b[0m \u001b[0mOptimizer\u001b[0m\u001b[0;34m)\u001b[0m \u001b[0;34m->\u001b[0m \u001b[0;32mNone\u001b[0m\u001b[0;34m:\u001b[0m\u001b[0;34m\u001b[0m\u001b[0;34m\u001b[0m\u001b[0m\n",
            "\u001b[0;32m/usr/local/lib/python3.10/dist-packages/thinc/layers/chain.py\u001b[0m in \u001b[0;36mforward\u001b[0;34m(model, X, is_train)\u001b[0m\n\u001b[1;32m     52\u001b[0m     \u001b[0mcallbacks\u001b[0m \u001b[0;34m=\u001b[0m \u001b[0;34m[\u001b[0m\u001b[0;34m]\u001b[0m\u001b[0;34m\u001b[0m\u001b[0;34m\u001b[0m\u001b[0m\n\u001b[1;32m     53\u001b[0m     \u001b[0;32mfor\u001b[0m \u001b[0mlayer\u001b[0m \u001b[0;32min\u001b[0m \u001b[0mmodel\u001b[0m\u001b[0;34m.\u001b[0m\u001b[0mlayers\u001b[0m\u001b[0;34m:\u001b[0m\u001b[0;34m\u001b[0m\u001b[0;34m\u001b[0m\u001b[0m\n\u001b[0;32m---> 54\u001b[0;31m         \u001b[0mY\u001b[0m\u001b[0;34m,\u001b[0m \u001b[0minc_layer_grad\u001b[0m \u001b[0;34m=\u001b[0m \u001b[0mlayer\u001b[0m\u001b[0;34m(\u001b[0m\u001b[0mX\u001b[0m\u001b[0;34m,\u001b[0m \u001b[0mis_train\u001b[0m\u001b[0;34m=\u001b[0m\u001b[0mis_train\u001b[0m\u001b[0;34m)\u001b[0m\u001b[0;34m\u001b[0m\u001b[0;34m\u001b[0m\u001b[0m\n\u001b[0m\u001b[1;32m     55\u001b[0m         \u001b[0mcallbacks\u001b[0m\u001b[0;34m.\u001b[0m\u001b[0mappend\u001b[0m\u001b[0;34m(\u001b[0m\u001b[0minc_layer_grad\u001b[0m\u001b[0;34m)\u001b[0m\u001b[0;34m\u001b[0m\u001b[0;34m\u001b[0m\u001b[0m\n\u001b[1;32m     56\u001b[0m         \u001b[0mX\u001b[0m \u001b[0;34m=\u001b[0m \u001b[0mY\u001b[0m\u001b[0;34m\u001b[0m\u001b[0;34m\u001b[0m\u001b[0m\n",
            "\u001b[0;32m/usr/local/lib/python3.10/dist-packages/thinc/model.py\u001b[0m in \u001b[0;36m__call__\u001b[0;34m(self, X, is_train)\u001b[0m\n\u001b[1;32m    308\u001b[0m         \"\"\"Call the model's `forward` function, returning the output and a\n\u001b[1;32m    309\u001b[0m         callback to compute the gradients via backpropagation.\"\"\"\n\u001b[0;32m--> 310\u001b[0;31m         \u001b[0;32mreturn\u001b[0m \u001b[0mself\u001b[0m\u001b[0;34m.\u001b[0m\u001b[0m_func\u001b[0m\u001b[0;34m(\u001b[0m\u001b[0mself\u001b[0m\u001b[0;34m,\u001b[0m \u001b[0mX\u001b[0m\u001b[0;34m,\u001b[0m \u001b[0mis_train\u001b[0m\u001b[0;34m=\u001b[0m\u001b[0mis_train\u001b[0m\u001b[0;34m)\u001b[0m\u001b[0;34m\u001b[0m\u001b[0;34m\u001b[0m\u001b[0m\n\u001b[0m\u001b[1;32m    311\u001b[0m \u001b[0;34m\u001b[0m\u001b[0m\n\u001b[1;32m    312\u001b[0m     \u001b[0;32mdef\u001b[0m \u001b[0minitialize\u001b[0m\u001b[0;34m(\u001b[0m\u001b[0mself\u001b[0m\u001b[0;34m,\u001b[0m \u001b[0mX\u001b[0m\u001b[0;34m:\u001b[0m \u001b[0mOptional\u001b[0m\u001b[0;34m[\u001b[0m\u001b[0mInT\u001b[0m\u001b[0;34m]\u001b[0m \u001b[0;34m=\u001b[0m \u001b[0;32mNone\u001b[0m\u001b[0;34m,\u001b[0m \u001b[0mY\u001b[0m\u001b[0;34m:\u001b[0m \u001b[0mOptional\u001b[0m\u001b[0;34m[\u001b[0m\u001b[0mOutT\u001b[0m\u001b[0;34m]\u001b[0m \u001b[0;34m=\u001b[0m \u001b[0;32mNone\u001b[0m\u001b[0;34m)\u001b[0m \u001b[0;34m->\u001b[0m \u001b[0;34m\"Model\"\u001b[0m\u001b[0;34m:\u001b[0m\u001b[0;34m\u001b[0m\u001b[0;34m\u001b[0m\u001b[0m\n",
            "\u001b[0;32m/usr/local/lib/python3.10/dist-packages/thinc/layers/with_array.py\u001b[0m in \u001b[0;36mforward\u001b[0;34m(model, Xseq, is_train)\u001b[0m\n\u001b[1;32m     40\u001b[0m         \u001b[0;32mreturn\u001b[0m \u001b[0mmodel\u001b[0m\u001b[0;34m.\u001b[0m\u001b[0mlayers\u001b[0m\u001b[0;34m[\u001b[0m\u001b[0;36m0\u001b[0m\u001b[0;34m]\u001b[0m\u001b[0;34m(\u001b[0m\u001b[0mXseq\u001b[0m\u001b[0;34m,\u001b[0m \u001b[0mis_train\u001b[0m\u001b[0;34m)\u001b[0m\u001b[0;34m\u001b[0m\u001b[0;34m\u001b[0m\u001b[0m\n\u001b[1;32m     41\u001b[0m     \u001b[0;32melse\u001b[0m\u001b[0;34m:\u001b[0m\u001b[0;34m\u001b[0m\u001b[0;34m\u001b[0m\u001b[0m\n\u001b[0;32m---> 42\u001b[0;31m         \u001b[0;32mreturn\u001b[0m \u001b[0mcast\u001b[0m\u001b[0;34m(\u001b[0m\u001b[0mTuple\u001b[0m\u001b[0;34m[\u001b[0m\u001b[0mSeqT\u001b[0m\u001b[0;34m,\u001b[0m \u001b[0mCallable\u001b[0m\u001b[0;34m]\u001b[0m\u001b[0;34m,\u001b[0m \u001b[0m_list_forward\u001b[0m\u001b[0;34m(\u001b[0m\u001b[0mmodel\u001b[0m\u001b[0;34m,\u001b[0m \u001b[0mXseq\u001b[0m\u001b[0;34m,\u001b[0m \u001b[0mis_train\u001b[0m\u001b[0;34m)\u001b[0m\u001b[0;34m)\u001b[0m\u001b[0;34m\u001b[0m\u001b[0;34m\u001b[0m\u001b[0m\n\u001b[0m\u001b[1;32m     43\u001b[0m \u001b[0;34m\u001b[0m\u001b[0m\n\u001b[1;32m     44\u001b[0m \u001b[0;34m\u001b[0m\u001b[0m\n",
            "\u001b[0;32m/usr/local/lib/python3.10/dist-packages/thinc/layers/with_array.py\u001b[0m in \u001b[0;36m_list_forward\u001b[0;34m(model, Xs, is_train)\u001b[0m\n\u001b[1;32m     75\u001b[0m     \u001b[0mlengths\u001b[0m \u001b[0;34m=\u001b[0m \u001b[0mNUMPY_OPS\u001b[0m\u001b[0;34m.\u001b[0m\u001b[0masarray1i\u001b[0m\u001b[0;34m(\u001b[0m\u001b[0;34m[\u001b[0m\u001b[0mlen\u001b[0m\u001b[0;34m(\u001b[0m\u001b[0mseq\u001b[0m\u001b[0;34m)\u001b[0m \u001b[0;32mfor\u001b[0m \u001b[0mseq\u001b[0m \u001b[0;32min\u001b[0m \u001b[0mXs\u001b[0m\u001b[0;34m]\u001b[0m\u001b[0;34m)\u001b[0m\u001b[0;34m\u001b[0m\u001b[0;34m\u001b[0m\u001b[0m\n\u001b[1;32m     76\u001b[0m     \u001b[0mXf\u001b[0m \u001b[0;34m=\u001b[0m \u001b[0mlayer\u001b[0m\u001b[0;34m.\u001b[0m\u001b[0mops\u001b[0m\u001b[0;34m.\u001b[0m\u001b[0mflatten\u001b[0m\u001b[0;34m(\u001b[0m\u001b[0mXs\u001b[0m\u001b[0;34m,\u001b[0m \u001b[0mpad\u001b[0m\u001b[0;34m=\u001b[0m\u001b[0mpad\u001b[0m\u001b[0;34m)\u001b[0m\u001b[0;34m\u001b[0m\u001b[0;34m\u001b[0m\u001b[0m\n\u001b[0;32m---> 77\u001b[0;31m     \u001b[0mYf\u001b[0m\u001b[0;34m,\u001b[0m \u001b[0mget_dXf\u001b[0m \u001b[0;34m=\u001b[0m \u001b[0mlayer\u001b[0m\u001b[0;34m(\u001b[0m\u001b[0mXf\u001b[0m\u001b[0;34m,\u001b[0m \u001b[0mis_train\u001b[0m\u001b[0;34m)\u001b[0m\u001b[0;34m\u001b[0m\u001b[0;34m\u001b[0m\u001b[0m\n\u001b[0m\u001b[1;32m     78\u001b[0m \u001b[0;34m\u001b[0m\u001b[0m\n\u001b[1;32m     79\u001b[0m     \u001b[0;32mdef\u001b[0m \u001b[0mbackprop\u001b[0m\u001b[0;34m(\u001b[0m\u001b[0mdYs\u001b[0m\u001b[0;34m:\u001b[0m \u001b[0mListXd\u001b[0m\u001b[0;34m)\u001b[0m \u001b[0;34m->\u001b[0m \u001b[0mListXd\u001b[0m\u001b[0;34m:\u001b[0m\u001b[0;34m\u001b[0m\u001b[0;34m\u001b[0m\u001b[0m\n",
            "\u001b[0;32m/usr/local/lib/python3.10/dist-packages/thinc/model.py\u001b[0m in \u001b[0;36m__call__\u001b[0;34m(self, X, is_train)\u001b[0m\n\u001b[1;32m    308\u001b[0m         \"\"\"Call the model's `forward` function, returning the output and a\n\u001b[1;32m    309\u001b[0m         callback to compute the gradients via backpropagation.\"\"\"\n\u001b[0;32m--> 310\u001b[0;31m         \u001b[0;32mreturn\u001b[0m \u001b[0mself\u001b[0m\u001b[0;34m.\u001b[0m\u001b[0m_func\u001b[0m\u001b[0;34m(\u001b[0m\u001b[0mself\u001b[0m\u001b[0;34m,\u001b[0m \u001b[0mX\u001b[0m\u001b[0;34m,\u001b[0m \u001b[0mis_train\u001b[0m\u001b[0;34m=\u001b[0m\u001b[0mis_train\u001b[0m\u001b[0;34m)\u001b[0m\u001b[0;34m\u001b[0m\u001b[0;34m\u001b[0m\u001b[0m\n\u001b[0m\u001b[1;32m    311\u001b[0m \u001b[0;34m\u001b[0m\u001b[0m\n\u001b[1;32m    312\u001b[0m     \u001b[0;32mdef\u001b[0m \u001b[0minitialize\u001b[0m\u001b[0;34m(\u001b[0m\u001b[0mself\u001b[0m\u001b[0;34m,\u001b[0m \u001b[0mX\u001b[0m\u001b[0;34m:\u001b[0m \u001b[0mOptional\u001b[0m\u001b[0;34m[\u001b[0m\u001b[0mInT\u001b[0m\u001b[0;34m]\u001b[0m \u001b[0;34m=\u001b[0m \u001b[0;32mNone\u001b[0m\u001b[0;34m,\u001b[0m \u001b[0mY\u001b[0m\u001b[0;34m:\u001b[0m \u001b[0mOptional\u001b[0m\u001b[0;34m[\u001b[0m\u001b[0mOutT\u001b[0m\u001b[0;34m]\u001b[0m \u001b[0;34m=\u001b[0m \u001b[0;32mNone\u001b[0m\u001b[0;34m)\u001b[0m \u001b[0;34m->\u001b[0m \u001b[0;34m\"Model\"\u001b[0m\u001b[0;34m:\u001b[0m\u001b[0;34m\u001b[0m\u001b[0;34m\u001b[0m\u001b[0m\n",
            "\u001b[0;32m/usr/local/lib/python3.10/dist-packages/thinc/layers/chain.py\u001b[0m in \u001b[0;36mforward\u001b[0;34m(model, X, is_train)\u001b[0m\n\u001b[1;32m     52\u001b[0m     \u001b[0mcallbacks\u001b[0m \u001b[0;34m=\u001b[0m \u001b[0;34m[\u001b[0m\u001b[0;34m]\u001b[0m\u001b[0;34m\u001b[0m\u001b[0;34m\u001b[0m\u001b[0m\n\u001b[1;32m     53\u001b[0m     \u001b[0;32mfor\u001b[0m \u001b[0mlayer\u001b[0m \u001b[0;32min\u001b[0m \u001b[0mmodel\u001b[0m\u001b[0;34m.\u001b[0m\u001b[0mlayers\u001b[0m\u001b[0;34m:\u001b[0m\u001b[0;34m\u001b[0m\u001b[0;34m\u001b[0m\u001b[0m\n\u001b[0;32m---> 54\u001b[0;31m         \u001b[0mY\u001b[0m\u001b[0;34m,\u001b[0m \u001b[0minc_layer_grad\u001b[0m \u001b[0;34m=\u001b[0m \u001b[0mlayer\u001b[0m\u001b[0;34m(\u001b[0m\u001b[0mX\u001b[0m\u001b[0;34m,\u001b[0m \u001b[0mis_train\u001b[0m\u001b[0;34m=\u001b[0m\u001b[0mis_train\u001b[0m\u001b[0;34m)\u001b[0m\u001b[0;34m\u001b[0m\u001b[0;34m\u001b[0m\u001b[0m\n\u001b[0m\u001b[1;32m     55\u001b[0m         \u001b[0mcallbacks\u001b[0m\u001b[0;34m.\u001b[0m\u001b[0mappend\u001b[0m\u001b[0;34m(\u001b[0m\u001b[0minc_layer_grad\u001b[0m\u001b[0;34m)\u001b[0m\u001b[0;34m\u001b[0m\u001b[0;34m\u001b[0m\u001b[0m\n\u001b[1;32m     56\u001b[0m         \u001b[0mX\u001b[0m \u001b[0;34m=\u001b[0m \u001b[0mY\u001b[0m\u001b[0;34m\u001b[0m\u001b[0;34m\u001b[0m\u001b[0m\n",
            "\u001b[0;32m/usr/local/lib/python3.10/dist-packages/thinc/model.py\u001b[0m in \u001b[0;36m__call__\u001b[0;34m(self, X, is_train)\u001b[0m\n\u001b[1;32m    308\u001b[0m         \"\"\"Call the model's `forward` function, returning the output and a\n\u001b[1;32m    309\u001b[0m         callback to compute the gradients via backpropagation.\"\"\"\n\u001b[0;32m--> 310\u001b[0;31m         \u001b[0;32mreturn\u001b[0m \u001b[0mself\u001b[0m\u001b[0;34m.\u001b[0m\u001b[0m_func\u001b[0m\u001b[0;34m(\u001b[0m\u001b[0mself\u001b[0m\u001b[0;34m,\u001b[0m \u001b[0mX\u001b[0m\u001b[0;34m,\u001b[0m \u001b[0mis_train\u001b[0m\u001b[0;34m=\u001b[0m\u001b[0mis_train\u001b[0m\u001b[0;34m)\u001b[0m\u001b[0;34m\u001b[0m\u001b[0;34m\u001b[0m\u001b[0m\n\u001b[0m\u001b[1;32m    311\u001b[0m \u001b[0;34m\u001b[0m\u001b[0m\n\u001b[1;32m    312\u001b[0m     \u001b[0;32mdef\u001b[0m \u001b[0minitialize\u001b[0m\u001b[0;34m(\u001b[0m\u001b[0mself\u001b[0m\u001b[0;34m,\u001b[0m \u001b[0mX\u001b[0m\u001b[0;34m:\u001b[0m \u001b[0mOptional\u001b[0m\u001b[0;34m[\u001b[0m\u001b[0mInT\u001b[0m\u001b[0;34m]\u001b[0m \u001b[0;34m=\u001b[0m \u001b[0;32mNone\u001b[0m\u001b[0;34m,\u001b[0m \u001b[0mY\u001b[0m\u001b[0;34m:\u001b[0m \u001b[0mOptional\u001b[0m\u001b[0;34m[\u001b[0m\u001b[0mOutT\u001b[0m\u001b[0;34m]\u001b[0m \u001b[0;34m=\u001b[0m \u001b[0;32mNone\u001b[0m\u001b[0;34m)\u001b[0m \u001b[0;34m->\u001b[0m \u001b[0;34m\"Model\"\u001b[0m\u001b[0;34m:\u001b[0m\u001b[0;34m\u001b[0m\u001b[0;34m\u001b[0m\u001b[0m\n",
            "\u001b[0;32m/usr/local/lib/python3.10/dist-packages/thinc/layers/residual.py\u001b[0m in \u001b[0;36mforward\u001b[0;34m(model, X, is_train)\u001b[0m\n\u001b[1;32m     39\u001b[0m             \u001b[0;32mreturn\u001b[0m \u001b[0md_output\u001b[0m \u001b[0;34m+\u001b[0m \u001b[0mdX\u001b[0m\u001b[0;34m\u001b[0m\u001b[0;34m\u001b[0m\u001b[0m\n\u001b[1;32m     40\u001b[0m \u001b[0;34m\u001b[0m\u001b[0m\n\u001b[0;32m---> 41\u001b[0;31m     \u001b[0mY\u001b[0m\u001b[0;34m,\u001b[0m \u001b[0mbackprop_layer\u001b[0m \u001b[0;34m=\u001b[0m \u001b[0mmodel\u001b[0m\u001b[0;34m.\u001b[0m\u001b[0mlayers\u001b[0m\u001b[0;34m[\u001b[0m\u001b[0;36m0\u001b[0m\u001b[0;34m]\u001b[0m\u001b[0;34m(\u001b[0m\u001b[0mX\u001b[0m\u001b[0;34m,\u001b[0m \u001b[0mis_train\u001b[0m\u001b[0;34m)\u001b[0m\u001b[0;34m\u001b[0m\u001b[0;34m\u001b[0m\u001b[0m\n\u001b[0m\u001b[1;32m     42\u001b[0m     \u001b[0;32mif\u001b[0m \u001b[0misinstance\u001b[0m\u001b[0;34m(\u001b[0m\u001b[0mX\u001b[0m\u001b[0;34m,\u001b[0m \u001b[0mlist\u001b[0m\u001b[0;34m)\u001b[0m\u001b[0;34m:\u001b[0m\u001b[0;34m\u001b[0m\u001b[0;34m\u001b[0m\u001b[0m\n\u001b[1;32m     43\u001b[0m         \u001b[0;32mreturn\u001b[0m \u001b[0;34m[\u001b[0m\u001b[0mX\u001b[0m\u001b[0;34m[\u001b[0m\u001b[0mi\u001b[0m\u001b[0;34m]\u001b[0m \u001b[0;34m+\u001b[0m \u001b[0mY\u001b[0m\u001b[0;34m[\u001b[0m\u001b[0mi\u001b[0m\u001b[0;34m]\u001b[0m \u001b[0;32mfor\u001b[0m \u001b[0mi\u001b[0m \u001b[0;32min\u001b[0m \u001b[0mrange\u001b[0m\u001b[0;34m(\u001b[0m\u001b[0mlen\u001b[0m\u001b[0;34m(\u001b[0m\u001b[0mX\u001b[0m\u001b[0;34m)\u001b[0m\u001b[0;34m)\u001b[0m\u001b[0;34m]\u001b[0m\u001b[0;34m,\u001b[0m \u001b[0mbackprop\u001b[0m\u001b[0;34m\u001b[0m\u001b[0;34m\u001b[0m\u001b[0m\n",
            "\u001b[0;32m/usr/local/lib/python3.10/dist-packages/thinc/model.py\u001b[0m in \u001b[0;36m__call__\u001b[0;34m(self, X, is_train)\u001b[0m\n\u001b[1;32m    308\u001b[0m         \"\"\"Call the model's `forward` function, returning the output and a\n\u001b[1;32m    309\u001b[0m         callback to compute the gradients via backpropagation.\"\"\"\n\u001b[0;32m--> 310\u001b[0;31m         \u001b[0;32mreturn\u001b[0m \u001b[0mself\u001b[0m\u001b[0;34m.\u001b[0m\u001b[0m_func\u001b[0m\u001b[0;34m(\u001b[0m\u001b[0mself\u001b[0m\u001b[0;34m,\u001b[0m \u001b[0mX\u001b[0m\u001b[0;34m,\u001b[0m \u001b[0mis_train\u001b[0m\u001b[0;34m=\u001b[0m\u001b[0mis_train\u001b[0m\u001b[0;34m)\u001b[0m\u001b[0;34m\u001b[0m\u001b[0;34m\u001b[0m\u001b[0m\n\u001b[0m\u001b[1;32m    311\u001b[0m \u001b[0;34m\u001b[0m\u001b[0m\n\u001b[1;32m    312\u001b[0m     \u001b[0;32mdef\u001b[0m \u001b[0minitialize\u001b[0m\u001b[0;34m(\u001b[0m\u001b[0mself\u001b[0m\u001b[0;34m,\u001b[0m \u001b[0mX\u001b[0m\u001b[0;34m:\u001b[0m \u001b[0mOptional\u001b[0m\u001b[0;34m[\u001b[0m\u001b[0mInT\u001b[0m\u001b[0;34m]\u001b[0m \u001b[0;34m=\u001b[0m \u001b[0;32mNone\u001b[0m\u001b[0;34m,\u001b[0m \u001b[0mY\u001b[0m\u001b[0;34m:\u001b[0m \u001b[0mOptional\u001b[0m\u001b[0;34m[\u001b[0m\u001b[0mOutT\u001b[0m\u001b[0;34m]\u001b[0m \u001b[0;34m=\u001b[0m \u001b[0;32mNone\u001b[0m\u001b[0;34m)\u001b[0m \u001b[0;34m->\u001b[0m \u001b[0;34m\"Model\"\u001b[0m\u001b[0;34m:\u001b[0m\u001b[0;34m\u001b[0m\u001b[0;34m\u001b[0m\u001b[0m\n",
            "\u001b[0;32m/usr/local/lib/python3.10/dist-packages/thinc/layers/chain.py\u001b[0m in \u001b[0;36mforward\u001b[0;34m(model, X, is_train)\u001b[0m\n\u001b[1;32m     52\u001b[0m     \u001b[0mcallbacks\u001b[0m \u001b[0;34m=\u001b[0m \u001b[0;34m[\u001b[0m\u001b[0;34m]\u001b[0m\u001b[0;34m\u001b[0m\u001b[0;34m\u001b[0m\u001b[0m\n\u001b[1;32m     53\u001b[0m     \u001b[0;32mfor\u001b[0m \u001b[0mlayer\u001b[0m \u001b[0;32min\u001b[0m \u001b[0mmodel\u001b[0m\u001b[0;34m.\u001b[0m\u001b[0mlayers\u001b[0m\u001b[0;34m:\u001b[0m\u001b[0;34m\u001b[0m\u001b[0;34m\u001b[0m\u001b[0m\n\u001b[0;32m---> 54\u001b[0;31m         \u001b[0mY\u001b[0m\u001b[0;34m,\u001b[0m \u001b[0minc_layer_grad\u001b[0m \u001b[0;34m=\u001b[0m \u001b[0mlayer\u001b[0m\u001b[0;34m(\u001b[0m\u001b[0mX\u001b[0m\u001b[0;34m,\u001b[0m \u001b[0mis_train\u001b[0m\u001b[0;34m=\u001b[0m\u001b[0mis_train\u001b[0m\u001b[0;34m)\u001b[0m\u001b[0;34m\u001b[0m\u001b[0;34m\u001b[0m\u001b[0m\n\u001b[0m\u001b[1;32m     55\u001b[0m         \u001b[0mcallbacks\u001b[0m\u001b[0;34m.\u001b[0m\u001b[0mappend\u001b[0m\u001b[0;34m(\u001b[0m\u001b[0minc_layer_grad\u001b[0m\u001b[0;34m)\u001b[0m\u001b[0;34m\u001b[0m\u001b[0;34m\u001b[0m\u001b[0m\n\u001b[1;32m     56\u001b[0m         \u001b[0mX\u001b[0m \u001b[0;34m=\u001b[0m \u001b[0mY\u001b[0m\u001b[0;34m\u001b[0m\u001b[0;34m\u001b[0m\u001b[0m\n",
            "\u001b[0;32m/usr/local/lib/python3.10/dist-packages/thinc/model.py\u001b[0m in \u001b[0;36m__call__\u001b[0;34m(self, X, is_train)\u001b[0m\n\u001b[1;32m    308\u001b[0m         \"\"\"Call the model's `forward` function, returning the output and a\n\u001b[1;32m    309\u001b[0m         callback to compute the gradients via backpropagation.\"\"\"\n\u001b[0;32m--> 310\u001b[0;31m         \u001b[0;32mreturn\u001b[0m \u001b[0mself\u001b[0m\u001b[0;34m.\u001b[0m\u001b[0m_func\u001b[0m\u001b[0;34m(\u001b[0m\u001b[0mself\u001b[0m\u001b[0;34m,\u001b[0m \u001b[0mX\u001b[0m\u001b[0;34m,\u001b[0m \u001b[0mis_train\u001b[0m\u001b[0;34m=\u001b[0m\u001b[0mis_train\u001b[0m\u001b[0;34m)\u001b[0m\u001b[0;34m\u001b[0m\u001b[0;34m\u001b[0m\u001b[0m\n\u001b[0m\u001b[1;32m    311\u001b[0m \u001b[0;34m\u001b[0m\u001b[0m\n\u001b[1;32m    312\u001b[0m     \u001b[0;32mdef\u001b[0m \u001b[0minitialize\u001b[0m\u001b[0;34m(\u001b[0m\u001b[0mself\u001b[0m\u001b[0;34m,\u001b[0m \u001b[0mX\u001b[0m\u001b[0;34m:\u001b[0m \u001b[0mOptional\u001b[0m\u001b[0;34m[\u001b[0m\u001b[0mInT\u001b[0m\u001b[0;34m]\u001b[0m \u001b[0;34m=\u001b[0m \u001b[0;32mNone\u001b[0m\u001b[0;34m,\u001b[0m \u001b[0mY\u001b[0m\u001b[0;34m:\u001b[0m \u001b[0mOptional\u001b[0m\u001b[0;34m[\u001b[0m\u001b[0mOutT\u001b[0m\u001b[0;34m]\u001b[0m \u001b[0;34m=\u001b[0m \u001b[0;32mNone\u001b[0m\u001b[0;34m)\u001b[0m \u001b[0;34m->\u001b[0m \u001b[0;34m\"Model\"\u001b[0m\u001b[0;34m:\u001b[0m\u001b[0;34m\u001b[0m\u001b[0;34m\u001b[0m\u001b[0m\n",
            "\u001b[0;32m/usr/local/lib/python3.10/dist-packages/thinc/layers/expand_window.py\u001b[0m in \u001b[0;36mforward\u001b[0;34m(model, X, is_train)\u001b[0m\n\u001b[1;32m     20\u001b[0m         \u001b[0;32mreturn\u001b[0m \u001b[0m_expand_window_ragged\u001b[0m\u001b[0;34m(\u001b[0m\u001b[0mmodel\u001b[0m\u001b[0;34m,\u001b[0m \u001b[0mX\u001b[0m\u001b[0;34m)\u001b[0m\u001b[0;34m\u001b[0m\u001b[0;34m\u001b[0m\u001b[0m\n\u001b[1;32m     21\u001b[0m     \u001b[0;32melse\u001b[0m\u001b[0;34m:\u001b[0m\u001b[0;34m\u001b[0m\u001b[0;34m\u001b[0m\u001b[0m\n\u001b[0;32m---> 22\u001b[0;31m         \u001b[0;32mreturn\u001b[0m \u001b[0m_expand_window_floats\u001b[0m\u001b[0;34m(\u001b[0m\u001b[0mmodel\u001b[0m\u001b[0;34m,\u001b[0m \u001b[0mX\u001b[0m\u001b[0;34m)\u001b[0m\u001b[0;34m\u001b[0m\u001b[0;34m\u001b[0m\u001b[0m\n\u001b[0m\u001b[1;32m     23\u001b[0m \u001b[0;34m\u001b[0m\u001b[0m\n\u001b[1;32m     24\u001b[0m \u001b[0;34m\u001b[0m\u001b[0m\n",
            "\u001b[0;32m/usr/local/lib/python3.10/dist-packages/thinc/layers/expand_window.py\u001b[0m in \u001b[0;36m_expand_window_floats\u001b[0;34m(model, X)\u001b[0m\n\u001b[1;32m     28\u001b[0m     \u001b[0mnW\u001b[0m \u001b[0;34m=\u001b[0m \u001b[0mmodel\u001b[0m\u001b[0;34m.\u001b[0m\u001b[0mattrs\u001b[0m\u001b[0;34m[\u001b[0m\u001b[0;34m\"window_size\"\u001b[0m\u001b[0;34m]\u001b[0m\u001b[0;34m\u001b[0m\u001b[0;34m\u001b[0m\u001b[0m\n\u001b[1;32m     29\u001b[0m     \u001b[0;32mif\u001b[0m \u001b[0mlen\u001b[0m\u001b[0;34m(\u001b[0m\u001b[0mX\u001b[0m\u001b[0;34m)\u001b[0m \u001b[0;34m>\u001b[0m \u001b[0;36m0\u001b[0m\u001b[0;34m:\u001b[0m\u001b[0;34m\u001b[0m\u001b[0;34m\u001b[0m\u001b[0m\n\u001b[0;32m---> 30\u001b[0;31m         \u001b[0mY\u001b[0m \u001b[0;34m=\u001b[0m \u001b[0mmodel\u001b[0m\u001b[0;34m.\u001b[0m\u001b[0mops\u001b[0m\u001b[0;34m.\u001b[0m\u001b[0mseq2col\u001b[0m\u001b[0;34m(\u001b[0m\u001b[0mX\u001b[0m\u001b[0;34m,\u001b[0m \u001b[0mnW\u001b[0m\u001b[0;34m)\u001b[0m\u001b[0;34m\u001b[0m\u001b[0;34m\u001b[0m\u001b[0m\n\u001b[0m\u001b[1;32m     31\u001b[0m     \u001b[0;32melse\u001b[0m\u001b[0;34m:\u001b[0m\u001b[0;34m\u001b[0m\u001b[0;34m\u001b[0m\u001b[0m\n\u001b[1;32m     32\u001b[0m         \u001b[0;32massert\u001b[0m \u001b[0mlen\u001b[0m\u001b[0;34m(\u001b[0m\u001b[0mX\u001b[0m\u001b[0;34m)\u001b[0m \u001b[0;34m==\u001b[0m \u001b[0;36m0\u001b[0m\u001b[0;34m\u001b[0m\u001b[0;34m\u001b[0m\u001b[0m\n",
            "\u001b[0;31mKeyboardInterrupt\u001b[0m: "
          ]
        }
      ]
    },
    {
      "cell_type": "markdown",
      "id": "ae4d3aaf",
      "metadata": {
        "id": "ae4d3aaf"
      },
      "source": [
        "# Building a text normalizer"
      ]
    },
    {
      "cell_type": "code",
      "execution_count": 56,
      "id": "6ebaefc5",
      "metadata": {
        "id": "6ebaefc5"
      },
      "outputs": [],
      "source": [
        "def normalize_corpus(corpus, html_stripping=True, contraction_expansion=True,\n",
        "                     accented_char_removal=True, text_lower_case=True,\n",
        "                     text_lemmatization=True, special_char_removal=True,\n",
        "                     stopword_removal=True, remove_digits=True):\n",
        "\n",
        "    normalized_corpus = []\n",
        "    # normalize each document in the corpus\n",
        "    for doc in corpus:\n",
        "        # strip HTML\n",
        "        if html_stripping:\n",
        "            doc = strip_html_tags(doc)\n",
        "        # remove accented characters\n",
        "        if accented_char_removal:\n",
        "            doc = remove_accented_chars(doc)\n",
        "        # lowercase the text\n",
        "        if text_lower_case:\n",
        "            doc = doc.lower()\n",
        "        # remove extra newlines\n",
        "        doc = re.sub(r'[\\r|\\n|\\r\\n]+', ' ',doc)\n",
        "        # lemmatize text\n",
        "        if text_lemmatization:\n",
        "            doc = lemmatize_text(doc)\n",
        "        # remove special characters and\\or digits\n",
        "        if special_char_removal:\n",
        "            # insert spaces between special characters to isolate them\n",
        "            special_char_pattern = re.compile(r'([{.(-)!}])')\n",
        "            doc = special_char_pattern.sub(\" \\\\1 \", doc)\n",
        "            doc = remove_special_characters(doc, remove_digits=remove_digits)\n",
        "        # remove extra whitespace\n",
        "        doc = re.sub(' +', ' ', doc)\n",
        "        # remove stopwords\n",
        "        if stopword_removal:\n",
        "            doc = remove_stopwords(doc, is_lower_case=text_lower_case)\n",
        "\n",
        "        normalized_corpus.append(doc)\n",
        "\n",
        "    return normalized_corpus"
      ]
    },
    {
      "cell_type": "code",
      "execution_count": 57,
      "id": "06ae92e2",
      "metadata": {
        "colab": {
          "base_uri": "https://localhost:8080/"
        },
        "id": "06ae92e2",
        "outputId": "75e94833-943c-4c45-d283-0b73e39db65e"
      },
      "outputs": [
        {
          "output_type": "stream",
          "name": "stdout",
          "text": [
            "Collecting contractions\n",
            "  Downloading contractions-0.1.73-py2.py3-none-any.whl (8.7 kB)\n",
            "Collecting textsearch>=0.0.21 (from contractions)\n",
            "  Downloading textsearch-0.0.24-py2.py3-none-any.whl (7.6 kB)\n",
            "Collecting anyascii (from textsearch>=0.0.21->contractions)\n",
            "  Downloading anyascii-0.3.2-py3-none-any.whl (289 kB)\n",
            "\u001b[2K     \u001b[90m━━━━━━━━━━━━━━━━━━━━━━━━━━━━━━━━━━━━━━━\u001b[0m \u001b[32m289.9/289.9 kB\u001b[0m \u001b[31m4.4 MB/s\u001b[0m eta \u001b[36m0:00:00\u001b[0m\n",
            "\u001b[?25hCollecting pyahocorasick (from textsearch>=0.0.21->contractions)\n",
            "  Downloading pyahocorasick-2.0.0-cp310-cp310-manylinux_2_5_x86_64.manylinux1_x86_64.manylinux_2_12_x86_64.manylinux2010_x86_64.whl (110 kB)\n",
            "\u001b[2K     \u001b[90m━━━━━━━━━━━━━━━━━━━━━━━━━━━━━━━━━━━━━━━\u001b[0m \u001b[32m110.8/110.8 kB\u001b[0m \u001b[31m5.0 MB/s\u001b[0m eta \u001b[36m0:00:00\u001b[0m\n",
            "\u001b[?25hInstalling collected packages: pyahocorasick, anyascii, textsearch, contractions\n",
            "Successfully installed anyascii-0.3.2 contractions-0.1.73 pyahocorasick-2.0.0 textsearch-0.0.24\n"
          ]
        }
      ],
      "source": [
        "pip install contractions"
      ]
    },
    {
      "cell_type": "code",
      "execution_count": 58,
      "id": "700c9abb",
      "metadata": {
        "id": "700c9abb"
      },
      "outputs": [],
      "source": [
        "import contractions"
      ]
    },
    {
      "cell_type": "code",
      "execution_count": 59,
      "id": "7c1db9c3",
      "metadata": {
        "colab": {
          "base_uri": "https://localhost:8080/"
        },
        "id": "7c1db9c3",
        "outputId": "b29b5559-251b-4093-dc2a-49eb63907141"
      },
      "outputs": [
        {
          "output_type": "stream",
          "name": "stdout",
          "text": [
            "        Id  Cancer                                               Text  \\\n",
            "0        0       0  Thyroid surgery children single institution Os...   \n",
            "1        1       0  `` adopted strategy used prior years [ ] based...   \n",
            "2        2       0  coronary arterybypass grafting thrombosis ibri...   \n",
            "3        3       0  Solitary plasmacytoma SP skull uncommon clinic...   \n",
            "4        4       0  study aimed investigate serum matrix metallopr...   \n",
            "...    ...     ...                                                ...   \n",
            "7409  7409       1  `` ovarian cancer leading cause cancerrelated ...   \n",
            "7410  7410       1  `` ovarian cancer second common gynecologic ca...   \n",
            "7411  7411       1  `` postmortem studies provide important inform...   \n",
            "7412  7412       1  gastrointestinal nematodes could release excre...   \n",
            "7413  7413       1  objective study aimed test hypothesis levobupi...   \n",
            "\n",
            "                                         Tokenized_Text  \n",
            "0     Thyroid surgery children single institution Os...  \n",
            "1     `` adopted strategy used prior years [ ] based...  \n",
            "2     coronary arterybypass grafting thrombosis ibri...  \n",
            "3     Solitary plasmacytoma SP skull uncommon clinic...  \n",
            "4     study aimed investigate serum matrix metallopr...  \n",
            "...                                                 ...  \n",
            "7409  `` ovarian cancer leading cause cancerrelated ...  \n",
            "7410  `` ovarian cancer second common gynecologic ca...  \n",
            "7411  `` postmortem studies provide important inform...  \n",
            "7412  gastrointestinal nematodes could release excre...  \n",
            "7413  objective study aimed test hypothesis levobupi...  \n",
            "\n",
            "[7414 rows x 4 columns]\n"
          ]
        }
      ],
      "source": [
        "def remove_digits(text):\n",
        "    # Define a pattern to match any digit\n",
        "    pattern = r'\\d'\n",
        "    # Use the sub method to replace the pattern with an empty string\n",
        "    text = re.sub(pattern, '', text)\n",
        "    return text\n",
        "df['Text'] = df['Text'].apply(remove_digits)\n",
        "print(df)"
      ]
    },
    {
      "cell_type": "code",
      "execution_count": 60,
      "id": "c0526033",
      "metadata": {
        "id": "c0526033"
      },
      "outputs": [],
      "source": [
        "from nltk.stem import PorterStemmer\n",
        "from nltk.stem import LancasterStemmer"
      ]
    },
    {
      "cell_type": "code",
      "execution_count": 61,
      "id": "837e8ea0",
      "metadata": {
        "id": "837e8ea0"
      },
      "outputs": [],
      "source": [
        "#create an object of class PorterStemmer\n",
        "porter = PorterStemmer()\n",
        "lancaster=LancasterStemmer()"
      ]
    },
    {
      "cell_type": "markdown",
      "id": "16c101a6",
      "metadata": {
        "id": "16c101a6"
      },
      "source": [
        "#### PorterStemmer\n",
        "\n",
        "- It uses set of rules to decide whether it is wise to strip a suffix.\n",
        "- Quite often does not generate words which are in dictionary.\n",
        "- PorterStemmer is known for its simplicity and speed."
      ]
    },
    {
      "cell_type": "code",
      "execution_count": 62,
      "id": "39074a3a",
      "metadata": {
        "scrolled": false,
        "colab": {
          "base_uri": "https://localhost:8080/"
        },
        "id": "39074a3a",
        "outputId": "e521e69c-c73f-4a20-9593-6c5c1708a8bf"
      },
      "outputs": [
        {
          "output_type": "stream",
          "name": "stdout",
          "text": [
            "        Id  Cancer                                               Text  \\\n",
            "0        0       0  Thyroid surgery children single institution Os...   \n",
            "1        1       0  `` adopted strategy used prior years [ ] based...   \n",
            "2        2       0  coronary arterybypass grafting thrombosis ibri...   \n",
            "3        3       0  Solitary plasmacytoma SP skull uncommon clinic...   \n",
            "4        4       0  study aimed investigate serum matrix metallopr...   \n",
            "...    ...     ...                                                ...   \n",
            "7409  7409       1  `` ovarian cancer leading cause cancerrelated ...   \n",
            "7410  7410       1  `` ovarian cancer second common gynecologic ca...   \n",
            "7411  7411       1  `` postmortem studies provide important inform...   \n",
            "7412  7412       1  gastrointestinal nematodes could release excre...   \n",
            "7413  7413       1  objective study aimed test hypothesis levobupi...   \n",
            "\n",
            "                                         Tokenized_Text  \\\n",
            "0     Thyroid surgery children single institution Os...   \n",
            "1     `` adopted strategy used prior years [ ] based...   \n",
            "2     coronary arterybypass grafting thrombosis ibri...   \n",
            "3     Solitary plasmacytoma SP skull uncommon clinic...   \n",
            "4     study aimed investigate serum matrix metallopr...   \n",
            "...                                                 ...   \n",
            "7409  `` ovarian cancer leading cause cancerrelated ...   \n",
            "7410  `` ovarian cancer second common gynecologic ca...   \n",
            "7411  `` postmortem studies provide important inform...   \n",
            "7412  gastrointestinal nematodes could release excre...   \n",
            "7413  objective study aimed test hypothesis levobupi...   \n",
            "\n",
            "                                            Porter Stem  \\\n",
            "0     thyroid surgery children single institution os...   \n",
            "1     `` adopted strategy used prior years [ ] based...   \n",
            "2     coronary arterybypass grafting thrombosis ibri...   \n",
            "3     solitary plasmacytoma sp skull uncommon clinic...   \n",
            "4     study aimed investigate serum matrix metallopr...   \n",
            "...                                                 ...   \n",
            "7409  `` ovarian cancer leading cause cancerrelated ...   \n",
            "7410  `` ovarian cancer second common gynecologic ca...   \n",
            "7411  `` postmortem studies provide important inform...   \n",
            "7412  gastrointestinal nematodes could release excre...   \n",
            "7413  objective study aimed test hypothesis levobupi...   \n",
            "\n",
            "                                         Lancaster Stem  \n",
            "0     thyroid surgery children single institution os...  \n",
            "1     `` adopted strategy used prior years [ ] based...  \n",
            "2     coronary arterybypass grafting thrombosis ibri...  \n",
            "3     solitary plasmacytoma sp skull uncommon clinic...  \n",
            "4     study aimed investigate serum matrix metallopr...  \n",
            "...                                                 ...  \n",
            "7409  `` ovarian cancer leading cause cancerrelated ...  \n",
            "7410  `` ovarian cancer second common gynecologic ca...  \n",
            "7411  `` postmortem studies provide important inform...  \n",
            "7412  gastrointestinal nematodes could release excre...  \n",
            "7413  objective study aimed test hypothesis levobupi...  \n",
            "\n",
            "[7414 rows x 6 columns]\n"
          ]
        }
      ],
      "source": [
        "from nltk.stem import PorterStemmer, LancasterStemmer\n",
        "\n",
        "# Create objects of PorterStemmer and LancasterStemmer\n",
        "porter = PorterStemmer()\n",
        "lancaster = LancasterStemmer()\n",
        "\n",
        "# Define a function to apply the stemmers\n",
        "def apply_stemmers(text):\n",
        "    porter_stem = porter.stem(text)\n",
        "    lancaster_stem = lancaster.stem(text)\n",
        "    return porter_stem, lancaster_stem\n",
        "\n",
        "# Apply the stemmers to the 'Text' column and store the results in new columns\n",
        "df[['Porter Stem', 'Lancaster Stem']] = df['Text'].apply(apply_stemmers).apply(pd.Series)\n",
        "\n",
        "# Print the DataFrame with the stemmed results\n",
        "print(df)\n"
      ]
    },
    {
      "cell_type": "code",
      "execution_count": 64,
      "id": "5f4a6642",
      "metadata": {
        "colab": {
          "base_uri": "https://localhost:8080/",
          "height": 422
        },
        "id": "5f4a6642",
        "outputId": "add7e1a9-aace-4792-be15-d9fe8e3c9241"
      },
      "outputs": [
        {
          "output_type": "display_data",
          "data": {
            "text/plain": [
              "<Figure size 1000x500 with 1 Axes>"
            ],
            "image/png": "[encoded data removed]"
          },
          "metadata": {}
        }
      ],
      "source": [
        "import pandas as pd\n",
        "from wordcloud import WordCloud\n",
        "import matplotlib.pyplot as plt\n",
        "\n",
        "# Combine all the text data into a single string\n",
        "text = ' '.join(df['Text'])\n",
        "\n",
        "# Generate the WordCloud\n",
        "wordcloud = WordCloud(width=800, height=400, background_color='white').generate(text)\n",
        "\n",
        "# Display the WordCloud using matplotlib\n",
        "plt.figure(figsize=(10, 5))\n",
        "plt.imshow(wordcloud, interpolation='bilinear')\n",
        "plt.axis('off')  # Hide the axis\n",
        "plt.show()\n"
      ]
    },
    {
      "cell_type": "code",
      "execution_count": null,
      "id": "97908618",
      "metadata": {
        "id": "97908618"
      },
      "outputs": [],
      "source": []
    },
    {
      "cell_type": "markdown",
      "id": "51bf560b",
      "metadata": {
        "id": "51bf560b"
      },
      "source": [
        "# Topic Modeling"
      ]
    },
    {
      "cell_type": "markdown",
      "id": "1b687840",
      "metadata": {
        "id": "1b687840"
      },
      "source": [
        "`Topic modeling` is a natural language processing `(NLP)` technique used for uncovering the hidden thematic structure in a large collection of documents. It's a form of unsupervised machine learning that aims to identify and extract topics or themes from textual data."
      ]
    },
    {
      "cell_type": "markdown",
      "id": "c15a43cd",
      "metadata": {
        "id": "c15a43cd"
      },
      "source": [
        "```Objective:``` The primary goal of topic modeling is to discover the underlying topics or themes within a corpus (collection) of text documents. These topics represent the main ideas or subject areas that frequently occur in the texts."
      ]
    },
    {
      "cell_type": "markdown",
      "id": "cb4e210d",
      "metadata": {
        "id": "cb4e210d"
      },
      "source": [
        "```Applications: Topic modeling has a wide range of applications, including:```\n",
        "\n",
        "``` `Content recommendation:` Identifying topics helps recommend similar articles or products to users.\n",
        "`Information retrieval:` Enhancing search engines to retrieve documents based on topics.\n",
        "`Text summarization:` Generating concise summaries of documents by focusing on the most important topics.\n",
        "`Sentiment analysis:` Determining the sentiment expressed within specific topics.\n",
        "`Market research:` Analyzing customer feedback to identify common themes or concerns.```"
      ]
    },
    {
      "cell_type": "code",
      "execution_count": null,
      "id": "9f5bd004",
      "metadata": {
        "scrolled": false,
        "id": "9f5bd004",
        "outputId": "2e6021c8-6b18-4876-c17c-dbc651cad643"
      },
      "outputs": [
        {
          "name": "stdout",
          "output_type": "stream",
          "text": [
            "Defaulting to user installation because normal site-packages is not writeable\n",
            "Requirement already satisfied: gensim in c:\\programdata\\anaconda3\\lib\\site-packages (4.1.2)\n",
            "Requirement already satisfied: scikit-learn in c:\\users\\purushottam\\appdata\\roaming\\python\\python39\\site-packages (1.3.0)\n",
            "Requirement already satisfied: numpy>=1.17.0 in c:\\programdata\\anaconda3\\lib\\site-packages (from gensim) (1.21.5)\n",
            "Requirement already satisfied: smart-open>=1.8.1 in c:\\users\\purushottam\\appdata\\roaming\\python\\python39\\site-packages (from gensim) (6.3.0)\n",
            "Requirement already satisfied: scipy>=0.18.1 in c:\\programdata\\anaconda3\\lib\\site-packages (from gensim) (1.7.3)\n",
            "Requirement already satisfied: threadpoolctl>=2.0.0 in c:\\programdata\\anaconda3\\lib\\site-packages (from scikit-learn) (2.2.0)\n",
            "Requirement already satisfied: joblib>=1.1.1 in c:\\users\\purushottam\\appdata\\roaming\\python\\python39\\site-packages (from scikit-learn) (1.2.0)\n",
            "Note: you may need to restart the kernel to use updated packages.\n"
          ]
        }
      ],
      "source": [
        "pip install gensim scikit-learn"
      ]
    },
    {
      "cell_type": "code",
      "execution_count": null,
      "id": "3ca3a736",
      "metadata": {
        "scrolled": true,
        "id": "3ca3a736",
        "outputId": "b4879713-a0c5-4877-cdec-e23a7ca939e9"
      },
      "outputs": [
        {
          "name": "stdout",
          "output_type": "stream",
          "text": [
            "Defaulting to user installation because normal site-packages is not writeable\n",
            "Requirement already satisfied: gensim in c:\\programdata\\anaconda3\\lib\\site-packages (4.1.2)\n",
            "Requirement already satisfied: smart-open>=1.8.1 in c:\\users\\purushottam\\appdata\\roaming\\python\\python39\\site-packages (from gensim) (6.3.0)\n",
            "Requirement already satisfied: scipy>=0.18.1 in c:\\programdata\\anaconda3\\lib\\site-packages (from gensim) (1.7.3)\n",
            "Requirement already satisfied: numpy>=1.17.0 in c:\\programdata\\anaconda3\\lib\\site-packages (from gensim) (1.21.5)\n",
            "Note: you may need to restart the kernel to use updated packages.\n"
          ]
        }
      ],
      "source": [
        "pip install gensim"
      ]
    },
    {
      "cell_type": "code",
      "execution_count": null,
      "id": "ca0f6361",
      "metadata": {
        "id": "ca0f6361"
      },
      "outputs": [],
      "source": [
        "import gensim"
      ]
    },
    {
      "cell_type": "code",
      "execution_count": null,
      "id": "37a42738",
      "metadata": {
        "scrolled": true,
        "id": "37a42738",
        "outputId": "129363bb-a400-4fea-dba1-18082046e519"
      },
      "outputs": [
        {
          "name": "stdout",
          "output_type": "stream",
          "text": [
            "Topic: 0 \n",
            "Words: 0.010*\"patients\" + 0.006*\"study\" + 0.005*\"cancer\" + 0.003*\"disease\" + 0.003*\"data\" + 0.003*\"treatment\" + 0.003*\"also\" + 0.003*\"group\" + 0.003*\"studies\" + 0.002*\"clinical\"\n",
            "Topic: 1 \n",
            "Words: 0.013*\"cells\" + 0.012*\"cancer\" + 0.009*\"cell\" + 0.009*\"expression\" + 0.005*\"tumor\" + 0.004*\"fig\" + 0.004*\"patients\" + 0.004*\"genes\" + 0.004*\"analysis\" + 0.004*\"using\"\n"
          ]
        }
      ],
      "source": [
        "from sklearn.feature_extraction.text import CountVectorizer\n",
        "import gensim\n",
        "from gensim import models, corpora\n",
        "\n",
        "# Vectorization using CountVectorizer\n",
        "vectorizer = CountVectorizer()\n",
        "X = vectorizer.fit_transform(df['Text'])\n",
        "\n",
        "# Convert the sparse matrix to a gensim corpus\n",
        "corpus = gensim.matutils.Sparse2Corpus(X, documents_columns=False)\n",
        "\n",
        "# Create a dictionary mapping of word IDs to words\n",
        "id2word = dict((v, k) for k, v in vectorizer.vocabulary_.items())\n",
        "\n",
        "# LDA Model\n",
        "num_topics = 2  # Specify the number of topics you want to discover\n",
        "lda_model = models.LdaModel(corpus, num_topics=num_topics, id2word=id2word, passes=10)\n",
        "\n",
        "# Print the topics and the words associated with each topic\n",
        "for idx, topic in lda_model.print_topics(-1):\n",
        "    print(\"Topic: {} \\nWords: {}\".format(idx, topic))\n"
      ]
    },
    {
      "cell_type": "markdown",
      "id": "8bed8e85",
      "metadata": {
        "id": "8bed8e85"
      },
      "source": [
        "`Topic 0:`\n",
        "This topic seems to be related to medical research and clinical studies. It discusses `patients, cancer, disease, treatment, clinical studies, and data analysis` in a medical context.\n",
        "\n",
        "`Topic 1:`\n",
        "This topic revolves around cellular and genetic research, particularly related to `cancer`. It discusses `cancer cells, gene expression, tumor analysis, and the use of genetic data.`\n",
        "\n",
        "These topics represent the main themes or subjects found in the text data. In topic modeling, each topic is a collection of words that tend to co-occur together in documents, and these words are indicative of the main ideas or concepts within those topics. The topics are discovered by algorithms like LDA to help uncover hidden structures and themes in large sets of text data."
      ]
    },
    {
      "cell_type": "markdown",
      "id": "856355e0",
      "metadata": {
        "id": "856355e0"
      },
      "source": [
        "# Emotion and Sentiment Analysis"
      ]
    },
    {
      "cell_type": "code",
      "execution_count": null,
      "id": "082b87ed",
      "metadata": {
        "collapsed": true,
        "id": "082b87ed",
        "outputId": "622b27a0-3b3d-491e-dac6-30222e30c87b"
      },
      "outputs": [
        {
          "name": "stdout",
          "output_type": "stream",
          "text": [
            "Defaulting to user installation because normal site-packages is not writeable\n",
            "Requirement already satisfied: spacy in c:\\users\\purushottam\\appdata\\roaming\\python\\python39\\site-packages (3.6.1)\n",
            "Requirement already satisfied: tqdm<5.0.0,>=4.38.0 in c:\\programdata\\anaconda3\\lib\\site-packages (from spacy) (4.64.0)\n",
            "Requirement already satisfied: typer<0.10.0,>=0.3.0 in c:\\users\\purushottam\\appdata\\roaming\\python\\python39\\site-packages (from spacy) (0.9.0)\n",
            "Requirement already satisfied: pydantic!=1.8,!=1.8.1,<3.0.0,>=1.7.4 in c:\\users\\purushottam\\appdata\\roaming\\python\\python39\\site-packages (from spacy) (2.3.0)\n",
            "Requirement already satisfied: thinc<8.2.0,>=8.1.8 in c:\\users\\purushottam\\appdata\\roaming\\python\\python39\\site-packages (from spacy) (8.1.12)\n",
            "Requirement already satisfied: preshed<3.1.0,>=3.0.2 in c:\\users\\purushottam\\appdata\\roaming\\python\\python39\\site-packages (from spacy) (3.0.8)\n",
            "Requirement already satisfied: murmurhash<1.1.0,>=0.28.0 in c:\\users\\purushottam\\appdata\\roaming\\python\\python39\\site-packages (from spacy) (1.0.9)\n",
            "Requirement already satisfied: wasabi<1.2.0,>=0.9.1 in c:\\users\\purushottam\\appdata\\roaming\\python\\python39\\site-packages (from spacy) (1.1.2)\n",
            "Requirement already satisfied: setuptools in c:\\users\\purushottam\\appdata\\roaming\\python\\python39\\site-packages (from spacy) (68.0.0)\n",
            "Requirement already satisfied: srsly<3.0.0,>=2.4.3 in c:\\users\\purushottam\\appdata\\roaming\\python\\python39\\site-packages (from spacy) (2.4.7)\n",
            "Requirement already satisfied: smart-open<7.0.0,>=5.2.1 in c:\\users\\purushottam\\appdata\\roaming\\python\\python39\\site-packages (from spacy) (6.3.0)\n",
            "Requirement already satisfied: spacy-loggers<2.0.0,>=1.0.0 in c:\\users\\purushottam\\appdata\\roaming\\python\\python39\\site-packages (from spacy) (1.0.4)\n",
            "Requirement already satisfied: requests<3.0.0,>=2.13.0 in c:\\programdata\\anaconda3\\lib\\site-packages (from spacy) (2.27.1)\n",
            "Requirement already satisfied: jinja2 in c:\\programdata\\anaconda3\\lib\\site-packages (from spacy) (2.11.3)\n",
            "Requirement already satisfied: cymem<2.1.0,>=2.0.2 in c:\\users\\purushottam\\appdata\\roaming\\python\\python39\\site-packages (from spacy) (2.0.7)\n",
            "Requirement already satisfied: pathy>=0.10.0 in c:\\users\\purushottam\\appdata\\roaming\\python\\python39\\site-packages (from spacy) (0.10.2)\n",
            "Requirement already satisfied: packaging>=20.0 in c:\\programdata\\anaconda3\\lib\\site-packages (from spacy) (21.3)\n",
            "Requirement already satisfied: numpy>=1.15.0 in c:\\programdata\\anaconda3\\lib\\site-packages (from spacy) (1.21.5)\n",
            "Requirement already satisfied: spacy-legacy<3.1.0,>=3.0.11 in c:\\users\\purushottam\\appdata\\roaming\\python\\python39\\site-packages (from spacy) (3.0.12)\n",
            "Requirement already satisfied: catalogue<2.1.0,>=2.0.6 in c:\\users\\purushottam\\appdata\\roaming\\python\\python39\\site-packages (from spacy) (2.0.9)\n",
            "Requirement already satisfied: langcodes<4.0.0,>=3.2.0 in c:\\users\\purushottam\\appdata\\roaming\\python\\python39\\site-packages (from spacy) (3.3.0)\n",
            "Requirement already satisfied: pyparsing!=3.0.5,>=2.0.2 in c:\\programdata\\anaconda3\\lib\\site-packages (from packaging>=20.0->spacy) (3.0.4)\n",
            "Requirement already satisfied: annotated-types>=0.4.0 in c:\\users\\purushottam\\appdata\\roaming\\python\\python39\\site-packages (from pydantic!=1.8,!=1.8.1,<3.0.0,>=1.7.4->spacy) (0.5.0)\n",
            "Requirement already satisfied: pydantic-core==2.6.3 in c:\\users\\purushottam\\appdata\\roaming\\python\\python39\\site-packages (from pydantic!=1.8,!=1.8.1,<3.0.0,>=1.7.4->spacy) (2.6.3)\n",
            "Requirement already satisfied: typing-extensions>=4.6.1 in c:\\users\\purushottam\\appdata\\roaming\\python\\python39\\site-packages (from pydantic!=1.8,!=1.8.1,<3.0.0,>=1.7.4->spacy) (4.7.1)\n",
            "Requirement already satisfied: charset-normalizer~=2.0.0 in c:\\programdata\\anaconda3\\lib\\site-packages (from requests<3.0.0,>=2.13.0->spacy) (2.0.4)\n",
            "Requirement already satisfied: certifi>=2017.4.17 in c:\\programdata\\anaconda3\\lib\\site-packages (from requests<3.0.0,>=2.13.0->spacy) (2021.10.8)\n",
            "Requirement already satisfied: urllib3<1.27,>=1.21.1 in c:\\programdata\\anaconda3\\lib\\site-packages (from requests<3.0.0,>=2.13.0->spacy) (1.26.9)\n",
            "Requirement already satisfied: idna<4,>=2.5 in c:\\programdata\\anaconda3\\lib\\site-packages (from requests<3.0.0,>=2.13.0->spacy) (3.3)\n",
            "Requirement already satisfied: confection<1.0.0,>=0.0.1 in c:\\users\\purushottam\\appdata\\roaming\\python\\python39\\site-packages (from thinc<8.2.0,>=8.1.8->spacy) (0.1.1)\n",
            "Requirement already satisfied: blis<0.8.0,>=0.7.8 in c:\\users\\purushottam\\appdata\\roaming\\python\\python39\\site-packages (from thinc<8.2.0,>=8.1.8->spacy) (0.7.10)\n",
            "Requirement already satisfied: colorama in c:\\users\\purushottam\\appdata\\roaming\\python\\python39\\site-packages (from tqdm<5.0.0,>=4.38.0->spacy) (0.4.6)\n",
            "Requirement already satisfied: click<9.0.0,>=7.1.1 in c:\\programdata\\anaconda3\\lib\\site-packages (from typer<0.10.0,>=0.3.0->spacy) (8.0.4)\n",
            "Requirement already satisfied: MarkupSafe>=0.23 in c:\\programdata\\anaconda3\\lib\\site-packages (from jinja2->spacy) (2.0.1)\n",
            "Note: you may need to restart the kernel to use updated packages.\n"
          ]
        }
      ],
      "source": [
        "pip install spacy"
      ]
    },
    {
      "cell_type": "code",
      "execution_count": null,
      "id": "955c4083",
      "metadata": {
        "scrolled": true,
        "id": "955c4083",
        "outputId": "59369149-31f1-42a9-9461-b5ef750fccac"
      },
      "outputs": [
        {
          "name": "stdout",
          "output_type": "stream",
          "text": [
            "Defaulting to user installation because normal site-packages is not writeable\n",
            "Requirement already satisfied: typing-extensions in c:\\users\\purushottam\\appdata\\roaming\\python\\python39\\site-packages (4.7.1)\n",
            "Note: you may need to restart the kernel to use updated packages.\n"
          ]
        }
      ],
      "source": [
        "pip install --upgrade typing-extensions"
      ]
    },
    {
      "cell_type": "code",
      "execution_count": null,
      "id": "a8d3af3c",
      "metadata": {
        "scrolled": true,
        "id": "a8d3af3c",
        "outputId": "9546d2fd-c0ef-4a27-8421-2f202d1f6fd9"
      },
      "outputs": [
        {
          "name": "stderr",
          "output_type": "stream",
          "text": [
            "[nltk_data] Downloading package maxent_treebank_pos_tagger to\n",
            "[nltk_data]     C:\\Users\\Purushottam\\AppData\\Roaming\\nltk_data...\n",
            "[nltk_data]   Package maxent_treebank_pos_tagger is already up-to-\n",
            "[nltk_data]       date!\n"
          ]
        },
        {
          "data": {
            "text/plain": [
              "True"
            ]
          },
          "execution_count": 105,
          "metadata": {},
          "output_type": "execute_result"
        }
      ],
      "source": [
        "nltk.download('maxent_treebank_pos_tagger')"
      ]
    },
    {
      "cell_type": "code",
      "execution_count": null,
      "id": "d5edbdd7",
      "metadata": {
        "scrolled": false,
        "id": "d5edbdd7",
        "outputId": "0e03b8eb-6579-471a-cd44-5f1852c38863"
      },
      "outputs": [
        {
          "name": "stderr",
          "output_type": "stream",
          "text": [
            "[nltk_data] Downloading package averaged_perceptron_tagger to\n",
            "[nltk_data]     C:\\Users\\Purushottam\\AppData\\Roaming\\nltk_data...\n",
            "[nltk_data]   Package averaged_perceptron_tagger is already up-to-\n",
            "[nltk_data]       date!\n"
          ]
        },
        {
          "data": {
            "text/plain": [
              "True"
            ]
          },
          "execution_count": 106,
          "metadata": {},
          "output_type": "execute_result"
        }
      ],
      "source": [
        "nltk.download('averaged_perceptron_tagger')"
      ]
    },
    {
      "cell_type": "code",
      "execution_count": null,
      "id": "70dc6024",
      "metadata": {
        "id": "70dc6024",
        "outputId": "41343e29-0a0e-4140-bfe8-520cc9f1accf"
      },
      "outputs": [
        {
          "name": "stderr",
          "output_type": "stream",
          "text": [
            "[nltk_data] Downloading package vader_lexicon to\n",
            "[nltk_data]     C:\\Users\\Purushottam\\AppData\\Roaming\\nltk_data...\n",
            "[nltk_data]   Package vader_lexicon is already up-to-date!\n"
          ]
        },
        {
          "name": "stdout",
          "output_type": "stream",
          "text": [
            "                                                   Text  \\\n",
            "0     Thyroid surgery children single institution Os...   \n",
            "1     `` adopted strategy used prior years [ ] based...   \n",
            "2     coronary arterybypass grafting thrombosis ibri...   \n",
            "3     Solitary plasmacytoma SP skull uncommon clinic...   \n",
            "4     study aimed investigate serum matrix metallopr...   \n",
            "...                                                 ...   \n",
            "7565  report case yearold man presented chief compla...   \n",
            "7566  among synchronous colorectal cancers scrcs rep...   \n",
            "7567  heterogeneity cancer cells generally accepted ...   \n",
            "7568  `` adipogenesis process mesenchymalstem cells ...   \n",
            "7569  periparturient period one challenging periods ...   \n",
            "\n",
            "                                       Sentiment_Scores Sentiment  \n",
            "0     {'neg': 0.084, 'neu': 0.865, 'pos': 0.051, 'co...  Negative  \n",
            "1     {'neg': 0.057, 'neu': 0.8, 'pos': 0.143, 'comp...  Positive  \n",
            "2     {'neg': 0.058, 'neu': 0.9, 'pos': 0.042, 'comp...  Negative  \n",
            "3     {'neg': 0.073, 'neu': 0.87, 'pos': 0.057, 'com...  Negative  \n",
            "4     {'neg': 0.059, 'neu': 0.885, 'pos': 0.056, 'co...  Negative  \n",
            "...                                                 ...       ...  \n",
            "7565  {'neg': 0.049, 'neu': 0.919, 'pos': 0.031, 'co...  Negative  \n",
            "7566  {'neg': 0.075, 'neu': 0.852, 'pos': 0.073, 'co...  Negative  \n",
            "7567  {'neg': 0.091, 'neu': 0.864, 'pos': 0.045, 'co...  Negative  \n",
            "7568  {'neg': 0.064, 'neu': 0.87, 'pos': 0.066, 'com...  Negative  \n",
            "7569  {'neg': 0.045, 'neu': 0.836, 'pos': 0.119, 'co...  Positive  \n",
            "\n",
            "[7570 rows x 3 columns]\n"
          ]
        }
      ],
      "source": [
        "import pandas as pd\n",
        "import nltk\n",
        "from nltk.sentiment.vader import SentimentIntensityAnalyzer\n",
        "\n",
        "# Download the VADER lexicon (you only need to do this once)\n",
        "nltk.download('vader_lexicon')\n",
        "\n",
        "# Initialize the VADER SentimentIntensityAnalyzer\n",
        "analyzer = SentimentIntensityAnalyzer()\n",
        "\n",
        "# Function to get sentiment scores\n",
        "def get_sentiment_scores(text):\n",
        "    return analyzer.polarity_scores(text)\n",
        "\n",
        "# Assuming you already have a DataFrame 'df' with a 'Text' column\n",
        "df['Sentiment_Scores'] = df['Text'].apply(get_sentiment_scores)\n",
        "\n",
        "# Extract the compound score from the sentiment scores\n",
        "df['Compound_Score'] = df['Sentiment_Scores'].apply(lambda score: score['compound'])\n",
        "\n",
        "# Classify sentiment based on the compound score\n",
        "df['Sentiment'] = df['Compound_Score'].apply(lambda score: 'Positive' if score >= 0 else 'Negative')\n",
        "\n",
        "# Display the DataFrame with sentiment analysis results\n",
        "print(df[['Text', 'Sentiment_Scores', 'Sentiment']])\n"
      ]
    },
    {
      "cell_type": "code",
      "execution_count": null,
      "id": "294efb51",
      "metadata": {
        "id": "294efb51",
        "outputId": "0009f6ec-3c39-4600-91de-edb7e186e28a"
      },
      "outputs": [
        {
          "name": "stdout",
          "output_type": "stream",
          "text": [
            "Sentiment analysis results saved to 'sentiment_analysis_results.csv'.\n"
          ]
        }
      ],
      "source": [
        "# Replace 'sentiment_analysis_results.csv' with the desired file name for the CSV file\n",
        "df.to_csv('sentiment_analysis_results.csv', index=False)\n",
        "\n",
        "print(\"Sentiment analysis results saved to 'sentiment_analysis_results.csv'.\")\n"
      ]
    },
    {
      "cell_type": "code",
      "execution_count": null,
      "id": "4c9b1191",
      "metadata": {
        "id": "4c9b1191",
        "outputId": "62a29ed0-e924-4a26-d74e-abe4a5eada77"
      },
      "outputs": [
        {
          "name": "stdout",
          "output_type": "stream",
          "text": [
            "Defaulting to user installation because normal site-packages is not writeable\n",
            "Requirement already satisfied: openpyxl in c:\\programdata\\anaconda3\\lib\\site-packages (3.0.9)\n",
            "Requirement already satisfied: et-xmlfile in c:\\programdata\\anaconda3\\lib\\site-packages (from openpyxl) (1.1.0)\n",
            "Note: you may need to restart the kernel to use updated packages.\n"
          ]
        }
      ],
      "source": [
        "pip install openpyxl"
      ]
    },
    {
      "cell_type": "code",
      "execution_count": null,
      "id": "50a99015",
      "metadata": {
        "id": "50a99015",
        "outputId": "f6a414b9-2ffe-490b-8807-7d9a341aa236"
      },
      "outputs": [
        {
          "data": {
            "text/html": [
              "<a href='sentiment_analysis_results.xlsx' target='_blank'>sentiment_analysis_results.xlsx</a><br>"
            ],
            "text/plain": [
              "C:\\Users\\Purushottam\\sentiment_analysis_results.xlsx"
            ]
          },
          "execution_count": 112,
          "metadata": {},
          "output_type": "execute_result"
        }
      ],
      "source": [
        "from IPython.display import FileLink\n",
        "\n",
        "# Assuming you already have the DataFrame 'df' with the sentiment analysis results\n",
        "\n",
        "# Save the DataFrame with sentiment analysis results to an Excel file\n",
        "df.to_excel('sentiment_analysis_results.xlsx', index=False, engine='openpyxl')\n",
        "\n",
        "# Display a link to download the Excel file directly from the notebook\n",
        "FileLink('sentiment_analysis_results.xlsx')\n"
      ]
    },
    {
      "cell_type": "code",
      "execution_count": null,
      "id": "b5d65eb0",
      "metadata": {
        "id": "b5d65eb0",
        "outputId": "106537bb-42b5-4763-98a7-1a80a4a805d6"
      },
      "outputs": [
        {
          "data": {
            "image/png": "[encoded data removed]",
            "text/plain": [
              "<Figure size 432x288 with 1 Axes>"
            ]
          },
          "metadata": {
            "needs_background": "light"
          },
          "output_type": "display_data"
        }
      ],
      "source": [
        "# Create a bar plot to visualize the sentiment distribution\n",
        "sentiment_counts = df['Sentiment'].value_counts()\n",
        "plt.bar(sentiment_counts.index, sentiment_counts.values)\n",
        "plt.xlabel('Sentiment')\n",
        "plt.ylabel('Count')\n",
        "plt.title('Sentiment Distribution')\n",
        "plt.show()"
      ]
    },
    {
      "cell_type": "markdown",
      "id": "080782d8",
      "metadata": {
        "id": "080782d8"
      },
      "source": [
        "It shows the percentage of people who have positive and negative sentiments about cancer. The positive sentiment is the percentage of people who are positive about cancer, and the negative sentiment is the percentage of people who are negative about cancer.\n",
        "\n",
        "The graph shows that the majority of people in the dataset have a negative sentiment about cancer. This is not surprising, as cancer is a serious disease that can have a devastating impact on people's lives. However, it is also encouraging to see that there is a significant minority of people who have a positive sentiment about cancer. These people may be cancer survivors, cancer researchers, or simply people who are optimistic about the future of cancer treatment."
      ]
    },
    {
      "cell_type": "code",
      "execution_count": null,
      "id": "d7e6d13f",
      "metadata": {
        "id": "d7e6d13f",
        "outputId": "d28e15fa-3333-4a32-a492-6b9123caccb4"
      },
      "outputs": [
        {
          "name": "stdout",
          "output_type": "stream",
          "text": [
            "Defaulting to user installation because normal site-packages is not writeable\n",
            "Requirement already satisfied: afinn in c:\\users\\purushottam\\appdata\\roaming\\python\\python39\\site-packages (0.1)\n",
            "Note: you may need to restart the kernel to use updated packages.\n"
          ]
        }
      ],
      "source": [
        "pip install afinn"
      ]
    },
    {
      "cell_type": "code",
      "execution_count": null,
      "id": "d9294711",
      "metadata": {
        "id": "d9294711",
        "outputId": "6fce6077-2965-4270-f09a-58914eb51f42"
      },
      "outputs": [
        {
          "name": "stdout",
          "output_type": "stream",
          "text": [
            "Defaulting to user installation because normal site-packages is not writeable\n",
            "Requirement already satisfied: textblob in c:\\users\\purushottam\\appdata\\roaming\\python\\python39\\site-packages (0.17.1)\n",
            "Requirement already satisfied: nltk>=3.1 in c:\\programdata\\anaconda3\\lib\\site-packages (from textblob) (3.7)\n",
            "Requirement already satisfied: regex>=2021.8.3 in c:\\programdata\\anaconda3\\lib\\site-packages (from nltk>=3.1->textblob) (2022.3.15)\n",
            "Requirement already satisfied: joblib in c:\\users\\purushottam\\appdata\\roaming\\python\\python39\\site-packages (from nltk>=3.1->textblob) (1.2.0)\n",
            "Requirement already satisfied: click in c:\\programdata\\anaconda3\\lib\\site-packages (from nltk>=3.1->textblob) (8.0.4)\n",
            "Requirement already satisfied: tqdm in c:\\programdata\\anaconda3\\lib\\site-packages (from nltk>=3.1->textblob) (4.64.0)\n",
            "Requirement already satisfied: colorama in c:\\users\\purushottam\\appdata\\roaming\\python\\python39\\site-packages (from click->nltk>=3.1->textblob) (0.4.6)\n",
            "Note: you may need to restart the kernel to use updated packages.\n"
          ]
        }
      ],
      "source": [
        "pip install textblob"
      ]
    },
    {
      "cell_type": "code",
      "execution_count": null,
      "id": "c731fec3",
      "metadata": {
        "id": "c731fec3"
      },
      "outputs": [],
      "source": [
        "from textblob import TextBlob"
      ]
    },
    {
      "cell_type": "code",
      "execution_count": null,
      "id": "a71b1d9a",
      "metadata": {
        "id": "a71b1d9a",
        "outputId": "a69f167d-3c13-4856-c37e-936554e7d052"
      },
      "outputs": [
        {
          "name": "stdout",
          "output_type": "stream",
          "text": [
            "                                                   Text  Sentiment_Polarity\n",
            "0     Thyroid surgery children single institution Os...            0.034211\n",
            "1     `` adopted strategy used prior years [ ] based...            0.110990\n",
            "2     coronary arterybypass grafting thrombosis ibri...            0.032735\n",
            "3     Solitary plasmacytoma SP skull uncommon clinic...            0.151954\n",
            "4     study aimed investigate serum matrix metallopr...            0.096672\n",
            "...                                                 ...                 ...\n",
            "7565  report case yearold man presented chief compla...            0.109758\n",
            "7566  among synchronous colorectal cancers scrcs rep...            0.185763\n",
            "7567  heterogeneity cancer cells generally accepted ...           -0.001074\n",
            "7568  `` adipogenesis process mesenchymalstem cells ...            0.055238\n",
            "7569  periparturient period one challenging periods ...            0.093599\n",
            "\n",
            "[7570 rows x 2 columns]\n"
          ]
        }
      ],
      "source": [
        "# Function to calculate sentiment polarity using TextBlob\n",
        "def calculate_sentiment(text):\n",
        "    blob = TextBlob(text)\n",
        "    return blob.sentiment.polarity\n",
        "\n",
        "# Apply sentiment analysis to the \"Reviews\" column\n",
        "df['Sentiment_Polarity'] = df['Text'].apply(calculate_sentiment)\n",
        "\n",
        "# Display the DataFrame with sentiment analysis results\n",
        "print(df[['Text', 'Sentiment_Polarity']])\n"
      ]
    },
    {
      "cell_type": "code",
      "execution_count": null,
      "id": "0207c783",
      "metadata": {
        "id": "0207c783"
      },
      "outputs": [],
      "source": [
        "analyzer = SentimentIntensityAnalyzer()\n",
        "\n",
        "# Concatenate all reviews into a single string\n",
        "all_Text = ' '.join(df['Text'])\n",
        "\n",
        "# Calculate sentiment polarity for the entire concatenated text\n",
        "overall_sentiment = analyzer.polarity_scores(all_Text)\n",
        "\n",
        "# Display the overall sentiment polarity\n",
        "print(\"Overall Sentiment Polarity:\")\n",
        "print(overall_sentiment)"
      ]
    },
    {
      "cell_type": "code",
      "execution_count": null,
      "id": "c97a7ea2",
      "metadata": {
        "id": "c97a7ea2",
        "outputId": "5c40cbab-ee3c-4c2d-8720-5e1c2137d0f5"
      },
      "outputs": [
        {
          "name": "stdout",
          "output_type": "stream",
          "text": [
            "(7570,)\n",
            "(7570,)\n"
          ]
        }
      ],
      "source": [
        "# Define X and y data sets from'data'\n",
        "X = df.Text\n",
        "y = df.Cancer\n",
        "print(X.shape)\n",
        "print(y.shape)"
      ]
    },
    {
      "cell_type": "code",
      "execution_count": null,
      "id": "3870c197",
      "metadata": {
        "id": "3870c197"
      },
      "outputs": [],
      "source": [
        "from sklearn.feature_extraction.text import TfidfVectorizer\n",
        "from sklearn.model_selection import train_test_split\n",
        "from sklearn.tree import DecisionTreeClassifier\n",
        "from sklearn.ensemble import RandomForestClassifier\n",
        "from sklearn.metrics import accuracy_score"
      ]
    },
    {
      "cell_type": "code",
      "execution_count": null,
      "id": "b05eb315",
      "metadata": {
        "id": "b05eb315"
      },
      "outputs": [],
      "source": [
        "#Create a TF-IDF vectorizer to convert text to numeric features\n",
        "tfidf_vectorizer = TfidfVectorizer(max_features=1000)\n"
      ]
    },
    {
      "cell_type": "code",
      "execution_count": null,
      "id": "f8125c01",
      "metadata": {
        "id": "f8125c01"
      },
      "outputs": [],
      "source": [
        "# Fit and transform the TF-IDF vectorizer on the training data\n",
        "X_train_tfidf = tfidf_vectorizer.fit_transform(X_train)"
      ]
    },
    {
      "cell_type": "code",
      "execution_count": null,
      "id": "c25db6b5",
      "metadata": {
        "id": "c25db6b5"
      },
      "outputs": [],
      "source": [
        "# Transform the test data using the same vectorizer\n",
        "X_test_tfidf = tfidf_vectorizer.transform(X_test)"
      ]
    },
    {
      "cell_type": "code",
      "execution_count": null,
      "id": "9c04c61b",
      "metadata": {
        "id": "9c04c61b"
      },
      "outputs": [],
      "source": [
        "from sklearn.model_selection import train_test_split\n",
        "X_train, X_test, y_train, y_test = train_test_split(X, y, random_state=7)"
      ]
    },
    {
      "cell_type": "code",
      "execution_count": null,
      "id": "5ba5ee50",
      "metadata": {
        "id": "5ba5ee50"
      },
      "outputs": [],
      "source": [
        "from sklearn.feature_extraction.text import CountVectorizer\n",
        "\n",
        "# Initialize the CountVectorizer\n",
        "vectorizer = CountVectorizer(lowercase=True, stop_words='english', analyzer='word', ngram_range=(1, 2))\n",
        "\n",
        "# Fit and transform your training data\n",
        "X_train_dtm = vectorizer.fit_transform(X_train)\n"
      ]
    },
    {
      "cell_type": "markdown",
      "id": "028b1f56",
      "metadata": {
        "id": "028b1f56"
      },
      "source": [
        "#  3. Vectorize text dataset"
      ]
    },
    {
      "cell_type": "code",
      "execution_count": null,
      "id": "7233bd39",
      "metadata": {
        "id": "7233bd39",
        "outputId": "468f88ce-c92d-417e-c491-c5893b994afa"
      },
      "outputs": [
        {
          "data": {
            "text/html": [
              "<style>#sk-container-id-2 {color: black;}#sk-container-id-2 pre{padding: 0;}#sk-container-id-2 div.sk-toggleable {background-color: white;}#sk-container-id-2 label.sk-toggleable__label {cursor: pointer;display: block;width: 100%;margin-bottom: 0;padding: 0.3em;box-sizing: border-box;text-align: center;}#sk-container-id-2 label.sk-toggleable__label-arrow:before {content: \"▸\";float: left;margin-right: 0.25em;color: #696969;}#sk-container-id-2 label.sk-toggleable__label-arrow:hover:before {color: black;}#sk-container-id-2 div.sk-estimator:hover label.sk-toggleable__label-arrow:before {color: black;}#sk-container-id-2 div.sk-toggleable__content {max-height: 0;max-width: 0;overflow: hidden;text-align: left;background-color: #f0f8ff;}#sk-container-id-2 div.sk-toggleable__content pre {margin: 0.2em;color: black;border-radius: 0.25em;background-color: #f0f8ff;}#sk-container-id-2 input.sk-toggleable__control:checked~div.sk-toggleable__content {max-height: 200px;max-width: 100%;overflow: auto;}#sk-container-id-2 input.sk-toggleable__control:checked~label.sk-toggleable__label-arrow:before {content: \"▾\";}#sk-container-id-2 div.sk-estimator input.sk-toggleable__control:checked~label.sk-toggleable__label {background-color: #d4ebff;}#sk-container-id-2 div.sk-label input.sk-toggleable__control:checked~label.sk-toggleable__label {background-color: #d4ebff;}#sk-container-id-2 input.sk-hidden--visually {border: 0;clip: rect(1px 1px 1px 1px);clip: rect(1px, 1px, 1px, 1px);height: 1px;margin: -1px;overflow: hidden;padding: 0;position: absolute;width: 1px;}#sk-container-id-2 div.sk-estimator {font-family: monospace;background-color: #f0f8ff;border: 1px dotted black;border-radius: 0.25em;box-sizing: border-box;margin-bottom: 0.5em;}#sk-container-id-2 div.sk-estimator:hover {background-color: #d4ebff;}#sk-container-id-2 div.sk-parallel-item::after {content: \"\";width: 100%;border-bottom: 1px solid gray;flex-grow: 1;}#sk-container-id-2 div.sk-label:hover label.sk-toggleable__label {background-color: #d4ebff;}#sk-container-id-2 div.sk-serial::before {content: \"\";position: absolute;border-left: 1px solid gray;box-sizing: border-box;top: 0;bottom: 0;left: 50%;z-index: 0;}#sk-container-id-2 div.sk-serial {display: flex;flex-direction: column;align-items: center;background-color: white;padding-right: 0.2em;padding-left: 0.2em;position: relative;}#sk-container-id-2 div.sk-item {position: relative;z-index: 1;}#sk-container-id-2 div.sk-parallel {display: flex;align-items: stretch;justify-content: center;background-color: white;position: relative;}#sk-container-id-2 div.sk-item::before, #sk-container-id-2 div.sk-parallel-item::before {content: \"\";position: absolute;border-left: 1px solid gray;box-sizing: border-box;top: 0;bottom: 0;left: 50%;z-index: -1;}#sk-container-id-2 div.sk-parallel-item {display: flex;flex-direction: column;z-index: 1;position: relative;background-color: white;}#sk-container-id-2 div.sk-parallel-item:first-child::after {align-self: flex-end;width: 50%;}#sk-container-id-2 div.sk-parallel-item:last-child::after {align-self: flex-start;width: 50%;}#sk-container-id-2 div.sk-parallel-item:only-child::after {width: 0;}#sk-container-id-2 div.sk-dashed-wrapped {border: 1px dashed gray;margin: 0 0.4em 0.5em 0.4em;box-sizing: border-box;padding-bottom: 0.4em;background-color: white;}#sk-container-id-2 div.sk-label label {font-family: monospace;font-weight: bold;display: inline-block;line-height: 1.2em;}#sk-container-id-2 div.sk-label-container {text-align: center;}#sk-container-id-2 div.sk-container {/* jupyter's `normalize.less` sets `[hidden] { display: none; }` but bootstrap.min.css set `[hidden] { display: none !important; }` so we also need the `!important` here to be able to override the default hidden behavior on the sphinx rendered scikit-learn.org. See: https://github.com/scikit-learn/scikit-learn/issues/21755 */display: inline-block !important;position: relative;}#sk-container-id-2 div.sk-text-repr-fallback {display: none;}</style><div id=\"sk-container-id-2\" class=\"sk-top-container\"><div class=\"sk-text-repr-fallback\"><pre>CountVectorizer()</pre><b>In a Jupyter environment, please rerun this cell to show the HTML representation or trust the notebook. <br />On GitHub, the HTML representation is unable to render, please try loading this page with nbviewer.org.</b></div><div class=\"sk-container\" hidden><div class=\"sk-item\"><div class=\"sk-estimator sk-toggleable\"><input class=\"sk-toggleable__control sk-hidden--visually\" id=\"sk-estimator-id-2\" type=\"checkbox\" checked><label for=\"sk-estimator-id-2\" class=\"sk-toggleable__label sk-toggleable__label-arrow\">CountVectorizer</label><div class=\"sk-toggleable__content\"><pre>CountVectorizer()</pre></div></div></div></div></div>"
            ],
            "text/plain": [
              "CountVectorizer()"
            ]
          },
          "execution_count": 131,
          "metadata": {},
          "output_type": "execute_result"
        }
      ],
      "source": [
        "# call the vectorizer\n",
        "toNumeric = CountVectorizer()\n",
        "toNumeric"
      ]
    },
    {
      "cell_type": "code",
      "execution_count": null,
      "id": "ecf71af6",
      "metadata": {
        "id": "ecf71af6"
      },
      "outputs": [],
      "source": [
        "# creat vocabulary and create document-term matrix\n",
        "toNumeric.fit(X_train)\n",
        "X_train_dtm = toNumeric.transform(X_train)"
      ]
    },
    {
      "cell_type": "code",
      "execution_count": null,
      "id": "f8c1775c",
      "metadata": {
        "id": "f8c1775c",
        "outputId": "b6e1dd6e-57c8-4976-b6d1-cd9d370918c0"
      },
      "outputs": [
        {
          "data": {
            "text/plain": [
              "<5677x178054 sparse matrix of type '<class 'numpy.int64'>'\n",
              "\twith 5712099 stored elements in Compressed Sparse Row format>"
            ]
          },
          "execution_count": 135,
          "metadata": {},
          "output_type": "execute_result"
        }
      ],
      "source": [
        "X_train_dtm"
      ]
    },
    {
      "cell_type": "code",
      "execution_count": null,
      "id": "3a0e7f50",
      "metadata": {
        "id": "3a0e7f50",
        "outputId": "35c40b4b-521f-48c1-cde5-4472d63ae323"
      },
      "outputs": [
        {
          "data": {
            "text/plain": [
              "<1893x178054 sparse matrix of type '<class 'numpy.int64'>'\n",
              "\twith 1924274 stored elements in Compressed Sparse Row format>"
            ]
          },
          "execution_count": 136,
          "metadata": {},
          "output_type": "execute_result"
        }
      ],
      "source": [
        "# transform test data using fitted vocabulary into DTM\n",
        "X_test_dtm = toNumeric.transform(X_test)\n",
        "X_test_dtm"
      ]
    },
    {
      "cell_type": "markdown",
      "id": "1b996460",
      "metadata": {
        "id": "1b996460"
      },
      "source": [
        "# 4. Build and evaluate a model"
      ]
    },
    {
      "cell_type": "markdown",
      "id": "bd9dfd9d",
      "metadata": {
        "id": "bd9dfd9d"
      },
      "source": [
        "The provided model is a Multinomial Naive Bayes (MultinomialNB) classifier, which has been trained to classify biomedical text documents related to cancer research into one of three specific categories: 'Thyroid Cancer,' 'Colon Cancer,' and 'Lung Cancer.' Let's interpret the results:"
      ]
    },
    {
      "cell_type": "code",
      "execution_count": null,
      "id": "730d1087",
      "metadata": {
        "id": "730d1087"
      },
      "outputs": [],
      "source": [
        "from sklearn.naive_bayes import MultinomialNB\n",
        "nb = MultinomialNB()"
      ]
    },
    {
      "cell_type": "code",
      "execution_count": null,
      "id": "2d0d2c55",
      "metadata": {
        "id": "2d0d2c55",
        "outputId": "7f424ded-b191-4465-c34e-e09fbcce1c80"
      },
      "outputs": [
        {
          "data": {
            "text/html": [
              "<style>#sk-container-id-3 {color: black;}#sk-container-id-3 pre{padding: 0;}#sk-container-id-3 div.sk-toggleable {background-color: white;}#sk-container-id-3 label.sk-toggleable__label {cursor: pointer;display: block;width: 100%;margin-bottom: 0;padding: 0.3em;box-sizing: border-box;text-align: center;}#sk-container-id-3 label.sk-toggleable__label-arrow:before {content: \"▸\";float: left;margin-right: 0.25em;color: #696969;}#sk-container-id-3 label.sk-toggleable__label-arrow:hover:before {color: black;}#sk-container-id-3 div.sk-estimator:hover label.sk-toggleable__label-arrow:before {color: black;}#sk-container-id-3 div.sk-toggleable__content {max-height: 0;max-width: 0;overflow: hidden;text-align: left;background-color: #f0f8ff;}#sk-container-id-3 div.sk-toggleable__content pre {margin: 0.2em;color: black;border-radius: 0.25em;background-color: #f0f8ff;}#sk-container-id-3 input.sk-toggleable__control:checked~div.sk-toggleable__content {max-height: 200px;max-width: 100%;overflow: auto;}#sk-container-id-3 input.sk-toggleable__control:checked~label.sk-toggleable__label-arrow:before {content: \"▾\";}#sk-container-id-3 div.sk-estimator input.sk-toggleable__control:checked~label.sk-toggleable__label {background-color: #d4ebff;}#sk-container-id-3 div.sk-label input.sk-toggleable__control:checked~label.sk-toggleable__label {background-color: #d4ebff;}#sk-container-id-3 input.sk-hidden--visually {border: 0;clip: rect(1px 1px 1px 1px);clip: rect(1px, 1px, 1px, 1px);height: 1px;margin: -1px;overflow: hidden;padding: 0;position: absolute;width: 1px;}#sk-container-id-3 div.sk-estimator {font-family: monospace;background-color: #f0f8ff;border: 1px dotted black;border-radius: 0.25em;box-sizing: border-box;margin-bottom: 0.5em;}#sk-container-id-3 div.sk-estimator:hover {background-color: #d4ebff;}#sk-container-id-3 div.sk-parallel-item::after {content: \"\";width: 100%;border-bottom: 1px solid gray;flex-grow: 1;}#sk-container-id-3 div.sk-label:hover label.sk-toggleable__label {background-color: #d4ebff;}#sk-container-id-3 div.sk-serial::before {content: \"\";position: absolute;border-left: 1px solid gray;box-sizing: border-box;top: 0;bottom: 0;left: 50%;z-index: 0;}#sk-container-id-3 div.sk-serial {display: flex;flex-direction: column;align-items: center;background-color: white;padding-right: 0.2em;padding-left: 0.2em;position: relative;}#sk-container-id-3 div.sk-item {position: relative;z-index: 1;}#sk-container-id-3 div.sk-parallel {display: flex;align-items: stretch;justify-content: center;background-color: white;position: relative;}#sk-container-id-3 div.sk-item::before, #sk-container-id-3 div.sk-parallel-item::before {content: \"\";position: absolute;border-left: 1px solid gray;box-sizing: border-box;top: 0;bottom: 0;left: 50%;z-index: -1;}#sk-container-id-3 div.sk-parallel-item {display: flex;flex-direction: column;z-index: 1;position: relative;background-color: white;}#sk-container-id-3 div.sk-parallel-item:first-child::after {align-self: flex-end;width: 50%;}#sk-container-id-3 div.sk-parallel-item:last-child::after {align-self: flex-start;width: 50%;}#sk-container-id-3 div.sk-parallel-item:only-child::after {width: 0;}#sk-container-id-3 div.sk-dashed-wrapped {border: 1px dashed gray;margin: 0 0.4em 0.5em 0.4em;box-sizing: border-box;padding-bottom: 0.4em;background-color: white;}#sk-container-id-3 div.sk-label label {font-family: monospace;font-weight: bold;display: inline-block;line-height: 1.2em;}#sk-container-id-3 div.sk-label-container {text-align: center;}#sk-container-id-3 div.sk-container {/* jupyter's `normalize.less` sets `[hidden] { display: none; }` but bootstrap.min.css set `[hidden] { display: none !important; }` so we also need the `!important` here to be able to override the default hidden behavior on the sphinx rendered scikit-learn.org. See: https://github.com/scikit-learn/scikit-learn/issues/21755 */display: inline-block !important;position: relative;}#sk-container-id-3 div.sk-text-repr-fallback {display: none;}</style><div id=\"sk-container-id-3\" class=\"sk-top-container\"><div class=\"sk-text-repr-fallback\"><pre>MultinomialNB()</pre><b>In a Jupyter environment, please rerun this cell to show the HTML representation or trust the notebook. <br />On GitHub, the HTML representation is unable to render, please try loading this page with nbviewer.org.</b></div><div class=\"sk-container\" hidden><div class=\"sk-item\"><div class=\"sk-estimator sk-toggleable\"><input class=\"sk-toggleable__control sk-hidden--visually\" id=\"sk-estimator-id-3\" type=\"checkbox\" checked><label for=\"sk-estimator-id-3\" class=\"sk-toggleable__label sk-toggleable__label-arrow\">MultinomialNB</label><div class=\"sk-toggleable__content\"><pre>MultinomialNB()</pre></div></div></div></div></div>"
            ],
            "text/plain": [
              "MultinomialNB()"
            ]
          },
          "execution_count": 138,
          "metadata": {},
          "output_type": "execute_result"
        }
      ],
      "source": [
        "nb.fit(X_train_dtm, y_train)"
      ]
    },
    {
      "cell_type": "code",
      "execution_count": null,
      "id": "77b97670",
      "metadata": {
        "id": "77b97670"
      },
      "outputs": [],
      "source": [
        "y_pred_class = nb.predict(X_test_dtm)"
      ]
    },
    {
      "cell_type": "code",
      "execution_count": null,
      "id": "db97eb02",
      "metadata": {
        "scrolled": true,
        "id": "db97eb02",
        "outputId": "95c991c0-fa2e-4d8a-f1c7-19fd4e480386"
      },
      "outputs": [
        {
          "data": {
            "text/plain": [
              "0.9270998415213946"
            ]
          },
          "execution_count": 140,
          "metadata": {},
          "output_type": "execute_result"
        }
      ],
      "source": [
        "# Accuracy calculation\n",
        "from sklearn import metrics\n",
        "metrics.accuracy_score(y_test, y_pred_class)"
      ]
    },
    {
      "cell_type": "markdown",
      "id": "182fe802",
      "metadata": {
        "id": "182fe802"
      },
      "source": [
        "The accuracy of the model is approximately `92.71%`. This means that the model correctly predicts the category for nearly 92.71% of the test documents. In other words, it is performing well in classifying cancer-related documents."
      ]
    },
    {
      "cell_type": "code",
      "execution_count": null,
      "id": "95ce9a54",
      "metadata": {
        "id": "95ce9a54",
        "outputId": "011a590d-9be5-46da-aed8-516d1628b549"
      },
      "outputs": [
        {
          "data": {
            "text/plain": [
              "array([[614,  86,   0],\n",
              "       [ 52, 613,   0],\n",
              "       [  0,   0, 528]], dtype=int64)"
            ]
          },
          "execution_count": 141,
          "metadata": {},
          "output_type": "execute_result"
        }
      ],
      "source": [
        "metrics.confusion_matrix(y_test, y_pred_class)"
      ]
    },
    {
      "cell_type": "markdown",
      "id": "5c9e0e25",
      "metadata": {
        "id": "5c9e0e25"
      },
      "source": [
        "The confusion matrix provides a more detailed view of the model's performance. It shows how many documents were correctly or incorrectly classified for each class. The matrix is organized as follows:"
      ]
    },
    {
      "cell_type": "markdown",
      "id": "c3e5649e",
      "metadata": {
        "id": "c3e5649e"
      },
      "source": [
        "```The first row represents the `'Thyroid Cancer'` class.\n",
        "The second row represents the `'Colon Cancer'` class.\n",
        "The third row represents the `'Lung Cancer'` class.```"
      ]
    },
    {
      "cell_type": "markdown",
      "id": "df95b679",
      "metadata": {
        "id": "df95b679"
      },
      "source": [
        "```For 'Thyroid Cancer':```\n",
        "\n",
        "```614 documents were correctly classified as 'Thyroid Cancer.'\n",
        "86 documents were incorrectly classified as 'Colon Cancer.'\n",
        "0 documents were incorrectly classified as 'Lung Cancer.'```"
      ]
    },
    {
      "cell_type": "markdown",
      "id": "b0df27bf",
      "metadata": {
        "id": "b0df27bf"
      },
      "source": [
        "```For 'Colon Cancer':```\n",
        "\n",
        "```52 documents were incorrectly classified as 'Thyroid Cancer.'\n",
        "613 documents were correctly classified as 'Colon Cancer.'\n",
        "0 documents were incorrectly classified as 'Lung Cancer.'```"
      ]
    },
    {
      "cell_type": "markdown",
      "id": "cadb516f",
      "metadata": {
        "id": "cadb516f"
      },
      "source": [
        "```For 'Lung Cancer':```\n",
        "\n",
        "```0 documents were incorrectly classified as 'Thyroid Cancer.'\n",
        "0 documents were incorrectly classified as 'Colon Cancer.'\n",
        "528 documents were correctly classified as 'Lung Cancer.'```"
      ]
    },
    {
      "cell_type": "code",
      "execution_count": null,
      "id": "a8d219f3",
      "metadata": {
        "id": "a8d219f3",
        "outputId": "8e277045-0262-413c-ae43-236b2ee77dde"
      },
      "outputs": [
        {
          "data": {
            "text/plain": [
              "array([0.00000000e+000, 1.00000000e+000, 9.25584689e-195, ...,\n",
              "       1.00000000e+000, 0.00000000e+000, 1.00000000e+000])"
            ]
          },
          "execution_count": 142,
          "metadata": {},
          "output_type": "execute_result"
        }
      ],
      "source": [
        "# Predict probablity for test data instead of labels directly\n",
        "y_pred_prob = nb.predict_proba(X_test_dtm)[:, 1]\n",
        "y_pred_prob"
      ]
    },
    {
      "cell_type": "markdown",
      "id": "d9d29831",
      "metadata": {
        "id": "d9d29831"
      },
      "source": [
        "# Compare multiple models"
      ]
    },
    {
      "cell_type": "code",
      "execution_count": null,
      "id": "6c7999be",
      "metadata": {
        "id": "6c7999be"
      },
      "outputs": [],
      "source": [
        "from sklearn.linear_model import LogisticRegression\n",
        "lr = LogisticRegression()"
      ]
    },
    {
      "cell_type": "code",
      "execution_count": null,
      "id": "b1e5a900",
      "metadata": {
        "scrolled": true,
        "id": "b1e5a900",
        "outputId": "86e63af9-e480-4ee5-e9e0-35acd34147be"
      },
      "outputs": [
        {
          "name": "stderr",
          "output_type": "stream",
          "text": [
            "C:\\Users\\Purushottam\\AppData\\Roaming\\Python\\Python39\\site-packages\\sklearn\\linear_model\\_logistic.py:460: ConvergenceWarning: lbfgs failed to converge (status=1):\n",
            "STOP: TOTAL NO. of ITERATIONS REACHED LIMIT.\n",
            "\n",
            "Increase the number of iterations (max_iter) or scale the data as shown in:\n",
            "    https://scikit-learn.org/stable/modules/preprocessing.html\n",
            "Please also refer to the documentation for alternative solver options:\n",
            "    https://scikit-learn.org/stable/modules/linear_model.html#logistic-regression\n",
            "  n_iter_i = _check_optimize_result(\n"
          ]
        },
        {
          "data": {
            "text/html": [
              "<style>#sk-container-id-6 {color: black;}#sk-container-id-6 pre{padding: 0;}#sk-container-id-6 div.sk-toggleable {background-color: white;}#sk-container-id-6 label.sk-toggleable__label {cursor: pointer;display: block;width: 100%;margin-bottom: 0;padding: 0.3em;box-sizing: border-box;text-align: center;}#sk-container-id-6 label.sk-toggleable__label-arrow:before {content: \"▸\";float: left;margin-right: 0.25em;color: #696969;}#sk-container-id-6 label.sk-toggleable__label-arrow:hover:before {color: black;}#sk-container-id-6 div.sk-estimator:hover label.sk-toggleable__label-arrow:before {color: black;}#sk-container-id-6 div.sk-toggleable__content {max-height: 0;max-width: 0;overflow: hidden;text-align: left;background-color: #f0f8ff;}#sk-container-id-6 div.sk-toggleable__content pre {margin: 0.2em;color: black;border-radius: 0.25em;background-color: #f0f8ff;}#sk-container-id-6 input.sk-toggleable__control:checked~div.sk-toggleable__content {max-height: 200px;max-width: 100%;overflow: auto;}#sk-container-id-6 input.sk-toggleable__control:checked~label.sk-toggleable__label-arrow:before {content: \"▾\";}#sk-container-id-6 div.sk-estimator input.sk-toggleable__control:checked~label.sk-toggleable__label {background-color: #d4ebff;}#sk-container-id-6 div.sk-label input.sk-toggleable__control:checked~label.sk-toggleable__label {background-color: #d4ebff;}#sk-container-id-6 input.sk-hidden--visually {border: 0;clip: rect(1px 1px 1px 1px);clip: rect(1px, 1px, 1px, 1px);height: 1px;margin: -1px;overflow: hidden;padding: 0;position: absolute;width: 1px;}#sk-container-id-6 div.sk-estimator {font-family: monospace;background-color: #f0f8ff;border: 1px dotted black;border-radius: 0.25em;box-sizing: border-box;margin-bottom: 0.5em;}#sk-container-id-6 div.sk-estimator:hover {background-color: #d4ebff;}#sk-container-id-6 div.sk-parallel-item::after {content: \"\";width: 100%;border-bottom: 1px solid gray;flex-grow: 1;}#sk-container-id-6 div.sk-label:hover label.sk-toggleable__label {background-color: #d4ebff;}#sk-container-id-6 div.sk-serial::before {content: \"\";position: absolute;border-left: 1px solid gray;box-sizing: border-box;top: 0;bottom: 0;left: 50%;z-index: 0;}#sk-container-id-6 div.sk-serial {display: flex;flex-direction: column;align-items: center;background-color: white;padding-right: 0.2em;padding-left: 0.2em;position: relative;}#sk-container-id-6 div.sk-item {position: relative;z-index: 1;}#sk-container-id-6 div.sk-parallel {display: flex;align-items: stretch;justify-content: center;background-color: white;position: relative;}#sk-container-id-6 div.sk-item::before, #sk-container-id-6 div.sk-parallel-item::before {content: \"\";position: absolute;border-left: 1px solid gray;box-sizing: border-box;top: 0;bottom: 0;left: 50%;z-index: -1;}#sk-container-id-6 div.sk-parallel-item {display: flex;flex-direction: column;z-index: 1;position: relative;background-color: white;}#sk-container-id-6 div.sk-parallel-item:first-child::after {align-self: flex-end;width: 50%;}#sk-container-id-6 div.sk-parallel-item:last-child::after {align-self: flex-start;width: 50%;}#sk-container-id-6 div.sk-parallel-item:only-child::after {width: 0;}#sk-container-id-6 div.sk-dashed-wrapped {border: 1px dashed gray;margin: 0 0.4em 0.5em 0.4em;box-sizing: border-box;padding-bottom: 0.4em;background-color: white;}#sk-container-id-6 div.sk-label label {font-family: monospace;font-weight: bold;display: inline-block;line-height: 1.2em;}#sk-container-id-6 div.sk-label-container {text-align: center;}#sk-container-id-6 div.sk-container {/* jupyter's `normalize.less` sets `[hidden] { display: none; }` but bootstrap.min.css set `[hidden] { display: none !important; }` so we also need the `!important` here to be able to override the default hidden behavior on the sphinx rendered scikit-learn.org. See: https://github.com/scikit-learn/scikit-learn/issues/21755 */display: inline-block !important;position: relative;}#sk-container-id-6 div.sk-text-repr-fallback {display: none;}</style><div id=\"sk-container-id-6\" class=\"sk-top-container\"><div class=\"sk-text-repr-fallback\"><pre>LogisticRegression()</pre><b>In a Jupyter environment, please rerun this cell to show the HTML representation or trust the notebook. <br />On GitHub, the HTML representation is unable to render, please try loading this page with nbviewer.org.</b></div><div class=\"sk-container\" hidden><div class=\"sk-item\"><div class=\"sk-estimator sk-toggleable\"><input class=\"sk-toggleable__control sk-hidden--visually\" id=\"sk-estimator-id-6\" type=\"checkbox\" checked><label for=\"sk-estimator-id-6\" class=\"sk-toggleable__label sk-toggleable__label-arrow\">LogisticRegression</label><div class=\"sk-toggleable__content\"><pre>LogisticRegression()</pre></div></div></div></div></div>"
            ],
            "text/plain": [
              "LogisticRegression()"
            ]
          },
          "execution_count": 160,
          "metadata": {},
          "output_type": "execute_result"
        }
      ],
      "source": [
        "lr.fit(X_train_dtm, y_train)"
      ]
    },
    {
      "cell_type": "code",
      "execution_count": null,
      "id": "046c08f3",
      "metadata": {
        "id": "046c08f3",
        "outputId": "42b8f160-8350-4cf2-a9a6-bb3611cf19b3"
      },
      "outputs": [
        {
          "data": {
            "text/plain": [
              "array([2, 1, 2, ..., 0, 0, 1], dtype=int64)"
            ]
          },
          "execution_count": 161,
          "metadata": {},
          "output_type": "execute_result"
        }
      ],
      "source": [
        "y_pred_class = lr.predict(X_test_dtm)\n",
        "y_pred_class"
      ]
    },
    {
      "cell_type": "code",
      "execution_count": null,
      "id": "f22afc9b",
      "metadata": {
        "id": "f22afc9b",
        "outputId": "23796dfd-bc27-45bc-c6ef-4399c7a18dad"
      },
      "outputs": [
        {
          "data": {
            "text/plain": [
              "array([5.80968535e-45, 1.00000000e+00, 3.65302904e-09, ...,\n",
              "       4.22505686e-04, 6.11992107e-46, 8.90192818e-01])"
            ]
          },
          "execution_count": 162,
          "metadata": {},
          "output_type": "execute_result"
        }
      ],
      "source": [
        "# calculate predicted probabilities for X_test_dtm\n",
        "y_pred_prob = lr.predict_proba(X_test_dtm)[:, 1]\n",
        "y_pred_prob"
      ]
    },
    {
      "cell_type": "code",
      "execution_count": null,
      "id": "bdc2902c",
      "metadata": {
        "id": "bdc2902c",
        "outputId": "4bb99cc3-12cd-4119-925d-28b90e836827"
      },
      "outputs": [
        {
          "data": {
            "text/plain": [
              "0.99418911780243"
            ]
          },
          "execution_count": 164,
          "metadata": {},
          "output_type": "execute_result"
        }
      ],
      "source": [
        "metrics.accuracy_score(y_test, y_pred_class)"
      ]
    },
    {
      "cell_type": "code",
      "execution_count": null,
      "id": "10a918c4",
      "metadata": {
        "scrolled": false,
        "id": "10a918c4",
        "outputId": "1bba8d79-9433-4433-88e0-764a54d4cd9a"
      },
      "outputs": [
        {
          "data": {
            "text/plain": [
              "array([[689,  11,   0],\n",
              "       [  0, 665,   0],\n",
              "       [  0,   0, 528]], dtype=int64)"
            ]
          },
          "execution_count": 165,
          "metadata": {},
          "output_type": "execute_result"
        }
      ],
      "source": [
        "metrics.confusion_matrix(y_test, y_pred_class)"
      ]
    },
    {
      "cell_type": "code",
      "execution_count": null,
      "id": "91c8458c",
      "metadata": {
        "id": "91c8458c",
        "outputId": "0356fa88-4329-432a-a0dd-865e579e0fa4"
      },
      "outputs": [
        {
          "name": "stdout",
          "output_type": "stream",
          "text": [
            "Decision Tree Accuracy: 1.00\n"
          ]
        }
      ],
      "source": [
        "# Create a Decision Tree classifier\n",
        "decision_tree = DecisionTreeClassifier()\n",
        "\n",
        "# Fit the Decision Tree model to the TF-IDF transformed training data\n",
        "decision_tree.fit(X_train_tfidf, y_train)\n",
        "\n",
        "# Make predictions on the TF-IDF transformed test data\n",
        "y_pred_decision_tree = decision_tree.predict(X_test_tfidf)\n",
        "\n",
        "# Evaluate the Decision Tree model's accuracy\n",
        "accuracy_decision_tree = accuracy_score(y_test, y_pred_decision_tree)\n",
        "print(f\"Decision Tree Accuracy: {accuracy_decision_tree:.2f}\")"
      ]
    },
    {
      "cell_type": "code",
      "execution_count": null,
      "id": "12400e4e",
      "metadata": {
        "id": "12400e4e",
        "outputId": "95be5933-59fb-48ba-9f3b-300da975855e"
      },
      "outputs": [
        {
          "data": {
            "text/plain": [
              "array([2, 1, 2, ..., 0, 0, 1], dtype=int64)"
            ]
          },
          "execution_count": 150,
          "metadata": {},
          "output_type": "execute_result"
        }
      ],
      "source": [
        "y_pred_decision_tree"
      ]
    },
    {
      "cell_type": "code",
      "execution_count": null,
      "id": "75d53191",
      "metadata": {
        "id": "75d53191"
      },
      "outputs": [],
      "source": [
        "# Create a Random Forest classifier\n",
        "random_forest = RandomForestClassifier(n_estimators=100, random_state=42)"
      ]
    },
    {
      "cell_type": "code",
      "execution_count": null,
      "id": "e91db91d",
      "metadata": {
        "id": "e91db91d",
        "outputId": "39d99a37-ee73-46f6-bce5-0e49506dc26a"
      },
      "outputs": [
        {
          "data": {
            "text/html": [
              "<style>#sk-container-id-5 {color: black;}#sk-container-id-5 pre{padding: 0;}#sk-container-id-5 div.sk-toggleable {background-color: white;}#sk-container-id-5 label.sk-toggleable__label {cursor: pointer;display: block;width: 100%;margin-bottom: 0;padding: 0.3em;box-sizing: border-box;text-align: center;}#sk-container-id-5 label.sk-toggleable__label-arrow:before {content: \"▸\";float: left;margin-right: 0.25em;color: #696969;}#sk-container-id-5 label.sk-toggleable__label-arrow:hover:before {color: black;}#sk-container-id-5 div.sk-estimator:hover label.sk-toggleable__label-arrow:before {color: black;}#sk-container-id-5 div.sk-toggleable__content {max-height: 0;max-width: 0;overflow: hidden;text-align: left;background-color: #f0f8ff;}#sk-container-id-5 div.sk-toggleable__content pre {margin: 0.2em;color: black;border-radius: 0.25em;background-color: #f0f8ff;}#sk-container-id-5 input.sk-toggleable__control:checked~div.sk-toggleable__content {max-height: 200px;max-width: 100%;overflow: auto;}#sk-container-id-5 input.sk-toggleable__control:checked~label.sk-toggleable__label-arrow:before {content: \"▾\";}#sk-container-id-5 div.sk-estimator input.sk-toggleable__control:checked~label.sk-toggleable__label {background-color: #d4ebff;}#sk-container-id-5 div.sk-label input.sk-toggleable__control:checked~label.sk-toggleable__label {background-color: #d4ebff;}#sk-container-id-5 input.sk-hidden--visually {border: 0;clip: rect(1px 1px 1px 1px);clip: rect(1px, 1px, 1px, 1px);height: 1px;margin: -1px;overflow: hidden;padding: 0;position: absolute;width: 1px;}#sk-container-id-5 div.sk-estimator {font-family: monospace;background-color: #f0f8ff;border: 1px dotted black;border-radius: 0.25em;box-sizing: border-box;margin-bottom: 0.5em;}#sk-container-id-5 div.sk-estimator:hover {background-color: #d4ebff;}#sk-container-id-5 div.sk-parallel-item::after {content: \"\";width: 100%;border-bottom: 1px solid gray;flex-grow: 1;}#sk-container-id-5 div.sk-label:hover label.sk-toggleable__label {background-color: #d4ebff;}#sk-container-id-5 div.sk-serial::before {content: \"\";position: absolute;border-left: 1px solid gray;box-sizing: border-box;top: 0;bottom: 0;left: 50%;z-index: 0;}#sk-container-id-5 div.sk-serial {display: flex;flex-direction: column;align-items: center;background-color: white;padding-right: 0.2em;padding-left: 0.2em;position: relative;}#sk-container-id-5 div.sk-item {position: relative;z-index: 1;}#sk-container-id-5 div.sk-parallel {display: flex;align-items: stretch;justify-content: center;background-color: white;position: relative;}#sk-container-id-5 div.sk-item::before, #sk-container-id-5 div.sk-parallel-item::before {content: \"\";position: absolute;border-left: 1px solid gray;box-sizing: border-box;top: 0;bottom: 0;left: 50%;z-index: -1;}#sk-container-id-5 div.sk-parallel-item {display: flex;flex-direction: column;z-index: 1;position: relative;background-color: white;}#sk-container-id-5 div.sk-parallel-item:first-child::after {align-self: flex-end;width: 50%;}#sk-container-id-5 div.sk-parallel-item:last-child::after {align-self: flex-start;width: 50%;}#sk-container-id-5 div.sk-parallel-item:only-child::after {width: 0;}#sk-container-id-5 div.sk-dashed-wrapped {border: 1px dashed gray;margin: 0 0.4em 0.5em 0.4em;box-sizing: border-box;padding-bottom: 0.4em;background-color: white;}#sk-container-id-5 div.sk-label label {font-family: monospace;font-weight: bold;display: inline-block;line-height: 1.2em;}#sk-container-id-5 div.sk-label-container {text-align: center;}#sk-container-id-5 div.sk-container {/* jupyter's `normalize.less` sets `[hidden] { display: none; }` but bootstrap.min.css set `[hidden] { display: none !important; }` so we also need the `!important` here to be able to override the default hidden behavior on the sphinx rendered scikit-learn.org. See: https://github.com/scikit-learn/scikit-learn/issues/21755 */display: inline-block !important;position: relative;}#sk-container-id-5 div.sk-text-repr-fallback {display: none;}</style><div id=\"sk-container-id-5\" class=\"sk-top-container\"><div class=\"sk-text-repr-fallback\"><pre>RandomForestClassifier(random_state=42)</pre><b>In a Jupyter environment, please rerun this cell to show the HTML representation or trust the notebook. <br />On GitHub, the HTML representation is unable to render, please try loading this page with nbviewer.org.</b></div><div class=\"sk-container\" hidden><div class=\"sk-item\"><div class=\"sk-estimator sk-toggleable\"><input class=\"sk-toggleable__control sk-hidden--visually\" id=\"sk-estimator-id-5\" type=\"checkbox\" checked><label for=\"sk-estimator-id-5\" class=\"sk-toggleable__label sk-toggleable__label-arrow\">RandomForestClassifier</label><div class=\"sk-toggleable__content\"><pre>RandomForestClassifier(random_state=42)</pre></div></div></div></div></div>"
            ],
            "text/plain": [
              "RandomForestClassifier(random_state=42)"
            ]
          },
          "execution_count": 152,
          "metadata": {},
          "output_type": "execute_result"
        }
      ],
      "source": [
        "# Fit the Random Forest model to the TF-IDF transformed training data\n",
        "random_forest.fit(X_train_tfidf, y_train)"
      ]
    },
    {
      "cell_type": "code",
      "execution_count": null,
      "id": "971700e9",
      "metadata": {
        "id": "971700e9",
        "outputId": "e91c2a5e-7357-4bbb-cd15-d67914067ca8"
      },
      "outputs": [
        {
          "data": {
            "text/plain": [
              "array([2, 1, 2, ..., 0, 0, 1], dtype=int64)"
            ]
          },
          "execution_count": 153,
          "metadata": {},
          "output_type": "execute_result"
        }
      ],
      "source": [
        "# Make predictions on the TF-IDF transformed test data\n",
        "y_pred_random_forest = random_forest.predict(X_test_tfidf)\n",
        "y_pred_random_forest"
      ]
    },
    {
      "cell_type": "code",
      "execution_count": null,
      "id": "5a690540",
      "metadata": {
        "scrolled": true,
        "id": "5a690540",
        "outputId": "d73c1255-90aa-41a0-cf67-62b7701e9a0f"
      },
      "outputs": [
        {
          "name": "stdout",
          "output_type": "stream",
          "text": [
            "Random Forest Accuracy: 1.00\n"
          ]
        }
      ],
      "source": [
        "# Evaluate the Random Forest model's accuracy\n",
        "accuracy_random_forest = accuracy_score(y_test, y_pred_random_forest)\n",
        "print(f\"Random Forest Accuracy: {accuracy_random_forest:.2f}\")"
      ]
    },
    {
      "cell_type": "code",
      "execution_count": null,
      "id": "c5e0bb2a",
      "metadata": {
        "id": "c5e0bb2a"
      },
      "outputs": [],
      "source": [
        "from sklearn.metrics import classification_report\n",
        "from sklearn.model_selection import train_test_split\n",
        "from sklearn.linear_model import LogisticRegression"
      ]
    },
    {
      "cell_type": "code",
      "execution_count": null,
      "id": "ce0115bb",
      "metadata": {
        "id": "ce0115bb",
        "outputId": "f7a369b0-16aa-41fc-b798-56a2dc81ec73"
      },
      "outputs": [
        {
          "name": "stdout",
          "output_type": "stream",
          "text": [
            "Classification Report:\n",
            "              precision    recall  f1-score   support\n",
            "\n",
            "           0       1.00      0.98      0.99       700\n",
            "           1       0.98      1.00      0.99       665\n",
            "           2       1.00      1.00      1.00       528\n",
            "\n",
            "    accuracy                           0.99      1893\n",
            "   macro avg       0.99      0.99      0.99      1893\n",
            "weighted avg       0.99      0.99      0.99      1893\n",
            "\n"
          ]
        }
      ],
      "source": [
        "classification_rep = classification_report(y_test, y_pred_class)\n",
        "print(\"Classification Report:\")\n",
        "print(classification_rep)"
      ]
    },
    {
      "cell_type": "markdown",
      "id": "e3042207",
      "metadata": {
        "id": "e3042207"
      },
      "source": [
        "`MultinomialNB Model:`\n",
        "    \n",
        "`Accuracy: 92.71%\n",
        "Confusion Matrix:\n",
        "Some misclassifications between 'Thyroid Cancer' and 'Colon Cancer.'`\n",
        "\n"
      ]
    },
    {
      "cell_type": "markdown",
      "id": "a4e5735d",
      "metadata": {
        "id": "a4e5735d"
      },
      "source": [
        "`Logistic Regression Model:`\n",
        "\n",
        "`Accuracy: 99.42%\n",
        "Confusion Matrix:\n",
        "Highly accurate classification, with very few misclassifications.\n",
        "'Thyroid Cancer' and 'Colon Cancer' are perfectly classified.`\n"
      ]
    },
    {
      "cell_type": "markdown",
      "id": "60aeddff",
      "metadata": {
        "id": "60aeddff"
      },
      "source": [
        "`Decision Tree Model:`\n",
        "\n",
        "`Accuracy: 100.00%\n",
        "Classification Report:\n",
        "Precision, recall, and F1-score are all very high, indicating perfect classification.\n",
        "Achieves 100% accuracy across all classes.`"
      ]
    },
    {
      "cell_type": "markdown",
      "id": "91ad3c7f",
      "metadata": {
        "id": "91ad3c7f"
      },
      "source": [
        "`Random Forest Model:`\n",
        "\n",
        "`Accuracy: 100.00%\n",
        "Classification Report:\n",
        "Precision, recall, and F1-score are all very high, indicating perfect classification.\n",
        "Achieves 100% accuracy across all classes.`"
      ]
    },
    {
      "cell_type": "markdown",
      "id": "0dd3dff3",
      "metadata": {
        "id": "0dd3dff3"
      },
      "source": [
        "# Interpretation:"
      ]
    },
    {
      "cell_type": "markdown",
      "id": "8b43a1d8",
      "metadata": {
        "id": "8b43a1d8"
      },
      "source": [
        "Both the Decision Tree and Random Forest models achieved a perfect accuracy of 100%. This means they correctly classified all the test documents into their respective cancer categories.\n",
        "\n",
        "The Logistic Regression model also performed exceptionally well with an accuracy of 99.42%. It had very few misclassifications, and it perfectly classified 'Thyroid Cancer' and 'Colon Cancer.'\n",
        "\n",
        "The MultinomialNB model, while still performing reasonably well with 92.71% accuracy, had more misclassifications compared to the other models."
      ]
    },
    {
      "cell_type": "markdown",
      "id": "33d77684",
      "metadata": {
        "id": "33d77684"
      },
      "source": [
        "# Conclusion:"
      ]
    },
    {
      "cell_type": "markdown",
      "id": "adcc9043",
      "metadata": {
        "id": "adcc9043"
      },
      "source": [
        " the Decision Tree and Random Forest models are the best-performing models for this classification task due to their perfect accuracy. These models are likely the most robust in classifying cancer-related documents into their respective categories."
      ]
    }
  ],
  "metadata": {
    "kernelspec": {
      "display_name": "Python 3 (ipykernel)",
      "language": "python",
      "name": "python3"
    },
    "language_info": {
      "codemirror_mode": {
        "name": "ipython",
        "version": 3
      },
      "file_extension": ".py",
      "mimetype": "text/x-python",
      "name": "python",
      "nbconvert_exporter": "python",
      "pygments_lexer": "ipython3",
      "version": "3.9.12"
    },
    "colab": {
      "provenance": [],
      "include_colab_link": true
    }
  },
  "nbformat": 4,
  "nbformat_minor": 5
}