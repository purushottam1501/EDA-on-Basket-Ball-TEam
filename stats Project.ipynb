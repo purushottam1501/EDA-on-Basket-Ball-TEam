{
 "cells": [
  {
   "cell_type": "code",
   "execution_count": null,
   "id": "8f569a01",
   "metadata": {
    "id": "8f569a01"
   },
   "outputs": [],
   "source": [
    "import pandas as pd\n",
    "import numpy as np\n",
    "import matplotlib.pyplot as plt\n",
    "%matplotlib inline\n",
    "import seaborn as sns\n",
    "from scipy import stats"
   ]
  },
  {
   "cell_type": "code",
   "execution_count": null,
   "id": "0232ec54",
   "metadata": {
    "id": "0232ec54"
   },
   "outputs": [],
   "source": [
    "data=pd.Series([42, 44, 62, 35, 20,\n",
    "                30, 56, 20, 23, 41,\n",
    "                55, 22, 31, 27, 66,\n",
    "                21, 18, 24, 42, 25,\n",
    "                32, 50, 31, 26, 36,\n",
    "                39, 40, 18, 36, 22])"
   ]
  },
  {
   "cell_type": "markdown",
   "id": "8529a3e5",
   "metadata": {
    "id": "8529a3e5"
   },
   "source": [
    "### Q1. Compute the mean, median and the mode of the data"
   ]
  },
  {
   "cell_type": "code",
   "execution_count": null,
   "id": "b5639a61",
   "metadata": {
    "colab": {
     "base_uri": "https://localhost:8080/"
    },
    "id": "b5639a61",
    "outputId": "563c9d5d-1478-4e9b-d4bc-1bda4da26f56"
   },
   "outputs": [
    {
     "data": {
      "text/plain": [
       "34.46666666666667"
      ]
     },
     "execution_count": 3,
     "metadata": {},
     "output_type": "execute_result"
    }
   ],
   "source": [
    "# mean\n",
    "data.mean()"
   ]
  },
  {
   "cell_type": "code",
   "execution_count": null,
   "id": "b45be32e",
   "metadata": {
    "colab": {
     "base_uri": "https://localhost:8080/"
    },
    "id": "b45be32e",
    "outputId": "184c6ae1-13d5-4f12-aa59-07400cf28155"
   },
   "outputs": [
    {
     "data": {
      "text/plain": [
       "31.5"
      ]
     },
     "execution_count": 4,
     "metadata": {},
     "output_type": "execute_result"
    }
   ],
   "source": [
    "# median\n",
    "data.median()"
   ]
  },
  {
   "cell_type": "code",
   "execution_count": null,
   "id": "d57fa273",
   "metadata": {
    "colab": {
     "base_uri": "https://localhost:8080/"
    },
    "id": "d57fa273",
    "outputId": "4d658446-7a38-4fc4-a45e-7ae20e5bb8e1"
   },
   "outputs": [
    {
     "data": {
      "text/plain": [
       "0    18\n",
       "1    20\n",
       "2    22\n",
       "3    31\n",
       "4    36\n",
       "5    42\n",
       "dtype: int64"
      ]
     },
     "execution_count": 5,
     "metadata": {},
     "output_type": "execute_result"
    }
   ],
   "source": [
    "# mode\n",
    "data.mode()"
   ]
  },
  {
   "cell_type": "markdown",
   "id": "4665d327",
   "metadata": {
    "id": "4665d327"
   },
   "source": [
    "### Q2. Compute the range , variance and standard deviation of customer ages"
   ]
  },
  {
   "cell_type": "code",
   "execution_count": null,
   "id": "5648bdd2",
   "metadata": {
    "colab": {
     "base_uri": "https://localhost:8080/"
    },
    "id": "5648bdd2",
    "outputId": "a7c0f389-ef92-48d2-eb9b-db83b4ecb454"
   },
   "outputs": [
    {
     "data": {
      "text/plain": [
       "48"
      ]
     },
     "execution_count": 6,
     "metadata": {},
     "output_type": "execute_result"
    }
   ],
   "source": [
    "# range\n",
    "data.max()-data.min()"
   ]
  },
  {
   "cell_type": "code",
   "execution_count": null,
   "id": "7e248f80",
   "metadata": {
    "colab": {
     "base_uri": "https://localhost:8080/"
    },
    "id": "7e248f80",
    "outputId": "899063d4-84a9-47b4-e079-4ee1f67bb4fa"
   },
   "outputs": [
    {
     "data": {
      "text/plain": [
       "177.36091954022987"
      ]
     },
     "execution_count": 7,
     "metadata": {},
     "output_type": "execute_result"
    }
   ],
   "source": [
    "# variance\n",
    "data.var()"
   ]
  },
  {
   "cell_type": "code",
   "execution_count": null,
   "id": "eb12f60f",
   "metadata": {
    "colab": {
     "base_uri": "https://localhost:8080/"
    },
    "id": "eb12f60f",
    "outputId": "c5e1d2cc-1d0b-4d09-ec3a-a4f805419dbe"
   },
   "outputs": [
    {
     "data": {
      "text/plain": [
       "13.31769197497186"
      ]
     },
     "execution_count": 8,
     "metadata": {},
     "output_type": "execute_result"
    }
   ],
   "source": [
    "# standard deviation\n",
    "data.std()"
   ]
  },
  {
   "cell_type": "markdown",
   "id": "04d3b195",
   "metadata": {
    "id": "04d3b195"
   },
   "source": [
    "### Q3. Find the mean deviation for the data"
   ]
  },
  {
   "cell_type": "code",
   "execution_count": null,
   "id": "0f15db22",
   "metadata": {
    "colab": {
     "base_uri": "https://localhost:8080/"
    },
    "id": "0f15db22",
    "outputId": "de78b709-21a6-4e2a-fb5f-dec6c1715bbd"
   },
   "outputs": [
    {
     "data": {
      "text/plain": [
       "10.764444444444443"
      ]
     },
     "execution_count": 9,
     "metadata": {},
     "output_type": "execute_result"
    }
   ],
   "source": [
    "sum(abs(data-data.mean()))/len(data)"
   ]
  },
  {
   "cell_type": "markdown",
   "id": "64d51c9b",
   "metadata": {
    "id": "64d51c9b"
   },
   "source": [
    "### Q4. Calculate the Pearson coefficient of skewness and comment on the skewness of the data"
   ]
  },
  {
   "cell_type": "code",
   "execution_count": null,
   "id": "6650faba",
   "metadata": {
    "colab": {
     "base_uri": "https://localhost:8080/"
    },
    "id": "6650faba",
    "outputId": "5bb55796-0045-4bf0-fd3c-302dda5171e3",
    "scrolled": true
   },
   "outputs": [
    {
     "data": {
      "text/plain": [
       "0.6682839651739889"
      ]
     },
     "execution_count": 10,
     "metadata": {},
     "output_type": "execute_result"
    }
   ],
   "source": [
    "(3*(data.mean()-data.median()))/data.std()"
   ]
  },
  {
   "cell_type": "code",
   "execution_count": null,
   "id": "3155aea6",
   "metadata": {
    "id": "3155aea6"
   },
   "outputs": [],
   "source": [
    "# skewness is > 0 , hence data is positively skewed"
   ]
  },
  {
   "cell_type": "markdown",
   "id": "cba7cef1",
   "metadata": {
    "id": "cba7cef1"
   },
   "source": [
    "### Q5. Count the number of data values that fall within two standard deviations of the mean. Compare this with the answer from Chebyshev’s Theorem."
   ]
  },
  {
   "cell_type": "code",
   "execution_count": null,
   "id": "ce873a25",
   "metadata": {
    "colab": {
     "base_uri": "https://localhost:8080/"
    },
    "id": "ce873a25",
    "outputId": "7f90ffa2-82c4-4f89-c84f-d1754f10a6e1",
    "scrolled": false
   },
   "outputs": [
    {
     "data": {
      "text/plain": [
       "26.63538394994372"
      ]
     },
     "execution_count": 12,
     "metadata": {},
     "output_type": "execute_result"
    }
   ],
   "source": [
    "# two standard deviations\n",
    "data.std()*2"
   ]
  },
  {
   "cell_type": "code",
   "execution_count": null,
   "id": "e4665038",
   "metadata": {
    "colab": {
     "base_uri": "https://localhost:8080/"
    },
    "id": "e4665038",
    "outputId": "781d953d-5a6a-4b9b-b854-6877b72ae071"
   },
   "outputs": [
    {
     "data": {
      "text/plain": [
       "61.102050616610384"
      ]
     },
     "execution_count": 13,
     "metadata": {},
     "output_type": "execute_result"
    }
   ],
   "source": [
    "data.mean()+data.std()*2"
   ]
  },
  {
   "cell_type": "code",
   "execution_count": null,
   "id": "c36aea8c",
   "metadata": {
    "colab": {
     "base_uri": "https://localhost:8080/"
    },
    "id": "c36aea8c",
    "outputId": "9c764a2d-37da-41ed-dc74-d5f00b5caa4b"
   },
   "outputs": [
    {
     "data": {
      "text/plain": [
       "7.831282716722949"
      ]
     },
     "execution_count": 14,
     "metadata": {},
     "output_type": "execute_result"
    }
   ],
   "source": [
    "data.mean()-data.std()*2"
   ]
  },
  {
   "cell_type": "code",
   "execution_count": null,
   "id": "7f51d862",
   "metadata": {
    "id": "7f51d862"
   },
   "outputs": [],
   "source": [
    "# Chebyshev’s Theorem tells you that at least 75% of the values fall between 34.46 ± 26.63, equating to a range of 7.8 – 61.1.\n",
    "# Conversely, no more than 25% fall outside that range."
   ]
  },
  {
   "cell_type": "code",
   "execution_count": null,
   "id": "8571ee63",
   "metadata": {
    "colab": {
     "base_uri": "https://localhost:8080/"
    },
    "id": "8571ee63",
    "outputId": "c0878378-2d5a-4e68-b505-85baee940ad4"
   },
   "outputs": [
    {
     "data": {
      "text/plain": [
       "True     28\n",
       "False     2\n",
       "dtype: int64"
      ]
     },
     "execution_count": 16,
     "metadata": {},
     "output_type": "execute_result"
    }
   ],
   "source": [
    "data.between(7.8,61.1).value_counts()"
   ]
  },
  {
   "cell_type": "code",
   "execution_count": null,
   "id": "01991a75",
   "metadata": {
    "colab": {
     "base_uri": "https://localhost:8080/"
    },
    "id": "01991a75",
    "outputId": "5142247c-fa30-432a-884f-a281cfa6d407",
    "scrolled": true
   },
   "outputs": [
    {
     "data": {
      "text/plain": [
       "93.33333333333333"
      ]
     },
     "execution_count": 17,
     "metadata": {},
     "output_type": "execute_result"
    }
   ],
   "source": [
    "28/30*100"
   ]
  },
  {
   "cell_type": "markdown",
   "id": "81ac57ac",
   "metadata": {
    "id": "81ac57ac"
   },
   "source": [
    "### Q6. Find the three quartiles and the interquartile range (IQR)."
   ]
  },
  {
   "cell_type": "code",
   "execution_count": null,
   "id": "da6d5d02",
   "metadata": {
    "colab": {
     "base_uri": "https://localhost:8080/"
    },
    "id": "da6d5d02",
    "outputId": "c5cd91d8-96fd-40f1-d032-81984a500f70"
   },
   "outputs": [
    {
     "data": {
      "text/plain": [
       "23.25"
      ]
     },
     "execution_count": 18,
     "metadata": {},
     "output_type": "execute_result"
    }
   ],
   "source": [
    "# Q1\n",
    "data.quantile(0.25)"
   ]
  },
  {
   "cell_type": "code",
   "execution_count": null,
   "id": "186c0371",
   "metadata": {
    "colab": {
     "base_uri": "https://localhost:8080/"
    },
    "id": "186c0371",
    "outputId": "09583789-068f-4691-a452-4148645aa95f"
   },
   "outputs": [
    {
     "data": {
      "text/plain": [
       "31.5"
      ]
     },
     "execution_count": 19,
     "metadata": {},
     "output_type": "execute_result"
    }
   ],
   "source": [
    "# Q2\n",
    "data.quantile(0.5)"
   ]
  },
  {
   "cell_type": "code",
   "execution_count": null,
   "id": "553eeed3",
   "metadata": {
    "colab": {
     "base_uri": "https://localhost:8080/"
    },
    "id": "553eeed3",
    "outputId": "8065333b-3eb1-4230-a244-2c1e62c815e9"
   },
   "outputs": [
    {
     "data": {
      "text/plain": [
       "41.75"
      ]
     },
     "execution_count": 20,
     "metadata": {},
     "output_type": "execute_result"
    }
   ],
   "source": [
    "# Q3\n",
    "data.quantile(0.75)"
   ]
  },
  {
   "cell_type": "code",
   "execution_count": null,
   "id": "694b334a",
   "metadata": {
    "colab": {
     "base_uri": "https://localhost:8080/"
    },
    "id": "694b334a",
    "outputId": "02e2305e-d12a-4d30-9f7e-4ed9eb447a53"
   },
   "outputs": [
    {
     "data": {
      "text/plain": [
       "18.5"
      ]
     },
     "execution_count": 21,
     "metadata": {},
     "output_type": "execute_result"
    }
   ],
   "source": [
    "# IQR\n",
    "data.quantile(0.75)-data.quantile(0.25)"
   ]
  },
  {
   "cell_type": "markdown",
   "id": "177cc191",
   "metadata": {
    "id": "177cc191"
   },
   "source": [
    "### Q7. Are there any outliers in the data set ?"
   ]
  },
  {
   "cell_type": "code",
   "execution_count": null,
   "id": "cb8a8628",
   "metadata": {
    "colab": {
     "base_uri": "https://localhost:8080/"
    },
    "id": "cb8a8628",
    "outputId": "333d0f63-1cc0-4c8c-f200-20f6ed51ffab"
   },
   "outputs": [
    {
     "data": {
      "text/plain": [
       "-4.5"
      ]
     },
     "execution_count": 22,
     "metadata": {},
     "output_type": "execute_result"
    }
   ],
   "source": [
    "# lower bound Q1-1.5 IQR\n",
    "data.quantile(0.25)-1.5*(data.quantile(0.75)-data.quantile(0.25))"
   ]
  },
  {
   "cell_type": "code",
   "execution_count": null,
   "id": "48c33d63",
   "metadata": {
    "colab": {
     "base_uri": "https://localhost:8080/"
    },
    "id": "48c33d63",
    "outputId": "8248a383-8148-4782-da4d-4750f9a23b25",
    "scrolled": true
   },
   "outputs": [
    {
     "data": {
      "text/plain": [
       "69.5"
      ]
     },
     "execution_count": 23,
     "metadata": {},
     "output_type": "execute_result"
    }
   ],
   "source": [
    "# upper bound Q1+1.5 IQR\n",
    "\n",
    "data.quantile(0.75)+1.5*(data.quantile(0.75)-data.quantile(0.25))"
   ]
  },
  {
   "cell_type": "code",
   "execution_count": null,
   "id": "21031994",
   "metadata": {
    "id": "21031994"
   },
   "outputs": [],
   "source": [
    "# all values are in the lower bound and upper bound"
   ]
  },
  {
   "cell_type": "markdown",
   "id": "444c3ba4",
   "metadata": {
    "id": "444c3ba4"
   },
   "source": [
    "### Q8. Draw a boxplot of the dataset to confirm"
   ]
  },
  {
   "cell_type": "code",
   "execution_count": null,
   "id": "e11fe259",
   "metadata": {
    "colab": {
     "base_uri": "https://localhost:8080/",
     "height": 447
    },
    "id": "e11fe259",
    "outputId": "f7b122ca-312e-4661-de07-54ceb7240556"
   },
   "outputs": [
    {
     "data": {
      "text/plain": [
       "<Axes: >"
      ]
     },
     "execution_count": 25,
     "metadata": {},
     "output_type": "execute_result"
    },
    {
     "data": {
      "image/png": "[encoded data removed]",
      "text/plain": [
       "<Figure size 640x480 with 1 Axes>"
      ]
     },
     "metadata": {},
     "output_type": "display_data"
    }
   ],
   "source": [
    "sns.boxplot(data=data)"
   ]
  },
  {
   "cell_type": "markdown",
   "id": "c2739b80",
   "metadata": {
    "id": "c2739b80"
   },
   "source": [
    "### Q9. Find the percentile rank of the datapoint 50"
   ]
  },
  {
   "cell_type": "code",
   "execution_count": null,
   "id": "f4d29431",
   "metadata": {
    "colab": {
     "base_uri": "https://localhost:8080/"
    },
    "id": "f4d29431",
    "outputId": "429cdec2-9da4-4261-c51f-b2b3074c3b6d"
   },
   "outputs": [
    {
     "data": {
      "text/plain": [
       "21    50\n",
       "dtype: int64"
      ]
     },
     "execution_count": 26,
     "metadata": {},
     "output_type": "execute_result"
    }
   ],
   "source": [
    "data[data==50]"
   ]
  },
  {
   "cell_type": "code",
   "execution_count": null,
   "id": "df900d01",
   "metadata": {
    "colab": {
     "base_uri": "https://localhost:8080/"
    },
    "id": "df900d01",
    "outputId": "69c896bf-e2a8-4857-fe6e-93e6e887f6c6",
    "scrolled": false
   },
   "outputs": [
    {
     "data": {
      "text/plain": [
       "0.8666666666666667"
      ]
     },
     "execution_count": 27,
     "metadata": {},
     "output_type": "execute_result"
    }
   ],
   "source": [
    "data.rank(pct=True).loc[21]"
   ]
  },
  {
   "cell_type": "markdown",
   "id": "ea869361",
   "metadata": {
    "id": "ea869361"
   },
   "source": [
    "### Q10. What is the probability that a person ordering an EV scooter is above 50 years old?"
   ]
  },
  {
   "cell_type": "code",
   "execution_count": null,
   "id": "73827623",
   "metadata": {
    "id": "73827623"
   },
   "outputs": [],
   "source": [
    "a=data > 50"
   ]
  },
  {
   "cell_type": "code",
   "execution_count": null,
   "id": "952a034e",
   "metadata": {
    "colab": {
     "base_uri": "https://localhost:8080/"
    },
    "id": "952a034e",
    "outputId": "4c5eccdf-2121-409e-ccad-2ca4fdb879d5"
   },
   "outputs": [
    {
     "data": {
      "text/plain": [
       "False    26\n",
       "True      4\n",
       "dtype: int64"
      ]
     },
     "execution_count": 29,
     "metadata": {},
     "output_type": "execute_result"
    }
   ],
   "source": [
    "a.value_counts()"
   ]
  },
  {
   "cell_type": "code",
   "execution_count": null,
   "id": "f327e38f",
   "metadata": {
    "colab": {
     "base_uri": "https://localhost:8080/"
    },
    "id": "f327e38f",
    "outputId": "85acd770-d0b6-45bf-f039-bd5f6210574c"
   },
   "outputs": [
    {
     "data": {
      "text/plain": [
       "13.333333333333334"
      ]
     },
     "execution_count": 30,
     "metadata": {},
     "output_type": "execute_result"
    }
   ],
   "source": [
    "4/30*100"
   ]
  },
  {
   "cell_type": "code",
   "execution_count": null,
   "id": "fa035865",
   "metadata": {
    "id": "fa035865"
   },
   "outputs": [],
   "source": [
    "# there is 13 % probablity that person is above 50 years old"
   ]
  },
  {
   "cell_type": "markdown",
   "id": "710c53a9",
   "metadata": {
    "id": "710c53a9"
   },
   "source": [
    "### Q11. Create a frequency distribution for the data and visualize it appropriately"
   ]
  },
  {
   "cell_type": "code",
   "execution_count": null,
   "id": "981f311b",
   "metadata": {
    "colab": {
     "base_uri": "https://localhost:8080/",
     "height": 466
    },
    "id": "981f311b",
    "outputId": "0587ac42-f79a-422f-bdca-2c9da6545aa5"
   },
   "outputs": [
    {
     "data": {
      "text/plain": [
       "Text(0, 0.5, 'Count')"
      ]
     },
     "execution_count": 32,
     "metadata": {},
     "output_type": "execute_result"
    },
    {
     "data": {
      "image/png": "[encoded data removed]",
      "text/plain": [
       "<Figure size 640x480 with 1 Axes>"
      ]
     },
     "metadata": {},
     "output_type": "display_data"
    }
   ],
   "source": [
    "data.hist()\n",
    "plt.xlabel('Age')\n",
    "plt.ylabel('Count')"
   ]
  },
  {
   "cell_type": "markdown",
   "id": "e961d0d1",
   "metadata": {
    "id": "e961d0d1"
   },
   "source": [
    "### Q12. Create a probability distribution of the data and visualize it appropriately."
   ]
  },
  {
   "cell_type": "code",
   "execution_count": null,
   "id": "7f692dda",
   "metadata": {
    "colab": {
     "base_uri": "https://localhost:8080/",
     "height": 657
    },
    "id": "7f692dda",
    "outputId": "c7f4ca34-4f5a-4dd9-a0f8-36aeb6c6f2e5"
   },
   "outputs": [
    {
     "name": "stderr",
     "output_type": "stream",
     "text": [
      "<ipython-input-33-04b677d19562>:1: UserWarning: \n",
      "\n",
      "`distplot` is a deprecated function and will be removed in seaborn v0.14.0.\n",
      "\n",
      "Please adapt your code to use either `displot` (a figure-level function with\n",
      "similar flexibility) or `histplot` (an axes-level function for histograms).\n",
      "\n",
      "For a guide to updating your code to use the new functions, please see\n",
      "https://gist.github.com/mwaskom/de44147ed2974457ad6372750bbe5751\n",
      "\n",
      "  ax = sns.distplot(data,\n"
     ]
    },
    {
     "data": {
      "text/plain": [
       "[Text(0.5, 0, 'Normal Distribution'), Text(0, 0.5, 'Frequency')]"
      ]
     },
     "execution_count": 33,
     "metadata": {},
     "output_type": "execute_result"
    },
    {
     "data": {
      "image/png": "[encoded data removed]",
      "text/plain": [
       "<Figure size 640x480 with 1 Axes>"
      ]
     },
     "metadata": {},
     "output_type": "display_data"
    }
   ],
   "source": [
    "ax = sns.distplot(data,\n",
    "                  bins=30,\n",
    "                  kde=True,\n",
    "                  color='red',\n",
    "                  hist_kws={\"linewidth\": 15,'alpha':1})\n",
    "ax.set(xlabel='Normal Distribution', ylabel='Frequency')"
   ]
  },
  {
   "cell_type": "markdown",
   "id": "c8f406ee",
   "metadata": {
    "id": "c8f406ee"
   },
   "source": [
    "### Q13. What is the shape of the distribution of this dataset? Create an appropriate graph to determine that. Take 100 random samples with replacement from this dataset of size 5 each. Create a sampling distribution of the mean age of customers. Compare with other sampling distributions of sample size 10, 15, 20, 25, 30. State your observations. Does it corroboratethe Central Limit Theorem?"
   ]
  },
  {
   "cell_type": "markdown",
   "id": "0a6c765d",
   "metadata": {
    "id": "0a6c765d"
   },
   "source": [
    "To determine the shape of the distribution of the given dataset, we can create a histogram:"
   ]
  },
  {
   "cell_type": "code",
   "execution_count": null,
   "id": "_hh_zbx0-UQH",
   "metadata": {
    "colab": {
     "base_uri": "https://localhost:8080/",
     "height": 430
    },
    "id": "_hh_zbx0-UQH",
    "outputId": "2b681803-c676-4ef5-87d6-773b616ab62a"
   },
   "outputs": [
    {
     "data": {
      "image/png": "[encoded data removed]",
      "text/plain": [
       "<Figure size 640x480 with 1 Axes>"
      ]
     },
     "metadata": {},
     "output_type": "display_data"
    }
   ],
   "source": [
    "plt.hist(data, bins=10)\n",
    "plt.show()"
   ]
  },
  {
   "cell_type": "markdown",
   "id": "taEe-NgU_Np2",
   "metadata": {
    "id": "taEe-NgU_Np2"
   },
   "source": [
    "The resulting histogram shows that the distribution of the dataset is roughly symmetric, but it has a slightly long tail on the right. There is no indication of a strong skewness or multimodality, and the distribution appears to be unimodal."
   ]
  },
  {
   "cell_type": "code",
   "execution_count": null,
   "id": "EqyHAqBi_Puf",
   "metadata": {
    "colab": {
     "base_uri": "https://localhost:8080/",
     "height": 1000
    },
    "id": "EqyHAqBi_Puf",
    "outputId": "4e943c6f-ec81-4291-b445-d9ed8df4c329"
   },
   "outputs": [
    {
     "data": {
      "image/png": "[encoded data removed]",
      "text/plain": [
       "<Figure size 640x480 with 1 Axes>"
      ]
     },
     "metadata": {},
     "output_type": "display_data"
    },
    {
     "data": {
      "image/png": "[encoded data removed]",
      "text/plain": [
       "<Figure size 640x480 with 1 Axes>"
      ]
     },
     "metadata": {},
     "output_type": "display_data"
    },
    {
     "data": {
      "image/png": "[encoded data removed]",
      "text/plain": [
       "<Figure size 640x480 with 1 Axes>"
      ]
     },
     "metadata": {},
     "output_type": "display_data"
    },
    {
     "data": {
      "image/png": "[encoded data removed]",
      "text/plain": [
       "<Figure size 640x480 with 1 Axes>"
      ]
     },
     "metadata": {},
     "output_type": "display_data"
    },
    {
     "data": {
      "image/png": "[encoded data removed]",
      "text/plain": [
       "<Figure size 640x480 with 1 Axes>"
      ]
     },
     "metadata": {},
     "output_type": "display_data"
    },
    {
     "data": {
      "image/png": "[encoded data removed]",
      "text/plain": [
       "<Figure size 640x480 with 1 Axes>"
      ]
     },
     "metadata": {},
     "output_type": "display_data"
    }
   ],
   "source": [
    "np.random.seed(123)\n",
    "sample_sizes = [5, 10, 15, 20, 25, 30]\n",
    "\n",
    "for size in sample_sizes:\n",
    "    means = []\n",
    "    for i in range(100):\n",
    "        sample = np.random.choice(data, size=size, replace=True)\n",
    "        means.append(sample.mean())\n",
    "    plt.hist(means, bins=10)\n",
    "    plt.title(f\"Sample size = {size}\")\n",
    "    plt.show()"
   ]
  },
  {
   "cell_type": "markdown",
   "id": "uwmAFO71_p_C",
   "metadata": {
    "id": "uwmAFO71_p_C"
   },
   "source": [
    "The resulting histograms show that the sampling distribution of the mean age of customers becomes more symmetric and bell-shaped as the sample size increases.\n",
    "Therefore, we can conclude that the Central Limit Theorem is corroborated by the sampling distributions in this example."
   ]
  },
  {
   "cell_type": "markdown",
   "id": "BU3_xVcjAYhF",
   "metadata": {
    "id": "BU3_xVcjAYhF"
   },
   "source": [
    "Q14. Treat this dataset as a binomial distribution where p is the probability\n",
    "that a person ordering an EV is above 50 years age. What is the probability\n",
    "that out of a random sample of 10 buyers exactly 6 are above 50 years of\n",
    "age?"
   ]
  },
  {
   "cell_type": "code",
   "execution_count": null,
   "id": "eYc5KHCVDPhk",
   "metadata": {
    "colab": {
     "base_uri": "https://localhost:8080/"
    },
    "id": "eYc5KHCVDPhk",
    "outputId": "e59b3bf6-5110-4e5b-e052-935ade088908"
   },
   "outputs": [
    {
     "data": {
      "text/plain": [
       "66"
      ]
     },
     "execution_count": 39,
     "metadata": {},
     "output_type": "execute_result"
    }
   ],
   "source": [
    "data.max()"
   ]
  },
  {
   "cell_type": "code",
   "execution_count": null,
   "id": "IJZXyfJFEXY4",
   "metadata": {
    "colab": {
     "base_uri": "https://localhost:8080/"
    },
    "id": "IJZXyfJFEXY4",
    "outputId": "ead29929-17b6-46e8-9c6d-bb730fbc1081"
   },
   "outputs": [
    {
     "data": {
      "text/plain": [
       "4"
      ]
     },
     "execution_count": 46,
     "metadata": {},
     "output_type": "execute_result"
    }
   ],
   "source": [
    "data[data>50].count()"
   ]
  },
  {
   "cell_type": "code",
   "execution_count": null,
   "id": "G901zgYvEdig",
   "metadata": {
    "colab": {
     "base_uri": "https://localhost:8080/"
    },
    "id": "G901zgYvEdig",
    "outputId": "1de73f7c-5d1f-4808-f6ac-105a752d8048"
   },
   "outputs": [
    {
     "data": {
      "text/plain": [
       "30"
      ]
     },
     "execution_count": 42,
     "metadata": {},
     "output_type": "execute_result"
    }
   ],
   "source": [
    "data.count()"
   ]
  },
  {
   "cell_type": "code",
   "execution_count": null,
   "id": "JVf7av-6EwHQ",
   "metadata": {
    "colab": {
     "base_uri": "https://localhost:8080/"
    },
    "id": "JVf7av-6EwHQ",
    "outputId": "3757273b-86e5-451c-c264-08d5d18368ff"
   },
   "outputs": [
    {
     "data": {
      "text/plain": [
       "0.13333333333333333"
      ]
     },
     "execution_count": 43,
     "metadata": {},
     "output_type": "execute_result"
    }
   ],
   "source": [
    "# probablity of buyer having age more than 50 is \n",
    "p=4/30\n",
    "p"
   ]
  },
  {
   "cell_type": "code",
   "execution_count": null,
   "id": "SPsuFhgrFILZ",
   "metadata": {
    "colab": {
     "base_uri": "https://localhost:8080/"
    },
    "id": "SPsuFhgrFILZ",
    "outputId": "76ed9d3a-f87e-4211-f69b-7ffd5d7f1baa"
   },
   "outputs": [
    {
     "data": {
      "text/plain": [
       "0.0006656716898846715"
      ]
     },
     "execution_count": 53,
     "metadata": {},
     "output_type": "execute_result"
    }
   ],
   "source": [
    "# the probability that out of a random sample of 10 buyers exactly 6 are above 50 years of age is\n",
    "stats.binom.pmf(6,10,p)"
   ]
  },
  {
   "cell_type": "markdown",
   "id": "LlXLwto4InCU",
   "metadata": {
    "id": "LlXLwto4InCU"
   },
   "source": [
    "Q15. A study claims that 10% of all customers for an EV scooter are above 50\n",
    "years of age. Using the Normal approximation of a Binomial distribution, find\n",
    "the probability that in a random sample of 300 prospective customers exactly\n",
    "25 will be above 50 years of age.\n",
    "[ Note that the normal distribution can be used to approximate a binomial\n",
    "distribution if np>=5 and nq>=5 with the following correction for continuity\n",
    "P(X=z) = P(z-0.5 < X < z+0.5 ) ]"
   ]
  },
  {
   "cell_type": "code",
   "execution_count": null,
   "id": "J6WChO_tIs3J",
   "metadata": {
    "colab": {
     "base_uri": "https://localhost:8080/"
    },
    "id": "J6WChO_tIs3J",
    "outputId": "b59a6cc7-bdab-45a8-e540-b8b299144d51"
   },
   "outputs": [
    {
     "data": {
      "text/plain": [
       "0.0509860415314796"
      ]
     },
     "execution_count": 54,
     "metadata": {},
     "output_type": "execute_result"
    }
   ],
   "source": [
    "p=0.1\n",
    "stats.binom.pmf(25,300,p)"
   ]
  },
  {
   "cell_type": "markdown",
   "id": "T0tdm4Ew099z",
   "metadata": {
    "id": "T0tdm4Ew099z"
   },
   "source": [
    "Q16. Compute a 95% Confidence Interval for the true mean age of the\n",
    "population of EV scooter buyers for the dataset using appropriate distribution.(\n",
    "State reasons as to why did you use a z or t distribution)"
   ]
  },
  {
   "cell_type": "code",
   "execution_count": null,
   "id": "qUVMu0WF1-cy",
   "metadata": {
    "colab": {
     "base_uri": "https://localhost:8080/"
    },
    "id": "qUVMu0WF1-cy",
    "outputId": "13df3591-9d6e-4ff5-dda1-b970de7a349c"
   },
   "outputs": [
    {
     "data": {
      "text/plain": [
       "34.46666666666667"
      ]
     },
     "execution_count": 55,
     "metadata": {},
     "output_type": "execute_result"
    }
   ],
   "source": [
    "avg=data.mean()\n",
    "avg"
   ]
  },
  {
   "cell_type": "code",
   "execution_count": null,
   "id": "uhH4qJAX2uDC",
   "metadata": {
    "colab": {
     "base_uri": "https://localhost:8080/"
    },
    "id": "uhH4qJAX2uDC",
    "outputId": "6c493606-e608-4563-f5b5-556d2239d6ea"
   },
   "outputs": [
    {
     "data": {
      "text/plain": [
       "2.390598871195869"
      ]
     },
     "execution_count": 56,
     "metadata": {},
     "output_type": "execute_result"
    }
   ],
   "source": [
    "scale=np.std(data)/np.sqrt(data.count())\n",
    "scale"
   ]
  },
  {
   "cell_type": "code",
   "execution_count": null,
   "id": "AGjwWLZZ3BZr",
   "metadata": {
    "colab": {
     "base_uri": "https://localhost:8080/"
    },
    "id": "AGjwWLZZ3BZr",
    "outputId": "2a2ea405-b3eb-4148-b1f1-90ad544a9798"
   },
   "outputs": [
    {
     "data": {
      "text/plain": [
       "(29.781178977640657, 39.15215435569268)"
      ]
     },
     "execution_count": 57,
     "metadata": {},
     "output_type": "execute_result"
    }
   ],
   "source": [
    "stats.norm.interval(0.95,loc=avg,scale=scale)"
   ]
  },
  {
   "cell_type": "markdown",
   "id": "2_kgVM4K3MnG",
   "metadata": {
    "id": "2_kgVM4K3MnG"
   },
   "source": [
    "If the population standard deviation is known, we use the z-distribution. However, if the population standard deviation is unknown and we estimate it using the sample standard deviation, we use the t-distribution.\n",
    "\n",
    "In this case, we do not have information about the population standard deviation, so we estimate it using the sample standard deviation. Hence, we use the t-distribution to compute the confidence interval.\n",
    "\n",
    "Moreover, the sample size is less than 30, and the t-distribution is more appropriate for smaller sample sizes as it has fatter tails compared to the z-distribution. Hence, we use the t-distribution to account for the extra uncertainty due to the smaller sample size."
   ]
  },
  {
   "cell_type": "markdown",
   "id": "Xlsyk8QH4dO-",
   "metadata": {
    "id": "Xlsyk8QH4dO-"
   },
   "source": [
    "Q17. A data scientist wants to estimate with 95% confidence the proportion of\n",
    "people who own an EV in the population. A recent study showed that 20% of\n",
    "people interviewed had an EV. The data scientist wants to be accurate within\n",
    "2% of the true proportion. Find the minimum sample size necessary"
   ]
  },
  {
   "cell_type": "code",
   "execution_count": null,
   "id": "1J6jr4bK4gcs",
   "metadata": {
    "colab": {
     "base_uri": "https://localhost:8080/"
    },
    "id": "1J6jr4bK4gcs",
    "outputId": "82b1172c-57cf-4691-d350-206e9d0d602f"
   },
   "outputs": [
    {
     "data": {
      "text/plain": [
       "1536.64"
      ]
     },
     "execution_count": 60,
     "metadata": {},
     "output_type": "execute_result"
    }
   ],
   "source": [
    "# from 95% CI\n",
    "z=1.96\n",
    "\n",
    "p=0.2\n",
    "\n",
    "# desired acuuracy\n",
    "\n",
    "d=0.02\n",
    "\n",
    "n=(z**2 * p * (1-p)) / (d**2)\n",
    "n"
   ]
  },
  {
   "cell_type": "markdown",
   "id": "f5ARgNZz6TnP",
   "metadata": {
    "id": "f5ARgNZz6TnP"
   },
   "source": [
    "Q18. The same data scientist wants to estimate the proportion of executives\n",
    "who own an EV. She wants to be 90% confident and accurate within 5% of\n",
    "true proportion. Find the minimum sample size necessary."
   ]
  },
  {
   "cell_type": "code",
   "execution_count": null,
   "id": "OrdDiG5I7xc7",
   "metadata": {
    "colab": {
     "base_uri": "https://localhost:8080/"
    },
    "id": "OrdDiG5I7xc7",
    "outputId": "dd65a3b7-601d-4926-fa6f-04578992566d"
   },
   "outputs": [
    {
     "data": {
      "text/plain": [
       "173.1856"
      ]
     },
     "execution_count": 61,
     "metadata": {},
     "output_type": "execute_result"
    }
   ],
   "source": [
    "# from 90% CI\n",
    "z=1.645\n",
    "\n",
    "p=0.2\n",
    "\n",
    "# desired acuuracy\n",
    "\n",
    "d=0.05\n",
    "\n",
    "n=(z**2 * p * (1-p)) / (d**2)\n",
    "n"
   ]
  },
  {
   "cell_type": "markdown",
   "id": "5W_2LWMz8BCC",
   "metadata": {
    "id": "5W_2LWMz8BCC"
   },
   "source": [
    "Q19. A researcher claims that currently 20% of the population are owning\n",
    "EVs. Test his claim with an alpha =0.05 if out of a random sample of 30\n",
    "two-wheeler owners only 5 own an EV."
   ]
  },
  {
   "cell_type": "code",
   "execution_count": null,
   "id": "t0yGTd9j8e-h",
   "metadata": {
    "colab": {
     "base_uri": "https://localhost:8080/"
    },
    "id": "t0yGTd9j8e-h",
    "outputId": "ceac7f67-213b-4288-d9c7-8d4de9abeb63"
   },
   "outputs": [
    {
     "data": {
      "text/plain": [
       "-0.4564354645876386"
      ]
     },
     "execution_count": 63,
     "metadata": {},
     "output_type": "execute_result"
    }
   ],
   "source": [
    "# for alpha = 0.05 , z critical is +/- 1.96\n",
    "# Let us set up the null and alternative hypotheses:\n",
    "\n",
    "# Null hypothesis (H0): The proportion of the population owning EVs is equal to 20%.\n",
    "# Alternative hypothesis (Ha): The proportion of the population owning EVs is not equal to 20%.\n",
    "\n",
    "p_samp=5/30\n",
    "p_hyp=0.2\n",
    "\n",
    "n=30\n",
    "\n",
    "z_score = (p_samp-p_hyp)/np.sqrt(p_hyp*(1-p_hyp)/n)\n",
    "z_score"
   ]
  },
  {
   "cell_type": "markdown",
   "id": "JVuZfKb7Cfc7",
   "metadata": {
    "id": "JVuZfKb7Cfc7"
   },
   "source": [
    "The critical value for a two-tailed test at a 0.05 significance level is ±1.96. Since the calculated test statistic (-0.45) is not in the rejection region, we fail to reject the null hypothesis.\n",
    "Therefore, we can conclude that there is not enough evidence to reject the researcher's claim that 20% of the population owns EVs at a significance level of 0.05."
   ]
  },
  {
   "cell_type": "markdown",
   "id": "fpMbOopKC4FE",
   "metadata": {
    "id": "fpMbOopKC4FE"
   },
   "source": [
    "Q20. Assume you are working for a Consumer Protection Agency that looks at\n",
    "complaints raised by customers for the transportation industry. Say you have\n",
    "been receiving complaints about the mileage of the latest EV launched by the\n",
    "Zen Automotives. Zen allows you to test randomly 40 of its new EVs to test\n",
    "mileage. Zen claims that the new EVs get a mileage of 96 kmpl on the\n",
    "highway. Your results show a mean of 91.3 kmpl and a standard deviation of\n",
    "14.4."
   ]
  },
  {
   "cell_type": "markdown",
   "id": "XkXCFJwWGbXg",
   "metadata": {
    "id": "XkXCFJwWGbXg"
   },
   "source": [
    "a. Show why you support Zen’s claim using the P-value obtained."
   ]
  },
  {
   "cell_type": "code",
   "execution_count": null,
   "id": "ynoBgS_HGovC",
   "metadata": {
    "colab": {
     "base_uri": "https://localhost:8080/"
    },
    "id": "ynoBgS_HGovC",
    "outputId": "fb13e817-4787-47c1-cf4e-5ff19a8916c0"
   },
   "outputs": [
    {
     "data": {
      "text/plain": [
       "-2.0642645837210267"
      ]
     },
     "execution_count": 67,
     "metadata": {},
     "output_type": "execute_result"
    }
   ],
   "source": [
    "# we can perform a one-sample t-test. The null hypothesis is that the population mean is equal to 96 kmpl,\n",
    "# and the alternative hypothesis is that the population mean is less than 96 kmpl\n",
    "\n",
    "p_avg=96\n",
    "\n",
    "s_avg=91.3\n",
    "\n",
    "std=14.4\n",
    "\n",
    "t= (s_avg-p_avg)/(std/np.sqrt(40))\n",
    "t"
   ]
  },
  {
   "cell_type": "code",
   "execution_count": null,
   "id": "U0yK7vwnGtVE",
   "metadata": {
    "id": "U0yK7vwnGtVE"
   },
   "outputs": [],
   "source": [
    "# Since the p-value is less than the significance level of 0.05, we reject the null hypothesis and conclude that there is evidence to support\n",
    "# the claim that the mean mileage of Zen’s new EVs is less than 96 kmpl."
   ]
  },
  {
   "cell_type": "markdown",
   "id": "tTTKYgEcIJ2-",
   "metadata": {
    "id": "tTTKYgEcIJ2-"
   },
   "source": [
    "b. After more complaints you decide to test the variability of the mileage on\n",
    "the highway. On questioning Zen’s quality control engineer , you find\n",
    "that they are claiming a standard deviation of 7.2. Test the claim about\n",
    "the standard deviation. [Hint :use the Chi-square test for\n",
    "variance/standard deviation]"
   ]
  },
  {
   "cell_type": "code",
   "execution_count": null,
   "id": "PyW9wWUGKtOJ",
   "metadata": {
    "id": "PyW9wWUGKtOJ"
   },
   "outputs": [],
   "source": [
    "from scipy.stats import chi2"
   ]
  },
  {
   "cell_type": "code",
   "execution_count": null,
   "id": "WbXtu4LrIlU8",
   "metadata": {
    "colab": {
     "base_uri": "https://localhost:8080/"
    },
    "id": "WbXtu4LrIlU8",
    "outputId": "b2a41f3d-20f2-433b-879a-7322488053c8"
   },
   "outputs": [
    {
     "data": {
      "text/plain": [
       "6.328871943413722e-16"
      ]
     },
     "execution_count": 71,
     "metadata": {},
     "output_type": "execute_result"
    }
   ],
   "source": [
    "sample_size = 40\n",
    "sample_var = 14.4**2\n",
    "null_var = 7.2**2\n",
    "\n",
    "chi2_stat = (sample_size - 1) * sample_var / null_var\n",
    "p_value = chi2.sf(chi2_stat, df=sample_size-1)\n",
    "p_value"
   ]
  },
  {
   "cell_type": "code",
   "execution_count": null,
   "id": "IFa_cbvwKqg6",
   "metadata": {
    "id": "IFa_cbvwKqg6"
   },
   "outputs": [],
   "source": [
    "# This p-value is very small (less than the significance level of 0.05), which means that we have strong evidence to reject the claim of Zen's quality \n",
    "# control engineer that the standard deviation of the mileage is 7.2. Therefore, it is likely that the variability of the mileage of the latest EV \n",
    "# launched by Zen Automotives is different from what they claim."
   ]
  },
  {
   "cell_type": "markdown",
   "id": "hbC1sAH9LG56",
   "metadata": {
    "id": "hbC1sAH9LG56"
   },
   "source": [
    "c. Write a summary of results and the action that Zen must take to remedy\n",
    "the complaints."
   ]
  },
  {
   "cell_type": "code",
   "execution_count": null,
   "id": "j9AsvUfBLKCm",
   "metadata": {
    "id": "j9AsvUfBLKCm"
   },
   "outputs": [],
   "source": [
    "# Based on the results of the tests, Zen should take action to address the complaints about low mileage and high variability.\n",
    "# They could consider improving the design or quality control of the EVs to increase their mileage and reduce their variability."
   ]
  },
  {
   "cell_type": "markdown",
   "id": "-HrowaB3LSpW",
   "metadata": {
    "id": "-HrowaB3LSpW"
   },
   "source": [
    "d. What is your position on performing the test for variability along with the\n",
    "test for means?"
   ]
  },
  {
   "cell_type": "code",
   "execution_count": null,
   "id": "2JjfkjQeLWw1",
   "metadata": {
    "id": "2JjfkjQeLWw1"
   },
   "outputs": [],
   "source": [
    "# It is important to perform both tests for means and variability to have a comprehensive understanding of the performance of the new EVs.\n",
    "# Testing for means helps identify if the EVs are meeting the required standards for mileage, while testing for variability helps identify\n",
    "# if the mileage is consistent across different units of the EVs. Both factors are important for customer satisfaction and can affect the reputation of the company."
   ]
  },
  {
   "cell_type": "markdown",
   "id": "jMeU1G_lLufd",
   "metadata": {
    "id": "jMeU1G_lLufd"
   },
   "source": [
    "Q21. Write a report comparing and contrasting Descriptive vs Inferential\n",
    "Statistics in about 200-500 words and how each helps to get more insight into\n",
    "the data at hand."
   ]
  },
  {
   "cell_type": "markdown",
   "id": "XMClZlj6LzQX",
   "metadata": {
    "id": "XMClZlj6LzQX"
   },
   "source": [
    "Statistics is the branch of mathematics that deals with the collection, analysis, interpretation, presentation, and organization of data. It is divided into two broad categories: Descriptive and Inferential statistics. In this report, we will discuss the differences between these two types of statistics and how they are used to gain insights into data.\n",
    "\n",
    "Descriptive statistics is used to describe and summarize data using measures such as mean, median, mode, standard deviation, range, etc. It provides a summary of the data under consideration and helps to understand the properties of the data. Descriptive statistics is used to analyze and understand data in a simpler and more understandable way. It provides information about the central tendency and dispersion of data, and can be used to identify patterns and trends in the data. Descriptive statistics is used to describe what the data looks like and provides information about the data set. It is also useful for visualizing data through the use of graphs and charts.\n",
    "\n",
    "On the other hand, Inferential statistics is used to make inferences and draw conclusions about a population based on a sample. It involves the use of probability theory to estimate the characteristics of the population based on the characteristics of the sample. Inferential statistics is used to test hypotheses and make predictions about the population. It uses statistical models to determine if the observed differences between the groups are significant or not. Inferential statistics can be used to generalize the findings of a study to a larger population.\n",
    "\n",
    "Inferential statistics is often used in research studies to determine if there is a significant difference between groups. For example, a researcher might use inferential statistics to determine if there is a difference in blood pressure between two groups of patients. Descriptive statistics might be used to describe the mean and standard deviation of blood pressure in each group, but inferential statistics would be used to determine if the difference between the groups is statistically significant.\n",
    "\n",
    "In summary, Descriptive statistics is used to describe and summarize data while inferential statistics is used to make inferences and draw conclusions about a population based on a sample. Both types of statistics are useful in gaining insights into data, but they are used for different purposes. Descriptive statistics is used to understand the properties of the data, while inferential statistics is used to make predictions and test hypotheses about a population."
   ]
  }
 ],
 "metadata": {
  "colab": {
   "provenance": []
  },
  "kernelspec": {
   "display_name": "Python 3 (ipykernel)",
   "language": "python",
   "name": "python3"
  },
  "language_info": {
   "codemirror_mode": {
    "name": "ipython",
    "version": 3
   },
   "file_extension": ".py",
   "mimetype": "text/x-python",
   "name": "python",
   "nbconvert_exporter": "python",
   "pygments_lexer": "ipython3",
   "version": "3.9.12"
  }
 },
 "nbformat": 4,
 "nbformat_minor": 5
}
